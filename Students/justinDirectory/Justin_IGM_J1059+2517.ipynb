{
 "cells": [
  {
   "cell_type": "code",
   "execution_count": 18,
   "metadata": {
    "collapsed": true
   },
   "outputs": [],
   "source": [
    "%matplotlib inline\n",
    "\n",
    "import numpy as np\n",
    "from matplotlib import pyplot as plt\n",
    "import pandas as pd\n",
    "from pandas.tools.plotting import table\n",
    "import json\n",
    "from IPython.display import display\n",
    "import re\n"
   ]
  },
  {
   "cell_type": "code",
   "execution_count": 19,
   "metadata": {
    "collapsed": false
   },
   "outputs": [
    {
     "name": "stdout",
     "output_type": "stream",
     "text": [
      " Volume in drive C is OS\n",
      " Volume Serial Number is C0B6-74F0\n",
      "\n",
      " Directory of C:\\Users\\justin\\Documents\\GitHub\\A425_2016\\Students\\justinDirectory\n",
      "\n",
      "10/27/2016  05:11 PM    <DIR>          .\n",
      "10/27/2016  05:11 PM    <DIR>          ..\n",
      "10/27/2016  01:30 PM    <DIR>          .ipynb_checkpoints\n",
      "10/20/2016  01:20 AM             7,539 Access email.ipynb\n",
      "10/27/2016  01:24 PM           740,936 David2517Update.json\n",
      "10/25/2016  04:58 PM    <DIR>          IGM J1059+2517 - jutnlife@gmail.com - Gmail_files\n",
      "10/25/2016  04:58 PM         2,088,408 IGM J1059+2517final.html\n",
      "10/27/2016  01:28 PM            71,185 IGM_JSON_DOUG-Copy1.ipynb\n",
      "10/27/2016  04:58 PM            76,288 IGM_JSON_DOUG.ipynb\n",
      "10/25/2016  05:23 PM           827,102 IGM_model_final1.json\n",
      "10/27/2016  05:10 PM           828,445 IGM_model_master.json\n",
      "10/25/2016  04:57 PM         2,091,639 ipython notebook - jutnlife@gmail.com - Gmail.html\n",
      "10/25/2016  05:00 PM    <DIR>          ipython notebook - jutnlife@gmail.com - Gmail_files\n",
      "09/28/2016  05:49 PM                27 justin_homework1\n",
      "10/22/2016  05:50 PM            83,002 Justin_Homework_2_Revised.ipynb\n",
      "10/26/2016  07:19 PM           105,831 Justin_HW3_draft.ipynb\n",
      "10/27/2016  04:57 PM            71,219 Justin_IGM_J1059+2517.ipynb\n",
      "10/27/2016  05:08 PM         2,307,582 Master J1059+2517 spectrum analysis - jutnlife@gmail.com - Gmail.html\n",
      "10/27/2016  05:08 PM    <DIR>          Master J1059+2517 spectrum analysis - jutnlife@gmail.com - Gmail_files\n",
      "10/25/2016  05:06 PM         2,087,894 meeeeeeee - jutnlife@gmail.com - Gmail.html\n",
      "10/25/2016  05:06 PM    <DIR>          meeeeeeee - jutnlife@gmail.com - Gmail_files\n",
      "10/20/2016  12:41 AM             1,714 Scam analyzer.ipynb\n",
      "09/28/2016  03:07 PM                 7 test again\n",
      "10/22/2016  06:13 PM             2,418 testing grounds.ipynb\n",
      "10/22/2016  04:32 PM             1,429 Untitled.ipynb\n",
      "10/20/2016  12:53 AM             3,335 Untitled1.ipynb\n",
      "10/20/2016  12:56 AM             1,244 Untitled2.ipynb\n",
      "              20 File(s)     11,397,244 bytes\n",
      "               7 Dir(s)  860,296,200,192 bytes free\n"
     ]
    }
   ],
   "source": [
    "!dir\n"
   ]
  },
  {
   "cell_type": "code",
   "execution_count": 20,
   "metadata": {
    "collapsed": false
   },
   "outputs": [],
   "source": [
    "#Load in file\n",
    "\n",
    "#with open('J1553+3548_IGM.json') as data_file:    \n",
    "    #data = json.load(data_file)\n",
    "    \n",
    "with open('IGM_model_master.json') as data_file:    \n",
    "    data = json.load(data_file)"
   ]
  },
  {
   "cell_type": "code",
   "execution_count": 21,
   "metadata": {
    "collapsed": false
   },
   "outputs": [],
   "source": [
    "#Read in data from file, identify systems and components\n",
    "\n",
    "systems=['z0.00000_MW']\n",
    "components=[]\n",
    "\n",
    "\n",
    "for cmp in data[\"cmps\"]:\n",
    "    cmp_dict=data[\"cmps\"][str(cmp)]\n",
    "    cmp_data=''\n",
    "    if cmp[-2:]==\"HI\":\n",
    "        systems.append(str(cmp))\n",
    "    cmp_data+=str(cmp)+';'\n",
    "    cmp_data+=str(cmp_dict[\"Reliability\"])+';'\n",
    "    if cmp_dict[\"Comment\"]=='':\n",
    "        cmp_data+='None;'\n",
    "    else:\n",
    "        cmp_data+=str(cmp_dict[\"Comment\"])+';'\n",
    "    cmp_data+=str(cmp_dict[\"Nfit\"])+';'\n",
    "    cmp_data+=str(cmp_dict[\"bfit\"])+';'\n",
    "    components.append(cmp_data)"
   ]
  },
  {
   "cell_type": "code",
   "execution_count": 22,
   "metadata": {
    "collapsed": false
   },
   "outputs": [
    {
     "name": "stdout",
     "output_type": "stream",
     "text": [
      "['z0.00000_MW', 'z0.02045_HI', 'z0.02093_HI', 'z0.03235_HI', 'z0.03632_HI', 'z0.05148_HI', 'z0.07881_HI', 'z0.08285_HI', 'z0.10310_HI', 'z0.11873_HI', 'z0.12308_HI', 'z0.12806_HI', 'z0.15421_HI', 'z0.18314_HI', 'z0.20495_HI', 'z0.20799_HI', 'z0.21486_HI', 'z0.21562_HI', 'z0.24550_HI', 'z0.26334_HI', 'z0.26368_HI', 'z0.28124_HI', 'z0.29231_HI', 'z0.29768_HI', 'z0.30026_HI', 'z0.32949_HI', 'z0.34439_HI', 'z0.35996_HI', 'z0.37640_HI', 'z0.38116_HI', 'z0.39082_HI', 'z0.39291_HI', 'z0.40101_HI', 'z0.40388_HI', 'z0.41078_HI', 'z0.41230_HI', 'z0.41495_HI', 'z0.42004_HI', 'z0.42333_HI', 'z0.43872_HI', 'z0.44870_HI', 'z0.44942_HI', 'z0.45216_HI', 'z0.46012_HI', 'z0.54909_HI']\n"
     ]
    }
   ],
   "source": [
    "#Sort systems by redshift\n",
    "\n",
    "def atoi(text):\n",
    "    return int(text) if text.isdigit() else text\n",
    "\n",
    "def natural_keys(text):\n",
    "    return [ atoi(c) for c in re.split('(\\d+)', text) ]\n",
    "\n",
    "\n",
    "systems.sort(key=natural_keys)\n",
    "print(systems)\n",
    "\n",
    "#for system in systems[1:]:\n",
    "    #for line in data[\"cmps\"][system][\"lines\"].keys():\n",
    "        #print line"
   ]
  },
  {
   "cell_type": "code",
   "execution_count": 23,
   "metadata": {
    "collapsed": false,
    "scrolled": false
   },
   "outputs": [
    {
     "name": "stdout",
     "output_type": "stream",
     "text": [
      "===================================================\n",
      "System: z0.00000_MW\n",
      "===================================================\n"
     ]
    },
    {
     "data": {
      "text/html": [
       "<div>\n",
       "<table border=\"1\" class=\"dataframe\">\n",
       "  <thead>\n",
       "    <tr style=\"text-align: right;\">\n",
       "      <th></th>\n",
       "      <th>Component</th>\n",
       "      <th>Column Density (N)</th>\n",
       "      <th>Doppler Profile (b)</th>\n",
       "      <th>Reliability</th>\n",
       "      <th>Comment</th>\n",
       "    </tr>\n",
       "  </thead>\n",
       "  <tbody>\n",
       "    <tr>\n",
       "      <th>0</th>\n",
       "      <td>z-0.00010_SII</td>\n",
       "      <td>15.18</td>\n",
       "      <td>27.5</td>\n",
       "      <td>a</td>\n",
       "      <td>mw</td>\n",
       "    </tr>\n",
       "    <tr>\n",
       "      <th>1</th>\n",
       "      <td>z0.00000_CIV</td>\n",
       "      <td>14.06</td>\n",
       "      <td>54.7</td>\n",
       "      <td>a</td>\n",
       "      <td>mw</td>\n",
       "    </tr>\n",
       "    <tr>\n",
       "      <th>2</th>\n",
       "      <td>z-0.00013_CII</td>\n",
       "      <td>15.34</td>\n",
       "      <td>44.4</td>\n",
       "      <td>c</td>\n",
       "      <td>should bu multi, but only one strong single, mw</td>\n",
       "    </tr>\n",
       "    <tr>\n",
       "      <th>3</th>\n",
       "      <td>z-0.00002_NI</td>\n",
       "      <td>14.89</td>\n",
       "      <td>28.9</td>\n",
       "      <td>None</td>\n",
       "      <td>None</td>\n",
       "    </tr>\n",
       "    <tr>\n",
       "      <th>4</th>\n",
       "      <td>z-0.00005_SiIV</td>\n",
       "      <td>13.45</td>\n",
       "      <td>56.2</td>\n",
       "      <td>a</td>\n",
       "      <td>mw</td>\n",
       "    </tr>\n",
       "    <tr>\n",
       "      <th>5</th>\n",
       "      <td>z-0.00014_FeII</td>\n",
       "      <td>14.58</td>\n",
       "      <td>45.7</td>\n",
       "      <td>a</td>\n",
       "      <td>mw</td>\n",
       "    </tr>\n",
       "    <tr>\n",
       "      <th>6</th>\n",
       "      <td>z0.00001_SiIII</td>\n",
       "      <td>13.87</td>\n",
       "      <td>59.4</td>\n",
       "      <td>a</td>\n",
       "      <td>mw</td>\n",
       "    </tr>\n",
       "    <tr>\n",
       "      <th>7</th>\n",
       "      <td>z-0.00001_SiII</td>\n",
       "      <td>14.51</td>\n",
       "      <td>40.0</td>\n",
       "      <td>None</td>\n",
       "      <td>None</td>\n",
       "    </tr>\n",
       "    <tr>\n",
       "      <th>8</th>\n",
       "      <td>z-0.00006_AlII</td>\n",
       "      <td>13.51</td>\n",
       "      <td>67.0</td>\n",
       "      <td>a</td>\n",
       "      <td>mw</td>\n",
       "    </tr>\n",
       "  </tbody>\n",
       "</table>\n",
       "</div>"
      ],
      "text/plain": [
       "        Component Column Density (N) Doppler Profile (b) Reliability  \\\n",
       "0   z-0.00010_SII              15.18                27.5           a   \n",
       "1    z0.00000_CIV              14.06                54.7           a   \n",
       "2   z-0.00013_CII              15.34                44.4           c   \n",
       "3    z-0.00002_NI              14.89                28.9        None   \n",
       "4  z-0.00005_SiIV              13.45                56.2           a   \n",
       "5  z-0.00014_FeII              14.58                45.7           a   \n",
       "6  z0.00001_SiIII              13.87                59.4           a   \n",
       "7  z-0.00001_SiII              14.51                40.0        None   \n",
       "8  z-0.00006_AlII              13.51                67.0           a   \n",
       "\n",
       "                                           Comment  \n",
       "0                                               mw  \n",
       "1                                               mw  \n",
       "2  should bu multi, but only one strong single, mw  \n",
       "3                                             None  \n",
       "4                                               mw  \n",
       "5                                               mw  \n",
       "6                                               mw  \n",
       "7                                             None  \n",
       "8                                               mw  "
      ]
     },
     "metadata": {},
     "output_type": "display_data"
    },
    {
     "name": "stdout",
     "output_type": "stream",
     "text": [
      "===================================================\n",
      "System: z0.02045_HI\n",
      "===================================================\n"
     ]
    },
    {
     "data": {
      "text/html": [
       "<div>\n",
       "<table border=\"1\" class=\"dataframe\">\n",
       "  <thead>\n",
       "    <tr style=\"text-align: right;\">\n",
       "      <th></th>\n",
       "      <th>Component</th>\n",
       "      <th>Column Density (N)</th>\n",
       "      <th>Doppler Profile (b)</th>\n",
       "      <th>Reliability</th>\n",
       "      <th>Comment</th>\n",
       "    </tr>\n",
       "  </thead>\n",
       "  <tbody>\n",
       "    <tr>\n",
       "      <th>0</th>\n",
       "      <td>z0.02045_HI</td>\n",
       "      <td>13.4</td>\n",
       "      <td>21.1</td>\n",
       "      <td>c</td>\n",
       "      <td>lya no + data</td>\n",
       "    </tr>\n",
       "    <tr>\n",
       "      <th>1</th>\n",
       "      <td>z0.02093_HI</td>\n",
       "      <td>14.38</td>\n",
       "      <td>41.2</td>\n",
       "      <td>c</td>\n",
       "      <td>lya no + data</td>\n",
       "    </tr>\n",
       "  </tbody>\n",
       "</table>\n",
       "</div>"
      ],
      "text/plain": [
       "     Component Column Density (N) Doppler Profile (b) Reliability  \\\n",
       "0  z0.02045_HI               13.4                21.1           c   \n",
       "1  z0.02093_HI              14.38                41.2           c   \n",
       "\n",
       "         Comment  \n",
       "0  lya no + data  \n",
       "1  lya no + data  "
      ]
     },
     "metadata": {},
     "output_type": "display_data"
    },
    {
     "name": "stdout",
     "output_type": "stream",
     "text": [
      "===================================================\n",
      "System: z0.02093_HI\n",
      "===================================================\n"
     ]
    },
    {
     "data": {
      "text/html": [
       "<div>\n",
       "<table border=\"1\" class=\"dataframe\">\n",
       "  <thead>\n",
       "    <tr style=\"text-align: right;\">\n",
       "      <th></th>\n",
       "      <th>Component</th>\n",
       "      <th>Column Density (N)</th>\n",
       "      <th>Doppler Profile (b)</th>\n",
       "      <th>Reliability</th>\n",
       "      <th>Comment</th>\n",
       "    </tr>\n",
       "  </thead>\n",
       "  <tbody>\n",
       "    <tr>\n",
       "      <th>0</th>\n",
       "      <td>z0.02045_HI</td>\n",
       "      <td>13.4</td>\n",
       "      <td>21.1</td>\n",
       "      <td>c</td>\n",
       "      <td>lya no + data</td>\n",
       "    </tr>\n",
       "    <tr>\n",
       "      <th>1</th>\n",
       "      <td>z0.02093_HI</td>\n",
       "      <td>14.38</td>\n",
       "      <td>41.2</td>\n",
       "      <td>c</td>\n",
       "      <td>lya no + data</td>\n",
       "    </tr>\n",
       "  </tbody>\n",
       "</table>\n",
       "</div>"
      ],
      "text/plain": [
       "     Component Column Density (N) Doppler Profile (b) Reliability  \\\n",
       "0  z0.02045_HI               13.4                21.1           c   \n",
       "1  z0.02093_HI              14.38                41.2           c   \n",
       "\n",
       "         Comment  \n",
       "0  lya no + data  \n",
       "1  lya no + data  "
      ]
     },
     "metadata": {},
     "output_type": "display_data"
    },
    {
     "name": "stdout",
     "output_type": "stream",
     "text": [
      "===================================================\n",
      "System: z0.03235_HI\n",
      "===================================================\n"
     ]
    },
    {
     "data": {
      "text/html": [
       "<div>\n",
       "<table border=\"1\" class=\"dataframe\">\n",
       "  <thead>\n",
       "    <tr style=\"text-align: right;\">\n",
       "      <th></th>\n",
       "      <th>Component</th>\n",
       "      <th>Column Density (N)</th>\n",
       "      <th>Doppler Profile (b)</th>\n",
       "      <th>Reliability</th>\n",
       "      <th>Comment</th>\n",
       "    </tr>\n",
       "  </thead>\n",
       "  <tbody>\n",
       "    <tr>\n",
       "      <th>0</th>\n",
       "      <td>z0.03235_HI</td>\n",
       "      <td>13.37</td>\n",
       "      <td>1.0</td>\n",
       "      <td>c</td>\n",
       "      <td>lya, weak, no + data</td>\n",
       "    </tr>\n",
       "  </tbody>\n",
       "</table>\n",
       "</div>"
      ],
      "text/plain": [
       "     Component Column Density (N) Doppler Profile (b) Reliability  \\\n",
       "0  z0.03235_HI              13.37                 1.0           c   \n",
       "\n",
       "                Comment  \n",
       "0  lya, weak, no + data  "
      ]
     },
     "metadata": {},
     "output_type": "display_data"
    },
    {
     "name": "stdout",
     "output_type": "stream",
     "text": [
      "===================================================\n",
      "System: z0.03632_HI\n",
      "===================================================\n"
     ]
    },
    {
     "data": {
      "text/html": [
       "<div>\n",
       "<table border=\"1\" class=\"dataframe\">\n",
       "  <thead>\n",
       "    <tr style=\"text-align: right;\">\n",
       "      <th></th>\n",
       "      <th>Component</th>\n",
       "      <th>Column Density (N)</th>\n",
       "      <th>Doppler Profile (b)</th>\n",
       "      <th>Reliability</th>\n",
       "      <th>Comment</th>\n",
       "    </tr>\n",
       "  </thead>\n",
       "  <tbody>\n",
       "    <tr>\n",
       "      <th>0</th>\n",
       "      <td>z0.03632_HI</td>\n",
       "      <td>14.3</td>\n",
       "      <td>39.6</td>\n",
       "      <td>c</td>\n",
       "      <td>LYA, singlet, OOR</td>\n",
       "    </tr>\n",
       "    <tr>\n",
       "      <th>1</th>\n",
       "      <td>z0.03649_TlII</td>\n",
       "      <td>12.71</td>\n",
       "      <td>18.3</td>\n",
       "      <td>b</td>\n",
       "      <td>singlet, in uncertain galaxy</td>\n",
       "    </tr>\n",
       "  </tbody>\n",
       "</table>\n",
       "</div>"
      ],
      "text/plain": [
       "       Component Column Density (N) Doppler Profile (b) Reliability  \\\n",
       "0    z0.03632_HI               14.3                39.6           c   \n",
       "1  z0.03649_TlII              12.71                18.3           b   \n",
       "\n",
       "                        Comment  \n",
       "0             LYA, singlet, OOR  \n",
       "1  singlet, in uncertain galaxy  "
      ]
     },
     "metadata": {},
     "output_type": "display_data"
    },
    {
     "name": "stdout",
     "output_type": "stream",
     "text": [
      "===================================================\n",
      "System: z0.05148_HI\n",
      "===================================================\n"
     ]
    },
    {
     "data": {
      "text/html": [
       "<div>\n",
       "<table border=\"1\" class=\"dataframe\">\n",
       "  <thead>\n",
       "    <tr style=\"text-align: right;\">\n",
       "      <th></th>\n",
       "      <th>Component</th>\n",
       "      <th>Column Density (N)</th>\n",
       "      <th>Doppler Profile (b)</th>\n",
       "      <th>Reliability</th>\n",
       "      <th>Comment</th>\n",
       "    </tr>\n",
       "  </thead>\n",
       "  <tbody>\n",
       "    <tr>\n",
       "      <th>0</th>\n",
       "      <td>z0.05148_HI</td>\n",
       "      <td>13.84</td>\n",
       "      <td>34.2</td>\n",
       "      <td>c</td>\n",
       "      <td>single LYA, OOR</td>\n",
       "    </tr>\n",
       "    <tr>\n",
       "      <th>1</th>\n",
       "      <td>z0.05173_SiIV</td>\n",
       "      <td>13.11</td>\n",
       "      <td>46.1</td>\n",
       "      <td>b</td>\n",
       "      <td>in uncertain galaxy, doublet</td>\n",
       "    </tr>\n",
       "  </tbody>\n",
       "</table>\n",
       "</div>"
      ],
      "text/plain": [
       "       Component Column Density (N) Doppler Profile (b) Reliability  \\\n",
       "0    z0.05148_HI              13.84                34.2           c   \n",
       "1  z0.05173_SiIV              13.11                46.1           b   \n",
       "\n",
       "                        Comment  \n",
       "0               single LYA, OOR  \n",
       "1  in uncertain galaxy, doublet  "
      ]
     },
     "metadata": {},
     "output_type": "display_data"
    },
    {
     "name": "stdout",
     "output_type": "stream",
     "text": [
      "===================================================\n",
      "System: z0.07881_HI\n",
      "===================================================\n"
     ]
    },
    {
     "data": {
      "text/html": [
       "<div>\n",
       "<table border=\"1\" class=\"dataframe\">\n",
       "  <thead>\n",
       "    <tr style=\"text-align: right;\">\n",
       "      <th></th>\n",
       "      <th>Component</th>\n",
       "      <th>Column Density (N)</th>\n",
       "      <th>Doppler Profile (b)</th>\n",
       "      <th>Reliability</th>\n",
       "      <th>Comment</th>\n",
       "    </tr>\n",
       "  </thead>\n",
       "  <tbody>\n",
       "    <tr>\n",
       "      <th>0</th>\n",
       "      <td>z0.07891_SiIV</td>\n",
       "      <td>13.18</td>\n",
       "      <td>39.9</td>\n",
       "      <td>b</td>\n",
       "      <td>in uncertain galaxy, doublet</td>\n",
       "    </tr>\n",
       "    <tr>\n",
       "      <th>1</th>\n",
       "      <td>z0.07885_CuII</td>\n",
       "      <td>13.38</td>\n",
       "      <td>45.5</td>\n",
       "      <td>c</td>\n",
       "      <td>Cu2 Si4  at .05173 toss up</td>\n",
       "    </tr>\n",
       "    <tr>\n",
       "      <th>2</th>\n",
       "      <td>z0.07891_CII</td>\n",
       "      <td>13.86</td>\n",
       "      <td>37.7</td>\n",
       "      <td>b</td>\n",
       "      <td>None</td>\n",
       "    </tr>\n",
       "    <tr>\n",
       "      <th>3</th>\n",
       "      <td>z0.07881_HI</td>\n",
       "      <td>14.72</td>\n",
       "      <td>57.9</td>\n",
       "      <td>c</td>\n",
       "      <td>single LYA, OOR, strong</td>\n",
       "    </tr>\n",
       "  </tbody>\n",
       "</table>\n",
       "</div>"
      ],
      "text/plain": [
       "       Component Column Density (N) Doppler Profile (b) Reliability  \\\n",
       "0  z0.07891_SiIV              13.18                39.9           b   \n",
       "1  z0.07885_CuII              13.38                45.5           c   \n",
       "2   z0.07891_CII              13.86                37.7           b   \n",
       "3    z0.07881_HI              14.72                57.9           c   \n",
       "\n",
       "                        Comment  \n",
       "0  in uncertain galaxy, doublet  \n",
       "1    Cu2 Si4  at .05173 toss up  \n",
       "2                          None  \n",
       "3       single LYA, OOR, strong  "
      ]
     },
     "metadata": {},
     "output_type": "display_data"
    },
    {
     "name": "stdout",
     "output_type": "stream",
     "text": [
      "===================================================\n",
      "System: z0.08285_HI\n",
      "===================================================\n"
     ]
    },
    {
     "data": {
      "text/html": [
       "<div>\n",
       "<table border=\"1\" class=\"dataframe\">\n",
       "  <thead>\n",
       "    <tr style=\"text-align: right;\">\n",
       "      <th></th>\n",
       "      <th>Component</th>\n",
       "      <th>Column Density (N)</th>\n",
       "      <th>Doppler Profile (b)</th>\n",
       "      <th>Reliability</th>\n",
       "      <th>Comment</th>\n",
       "    </tr>\n",
       "  </thead>\n",
       "  <tbody>\n",
       "    <tr>\n",
       "      <th>0</th>\n",
       "      <td>z0.08285_HI</td>\n",
       "      <td>13.56</td>\n",
       "      <td>41.6</td>\n",
       "      <td>c</td>\n",
       "      <td>LYA, single OOR</td>\n",
       "    </tr>\n",
       "  </tbody>\n",
       "</table>\n",
       "</div>"
      ],
      "text/plain": [
       "     Component Column Density (N) Doppler Profile (b) Reliability  \\\n",
       "0  z0.08285_HI              13.56                41.6           c   \n",
       "\n",
       "           Comment  \n",
       "0  LYA, single OOR  "
      ]
     },
     "metadata": {},
     "output_type": "display_data"
    },
    {
     "name": "stdout",
     "output_type": "stream",
     "text": [
      "===================================================\n",
      "System: z0.10310_HI\n",
      "===================================================\n"
     ]
    },
    {
     "data": {
      "text/html": [
       "<div>\n",
       "<table border=\"1\" class=\"dataframe\">\n",
       "  <thead>\n",
       "    <tr style=\"text-align: right;\">\n",
       "      <th></th>\n",
       "      <th>Component</th>\n",
       "      <th>Column Density (N)</th>\n",
       "      <th>Doppler Profile (b)</th>\n",
       "      <th>Reliability</th>\n",
       "      <th>Comment</th>\n",
       "    </tr>\n",
       "  </thead>\n",
       "  <tbody>\n",
       "    <tr>\n",
       "      <th>0</th>\n",
       "      <td>z0.10310_HI</td>\n",
       "      <td>14.17</td>\n",
       "      <td>40.0</td>\n",
       "      <td>c</td>\n",
       "      <td>single LYA, not nuf data</td>\n",
       "    </tr>\n",
       "  </tbody>\n",
       "</table>\n",
       "</div>"
      ],
      "text/plain": [
       "     Component Column Density (N) Doppler Profile (b) Reliability  \\\n",
       "0  z0.10310_HI              14.17                40.0           c   \n",
       "\n",
       "                    Comment  \n",
       "0  single LYA, not nuf data  "
      ]
     },
     "metadata": {},
     "output_type": "display_data"
    },
    {
     "name": "stdout",
     "output_type": "stream",
     "text": [
      "===================================================\n",
      "System: z0.11873_HI\n",
      "===================================================\n"
     ]
    },
    {
     "data": {
      "text/html": [
       "<div>\n",
       "<table border=\"1\" class=\"dataframe\">\n",
       "  <thead>\n",
       "    <tr style=\"text-align: right;\">\n",
       "      <th></th>\n",
       "      <th>Component</th>\n",
       "      <th>Column Density (N)</th>\n",
       "      <th>Doppler Profile (b)</th>\n",
       "      <th>Reliability</th>\n",
       "      <th>Comment</th>\n",
       "    </tr>\n",
       "  </thead>\n",
       "  <tbody>\n",
       "    <tr>\n",
       "      <th>0</th>\n",
       "      <td>z0.11875_OVI</td>\n",
       "      <td>13.94</td>\n",
       "      <td>22.3</td>\n",
       "      <td>b</td>\n",
       "      <td>doublet, 2nd weak, at lockness</td>\n",
       "    </tr>\n",
       "    <tr>\n",
       "      <th>1</th>\n",
       "      <td>z0.11876_SiIII</td>\n",
       "      <td>12.82</td>\n",
       "      <td>17.9</td>\n",
       "      <td>a</td>\n",
       "      <td>singlet at lockness</td>\n",
       "    </tr>\n",
       "    <tr>\n",
       "      <th>2</th>\n",
       "      <td>z0.11873_HI</td>\n",
       "      <td>14.86</td>\n",
       "      <td>33.2</td>\n",
       "      <td>a</td>\n",
       "      <td>2nd seem as strong as 1st, but possible satura...</td>\n",
       "    </tr>\n",
       "    <tr>\n",
       "      <th>3</th>\n",
       "      <td>z0.11885_CIV</td>\n",
       "      <td>13.91</td>\n",
       "      <td>28.8</td>\n",
       "      <td>a</td>\n",
       "      <td>at lockness, replace NV</td>\n",
       "    </tr>\n",
       "  </tbody>\n",
       "</table>\n",
       "</div>"
      ],
      "text/plain": [
       "        Component Column Density (N) Doppler Profile (b) Reliability  \\\n",
       "0    z0.11875_OVI              13.94                22.3           b   \n",
       "1  z0.11876_SiIII              12.82                17.9           a   \n",
       "2     z0.11873_HI              14.86                33.2           a   \n",
       "3    z0.11885_CIV              13.91                28.8           a   \n",
       "\n",
       "                                             Comment  \n",
       "0                    doublet, 2nd weak, at lockness   \n",
       "1                                singlet at lockness  \n",
       "2  2nd seem as strong as 1st, but possible satura...  \n",
       "3                            at lockness, replace NV  "
      ]
     },
     "metadata": {},
     "output_type": "display_data"
    },
    {
     "name": "stdout",
     "output_type": "stream",
     "text": [
      "===================================================\n",
      "System: z0.12308_HI\n",
      "===================================================\n"
     ]
    },
    {
     "data": {
      "text/html": [
       "<div>\n",
       "<table border=\"1\" class=\"dataframe\">\n",
       "  <thead>\n",
       "    <tr style=\"text-align: right;\">\n",
       "      <th></th>\n",
       "      <th>Component</th>\n",
       "      <th>Column Density (N)</th>\n",
       "      <th>Doppler Profile (b)</th>\n",
       "      <th>Reliability</th>\n",
       "      <th>Comment</th>\n",
       "    </tr>\n",
       "  </thead>\n",
       "  <tbody>\n",
       "    <tr>\n",
       "      <th>0</th>\n",
       "      <td>z0.12308_HI</td>\n",
       "      <td>13.66</td>\n",
       "      <td>25.3</td>\n",
       "      <td>a</td>\n",
       "      <td>Grandma Inet</td>\n",
       "    </tr>\n",
       "    <tr>\n",
       "      <th>1</th>\n",
       "      <td>z0.12288_BII</td>\n",
       "      <td>12.74</td>\n",
       "      <td>32.4</td>\n",
       "      <td>b</td>\n",
       "      <td>singlet, Inet, good fit, offset</td>\n",
       "    </tr>\n",
       "  </tbody>\n",
       "</table>\n",
       "</div>"
      ],
      "text/plain": [
       "      Component Column Density (N) Doppler Profile (b) Reliability  \\\n",
       "0   z0.12308_HI              13.66                25.3           a   \n",
       "1  z0.12288_BII              12.74                32.4           b   \n",
       "\n",
       "                           Comment  \n",
       "0                     Grandma Inet  \n",
       "1  singlet, Inet, good fit, offset  "
      ]
     },
     "metadata": {},
     "output_type": "display_data"
    },
    {
     "name": "stdout",
     "output_type": "stream",
     "text": [
      "===================================================\n",
      "System: z0.12806_HI\n",
      "===================================================\n"
     ]
    },
    {
     "data": {
      "text/html": [
       "<div>\n",
       "<table border=\"1\" class=\"dataframe\">\n",
       "  <thead>\n",
       "    <tr style=\"text-align: right;\">\n",
       "      <th></th>\n",
       "      <th>Component</th>\n",
       "      <th>Column Density (N)</th>\n",
       "      <th>Doppler Profile (b)</th>\n",
       "      <th>Reliability</th>\n",
       "      <th>Comment</th>\n",
       "    </tr>\n",
       "  </thead>\n",
       "  <tbody>\n",
       "    <tr>\n",
       "      <th>0</th>\n",
       "      <td>z0.12806_HI</td>\n",
       "      <td>13.33</td>\n",
       "      <td>30.3</td>\n",
       "      <td>c</td>\n",
       "      <td>LyA&amp;B</td>\n",
       "    </tr>\n",
       "  </tbody>\n",
       "</table>\n",
       "</div>"
      ],
      "text/plain": [
       "     Component Column Density (N) Doppler Profile (b) Reliability Comment\n",
       "0  z0.12806_HI              13.33                30.3           c   LyA&B"
      ]
     },
     "metadata": {},
     "output_type": "display_data"
    },
    {
     "name": "stdout",
     "output_type": "stream",
     "text": [
      "===================================================\n",
      "System: z0.15421_HI\n",
      "===================================================\n"
     ]
    },
    {
     "data": {
      "text/html": [
       "<div>\n",
       "<table border=\"1\" class=\"dataframe\">\n",
       "  <thead>\n",
       "    <tr style=\"text-align: right;\">\n",
       "      <th></th>\n",
       "      <th>Component</th>\n",
       "      <th>Column Density (N)</th>\n",
       "      <th>Doppler Profile (b)</th>\n",
       "      <th>Reliability</th>\n",
       "      <th>Comment</th>\n",
       "    </tr>\n",
       "  </thead>\n",
       "  <tbody>\n",
       "    <tr>\n",
       "      <th>0</th>\n",
       "      <td>z0.15421_HI</td>\n",
       "      <td>13.43</td>\n",
       "      <td>23.4</td>\n",
       "      <td>b</td>\n",
       "      <td>LyA&amp;B</td>\n",
       "    </tr>\n",
       "  </tbody>\n",
       "</table>\n",
       "</div>"
      ],
      "text/plain": [
       "     Component Column Density (N) Doppler Profile (b) Reliability Comment\n",
       "0  z0.15421_HI              13.43                23.4           b   LyA&B"
      ]
     },
     "metadata": {},
     "output_type": "display_data"
    },
    {
     "name": "stdout",
     "output_type": "stream",
     "text": [
      "===================================================\n",
      "System: z0.18314_HI\n",
      "===================================================\n"
     ]
    },
    {
     "data": {
      "text/html": [
       "<div>\n",
       "<table border=\"1\" class=\"dataframe\">\n",
       "  <thead>\n",
       "    <tr style=\"text-align: right;\">\n",
       "      <th></th>\n",
       "      <th>Component</th>\n",
       "      <th>Column Density (N)</th>\n",
       "      <th>Doppler Profile (b)</th>\n",
       "      <th>Reliability</th>\n",
       "      <th>Comment</th>\n",
       "    </tr>\n",
       "  </thead>\n",
       "  <tbody>\n",
       "    <tr>\n",
       "      <th>0</th>\n",
       "      <td>z0.18314_HI</td>\n",
       "      <td>13.83</td>\n",
       "      <td>43.8</td>\n",
       "      <td>b</td>\n",
       "      <td>LyA-C</td>\n",
       "    </tr>\n",
       "  </tbody>\n",
       "</table>\n",
       "</div>"
      ],
      "text/plain": [
       "     Component Column Density (N) Doppler Profile (b) Reliability Comment\n",
       "0  z0.18314_HI              13.83                43.8           b   LyA-C"
      ]
     },
     "metadata": {},
     "output_type": "display_data"
    },
    {
     "name": "stdout",
     "output_type": "stream",
     "text": [
      "===================================================\n",
      "System: z0.20495_HI\n",
      "===================================================\n"
     ]
    },
    {
     "data": {
      "text/html": [
       "<div>\n",
       "<table border=\"1\" class=\"dataframe\">\n",
       "  <thead>\n",
       "    <tr style=\"text-align: right;\">\n",
       "      <th></th>\n",
       "      <th>Component</th>\n",
       "      <th>Column Density (N)</th>\n",
       "      <th>Doppler Profile (b)</th>\n",
       "      <th>Reliability</th>\n",
       "      <th>Comment</th>\n",
       "    </tr>\n",
       "  </thead>\n",
       "  <tbody>\n",
       "    <tr>\n",
       "      <th>0</th>\n",
       "      <td>z0.20495_HI</td>\n",
       "      <td>13.49</td>\n",
       "      <td>30.1</td>\n",
       "      <td>c</td>\n",
       "      <td>None</td>\n",
       "    </tr>\n",
       "  </tbody>\n",
       "</table>\n",
       "</div>"
      ],
      "text/plain": [
       "     Component Column Density (N) Doppler Profile (b) Reliability Comment\n",
       "0  z0.20495_HI              13.49                30.1           c    None"
      ]
     },
     "metadata": {},
     "output_type": "display_data"
    },
    {
     "name": "stdout",
     "output_type": "stream",
     "text": [
      "===================================================\n",
      "System: z0.20799_HI\n",
      "===================================================\n"
     ]
    },
    {
     "data": {
      "text/html": [
       "<div>\n",
       "<table border=\"1\" class=\"dataframe\">\n",
       "  <thead>\n",
       "    <tr style=\"text-align: right;\">\n",
       "      <th></th>\n",
       "      <th>Component</th>\n",
       "      <th>Column Density (N)</th>\n",
       "      <th>Doppler Profile (b)</th>\n",
       "      <th>Reliability</th>\n",
       "      <th>Comment</th>\n",
       "    </tr>\n",
       "  </thead>\n",
       "  <tbody>\n",
       "    <tr>\n",
       "      <th>0</th>\n",
       "      <td>z0.20799_HI</td>\n",
       "      <td>13.19</td>\n",
       "      <td>33.4</td>\n",
       "      <td>c</td>\n",
       "      <td>Ly series</td>\n",
       "    </tr>\n",
       "  </tbody>\n",
       "</table>\n",
       "</div>"
      ],
      "text/plain": [
       "     Component Column Density (N) Doppler Profile (b) Reliability    Comment\n",
       "0  z0.20799_HI              13.19                33.4           c  Ly series"
      ]
     },
     "metadata": {},
     "output_type": "display_data"
    },
    {
     "name": "stdout",
     "output_type": "stream",
     "text": [
      "===================================================\n",
      "System: z0.21486_HI\n",
      "===================================================\n"
     ]
    },
    {
     "data": {
      "text/html": [
       "<div>\n",
       "<table border=\"1\" class=\"dataframe\">\n",
       "  <thead>\n",
       "    <tr style=\"text-align: right;\">\n",
       "      <th></th>\n",
       "      <th>Component</th>\n",
       "      <th>Column Density (N)</th>\n",
       "      <th>Doppler Profile (b)</th>\n",
       "      <th>Reliability</th>\n",
       "      <th>Comment</th>\n",
       "    </tr>\n",
       "  </thead>\n",
       "  <tbody>\n",
       "    <tr>\n",
       "      <th>0</th>\n",
       "      <td>z0.21486_HI</td>\n",
       "      <td>14.87</td>\n",
       "      <td>38.3</td>\n",
       "      <td>a</td>\n",
       "      <td>Grandpa Igor</td>\n",
       "    </tr>\n",
       "    <tr>\n",
       "      <th>1</th>\n",
       "      <td>z0.21482_GaII</td>\n",
       "      <td>12.08</td>\n",
       "      <td>13.7</td>\n",
       "      <td>c</td>\n",
       "      <td>swinglet</td>\n",
       "    </tr>\n",
       "    <tr>\n",
       "      <th>2</th>\n",
       "      <td>z0.21562_HI</td>\n",
       "      <td>13.46</td>\n",
       "      <td>34.1</td>\n",
       "      <td>b</td>\n",
       "      <td>Ly series</td>\n",
       "    </tr>\n",
       "    <tr>\n",
       "      <th>3</th>\n",
       "      <td>z0.21479_CIII</td>\n",
       "      <td>13.68</td>\n",
       "      <td>41.1</td>\n",
       "      <td>a</td>\n",
       "      <td>strong singlet igor</td>\n",
       "    </tr>\n",
       "  </tbody>\n",
       "</table>\n",
       "</div>"
      ],
      "text/plain": [
       "       Component Column Density (N) Doppler Profile (b) Reliability  \\\n",
       "0    z0.21486_HI              14.87                38.3           a   \n",
       "1  z0.21482_GaII              12.08                13.7           c   \n",
       "2    z0.21562_HI              13.46                34.1           b   \n",
       "3  z0.21479_CIII              13.68                41.1           a   \n",
       "\n",
       "               Comment  \n",
       "0         Grandpa Igor  \n",
       "1             swinglet  \n",
       "2            Ly series  \n",
       "3  strong singlet igor  "
      ]
     },
     "metadata": {},
     "output_type": "display_data"
    },
    {
     "name": "stdout",
     "output_type": "stream",
     "text": [
      "===================================================\n",
      "System: z0.21562_HI\n",
      "===================================================\n"
     ]
    },
    {
     "data": {
      "text/html": [
       "<div>\n",
       "<table border=\"1\" class=\"dataframe\">\n",
       "  <thead>\n",
       "    <tr style=\"text-align: right;\">\n",
       "      <th></th>\n",
       "      <th>Component</th>\n",
       "      <th>Column Density (N)</th>\n",
       "      <th>Doppler Profile (b)</th>\n",
       "      <th>Reliability</th>\n",
       "      <th>Comment</th>\n",
       "    </tr>\n",
       "  </thead>\n",
       "  <tbody>\n",
       "    <tr>\n",
       "      <th>0</th>\n",
       "      <td>z0.21486_HI</td>\n",
       "      <td>14.87</td>\n",
       "      <td>38.3</td>\n",
       "      <td>a</td>\n",
       "      <td>Grandpa Igor</td>\n",
       "    </tr>\n",
       "    <tr>\n",
       "      <th>1</th>\n",
       "      <td>z0.21482_GaII</td>\n",
       "      <td>12.08</td>\n",
       "      <td>13.7</td>\n",
       "      <td>c</td>\n",
       "      <td>swinglet</td>\n",
       "    </tr>\n",
       "    <tr>\n",
       "      <th>2</th>\n",
       "      <td>z0.21562_HI</td>\n",
       "      <td>13.46</td>\n",
       "      <td>34.1</td>\n",
       "      <td>b</td>\n",
       "      <td>Ly series</td>\n",
       "    </tr>\n",
       "    <tr>\n",
       "      <th>3</th>\n",
       "      <td>z0.21479_CIII</td>\n",
       "      <td>13.68</td>\n",
       "      <td>41.1</td>\n",
       "      <td>a</td>\n",
       "      <td>strong singlet igor</td>\n",
       "    </tr>\n",
       "  </tbody>\n",
       "</table>\n",
       "</div>"
      ],
      "text/plain": [
       "       Component Column Density (N) Doppler Profile (b) Reliability  \\\n",
       "0    z0.21486_HI              14.87                38.3           a   \n",
       "1  z0.21482_GaII              12.08                13.7           c   \n",
       "2    z0.21562_HI              13.46                34.1           b   \n",
       "3  z0.21479_CIII              13.68                41.1           a   \n",
       "\n",
       "               Comment  \n",
       "0         Grandpa Igor  \n",
       "1             swinglet  \n",
       "2            Ly series  \n",
       "3  strong singlet igor  "
      ]
     },
     "metadata": {},
     "output_type": "display_data"
    },
    {
     "name": "stdout",
     "output_type": "stream",
     "text": [
      "===================================================\n",
      "System: z0.24550_HI\n",
      "===================================================\n"
     ]
    },
    {
     "data": {
      "text/html": [
       "<div>\n",
       "<table border=\"1\" class=\"dataframe\">\n",
       "  <thead>\n",
       "    <tr style=\"text-align: right;\">\n",
       "      <th></th>\n",
       "      <th>Component</th>\n",
       "      <th>Column Density (N)</th>\n",
       "      <th>Doppler Profile (b)</th>\n",
       "      <th>Reliability</th>\n",
       "      <th>Comment</th>\n",
       "    </tr>\n",
       "  </thead>\n",
       "  <tbody>\n",
       "    <tr>\n",
       "      <th>0</th>\n",
       "      <td>z0.24550_HI</td>\n",
       "      <td>13.44</td>\n",
       "      <td>28.4</td>\n",
       "      <td>c</td>\n",
       "      <td>Ly series</td>\n",
       "    </tr>\n",
       "  </tbody>\n",
       "</table>\n",
       "</div>"
      ],
      "text/plain": [
       "     Component Column Density (N) Doppler Profile (b) Reliability    Comment\n",
       "0  z0.24550_HI              13.44                28.4           c  Ly series"
      ]
     },
     "metadata": {},
     "output_type": "display_data"
    },
    {
     "name": "stdout",
     "output_type": "stream",
     "text": [
      "===================================================\n",
      "System: z0.26334_HI\n",
      "===================================================\n"
     ]
    },
    {
     "data": {
      "text/html": [
       "<div>\n",
       "<table border=\"1\" class=\"dataframe\">\n",
       "  <thead>\n",
       "    <tr style=\"text-align: right;\">\n",
       "      <th></th>\n",
       "      <th>Component</th>\n",
       "      <th>Column Density (N)</th>\n",
       "      <th>Doppler Profile (b)</th>\n",
       "      <th>Reliability</th>\n",
       "      <th>Comment</th>\n",
       "    </tr>\n",
       "  </thead>\n",
       "  <tbody>\n",
       "    <tr>\n",
       "      <th>0</th>\n",
       "      <td>z0.26368_HI</td>\n",
       "      <td>13.33</td>\n",
       "      <td>15.7</td>\n",
       "      <td>b</td>\n",
       "      <td>None</td>\n",
       "    </tr>\n",
       "    <tr>\n",
       "      <th>1</th>\n",
       "      <td>z0.26334_HI</td>\n",
       "      <td>13.182569712236425</td>\n",
       "      <td>5.922717540856842</td>\n",
       "      <td>b</td>\n",
       "      <td>None</td>\n",
       "    </tr>\n",
       "  </tbody>\n",
       "</table>\n",
       "</div>"
      ],
      "text/plain": [
       "     Component  Column Density (N) Doppler Profile (b) Reliability Comment\n",
       "0  z0.26368_HI               13.33                15.7           b    None\n",
       "1  z0.26334_HI  13.182569712236425   5.922717540856842           b    None"
      ]
     },
     "metadata": {},
     "output_type": "display_data"
    },
    {
     "name": "stdout",
     "output_type": "stream",
     "text": [
      "===================================================\n",
      "System: z0.26368_HI\n",
      "===================================================\n"
     ]
    },
    {
     "data": {
      "text/html": [
       "<div>\n",
       "<table border=\"1\" class=\"dataframe\">\n",
       "  <thead>\n",
       "    <tr style=\"text-align: right;\">\n",
       "      <th></th>\n",
       "      <th>Component</th>\n",
       "      <th>Column Density (N)</th>\n",
       "      <th>Doppler Profile (b)</th>\n",
       "      <th>Reliability</th>\n",
       "      <th>Comment</th>\n",
       "    </tr>\n",
       "  </thead>\n",
       "  <tbody>\n",
       "    <tr>\n",
       "      <th>0</th>\n",
       "      <td>z0.26368_HI</td>\n",
       "      <td>13.33</td>\n",
       "      <td>15.7</td>\n",
       "      <td>b</td>\n",
       "      <td>None</td>\n",
       "    </tr>\n",
       "    <tr>\n",
       "      <th>1</th>\n",
       "      <td>z0.26334_HI</td>\n",
       "      <td>13.182569712236425</td>\n",
       "      <td>5.922717540856842</td>\n",
       "      <td>b</td>\n",
       "      <td>None</td>\n",
       "    </tr>\n",
       "  </tbody>\n",
       "</table>\n",
       "</div>"
      ],
      "text/plain": [
       "     Component  Column Density (N) Doppler Profile (b) Reliability Comment\n",
       "0  z0.26368_HI               13.33                15.7           b    None\n",
       "1  z0.26334_HI  13.182569712236425   5.922717540856842           b    None"
      ]
     },
     "metadata": {},
     "output_type": "display_data"
    },
    {
     "name": "stdout",
     "output_type": "stream",
     "text": [
      "===================================================\n",
      "System: z0.28124_HI\n",
      "===================================================\n"
     ]
    },
    {
     "data": {
      "text/html": [
       "<div>\n",
       "<table border=\"1\" class=\"dataframe\">\n",
       "  <thead>\n",
       "    <tr style=\"text-align: right;\">\n",
       "      <th></th>\n",
       "      <th>Component</th>\n",
       "      <th>Column Density (N)</th>\n",
       "      <th>Doppler Profile (b)</th>\n",
       "      <th>Reliability</th>\n",
       "      <th>Comment</th>\n",
       "    </tr>\n",
       "  </thead>\n",
       "  <tbody>\n",
       "    <tr>\n",
       "      <th>0</th>\n",
       "      <td>z0.28124_HI</td>\n",
       "      <td>13.33</td>\n",
       "      <td>19.8</td>\n",
       "      <td>c</td>\n",
       "      <td>Ly series</td>\n",
       "    </tr>\n",
       "  </tbody>\n",
       "</table>\n",
       "</div>"
      ],
      "text/plain": [
       "     Component Column Density (N) Doppler Profile (b) Reliability    Comment\n",
       "0  z0.28124_HI              13.33                19.8           c  Ly series"
      ]
     },
     "metadata": {},
     "output_type": "display_data"
    },
    {
     "name": "stdout",
     "output_type": "stream",
     "text": [
      "===================================================\n",
      "System: z0.29231_HI\n",
      "===================================================\n"
     ]
    },
    {
     "data": {
      "text/html": [
       "<div>\n",
       "<table border=\"1\" class=\"dataframe\">\n",
       "  <thead>\n",
       "    <tr style=\"text-align: right;\">\n",
       "      <th></th>\n",
       "      <th>Component</th>\n",
       "      <th>Column Density (N)</th>\n",
       "      <th>Doppler Profile (b)</th>\n",
       "      <th>Reliability</th>\n",
       "      <th>Comment</th>\n",
       "    </tr>\n",
       "  </thead>\n",
       "  <tbody>\n",
       "    <tr>\n",
       "      <th>0</th>\n",
       "      <td>z0.29231_HI</td>\n",
       "      <td>13.38</td>\n",
       "      <td>39.0</td>\n",
       "      <td>b</td>\n",
       "      <td>Ly series</td>\n",
       "    </tr>\n",
       "  </tbody>\n",
       "</table>\n",
       "</div>"
      ],
      "text/plain": [
       "     Component Column Density (N) Doppler Profile (b) Reliability    Comment\n",
       "0  z0.29231_HI              13.38                39.0           b  Ly series"
      ]
     },
     "metadata": {},
     "output_type": "display_data"
    },
    {
     "name": "stdout",
     "output_type": "stream",
     "text": [
      "===================================================\n",
      "System: z0.29768_HI\n",
      "===================================================\n"
     ]
    },
    {
     "data": {
      "text/html": [
       "<div>\n",
       "<table border=\"1\" class=\"dataframe\">\n",
       "  <thead>\n",
       "    <tr style=\"text-align: right;\">\n",
       "      <th></th>\n",
       "      <th>Component</th>\n",
       "      <th>Column Density (N)</th>\n",
       "      <th>Doppler Profile (b)</th>\n",
       "      <th>Reliability</th>\n",
       "      <th>Comment</th>\n",
       "    </tr>\n",
       "  </thead>\n",
       "  <tbody>\n",
       "    <tr>\n",
       "      <th>0</th>\n",
       "      <td>z0.29768_HI</td>\n",
       "      <td>13.4</td>\n",
       "      <td>22.3</td>\n",
       "      <td>c</td>\n",
       "      <td>blehrg</td>\n",
       "    </tr>\n",
       "  </tbody>\n",
       "</table>\n",
       "</div>"
      ],
      "text/plain": [
       "     Component Column Density (N) Doppler Profile (b) Reliability Comment\n",
       "0  z0.29768_HI               13.4                22.3           c  blehrg"
      ]
     },
     "metadata": {},
     "output_type": "display_data"
    },
    {
     "name": "stdout",
     "output_type": "stream",
     "text": [
      "===================================================\n",
      "System: z0.30026_HI\n",
      "===================================================\n"
     ]
    },
    {
     "data": {
      "text/html": [
       "<div>\n",
       "<table border=\"1\" class=\"dataframe\">\n",
       "  <thead>\n",
       "    <tr style=\"text-align: right;\">\n",
       "      <th></th>\n",
       "      <th>Component</th>\n",
       "      <th>Column Density (N)</th>\n",
       "      <th>Doppler Profile (b)</th>\n",
       "      <th>Reliability</th>\n",
       "      <th>Comment</th>\n",
       "    </tr>\n",
       "  </thead>\n",
       "  <tbody>\n",
       "    <tr>\n",
       "      <th>0</th>\n",
       "      <td>z0.30026_HI</td>\n",
       "      <td>13.42</td>\n",
       "      <td>28.3</td>\n",
       "      <td>c</td>\n",
       "      <td>Ly series, poor LyB fit</td>\n",
       "    </tr>\n",
       "  </tbody>\n",
       "</table>\n",
       "</div>"
      ],
      "text/plain": [
       "     Component Column Density (N) Doppler Profile (b) Reliability  \\\n",
       "0  z0.30026_HI              13.42                28.3           c   \n",
       "\n",
       "                   Comment  \n",
       "0  Ly series, poor LyB fit  "
      ]
     },
     "metadata": {},
     "output_type": "display_data"
    },
    {
     "name": "stdout",
     "output_type": "stream",
     "text": [
      "===================================================\n",
      "System: z0.32949_HI\n",
      "===================================================\n"
     ]
    },
    {
     "data": {
      "text/html": [
       "<div>\n",
       "<table border=\"1\" class=\"dataframe\">\n",
       "  <thead>\n",
       "    <tr style=\"text-align: right;\">\n",
       "      <th></th>\n",
       "      <th>Component</th>\n",
       "      <th>Column Density (N)</th>\n",
       "      <th>Doppler Profile (b)</th>\n",
       "      <th>Reliability</th>\n",
       "      <th>Comment</th>\n",
       "    </tr>\n",
       "  </thead>\n",
       "  <tbody>\n",
       "    <tr>\n",
       "      <th>0</th>\n",
       "      <td>z0.32949_HI</td>\n",
       "      <td>12.77</td>\n",
       "      <td>1.0</td>\n",
       "      <td>c</td>\n",
       "      <td>whatt???, weird fit</td>\n",
       "    </tr>\n",
       "  </tbody>\n",
       "</table>\n",
       "</div>"
      ],
      "text/plain": [
       "     Component Column Density (N) Doppler Profile (b) Reliability  \\\n",
       "0  z0.32949_HI              12.77                 1.0           c   \n",
       "\n",
       "               Comment  \n",
       "0  whatt???, weird fit  "
      ]
     },
     "metadata": {},
     "output_type": "display_data"
    },
    {
     "name": "stdout",
     "output_type": "stream",
     "text": [
      "===================================================\n",
      "System: z0.34439_HI\n",
      "===================================================\n"
     ]
    },
    {
     "data": {
      "text/html": [
       "<div>\n",
       "<table border=\"1\" class=\"dataframe\">\n",
       "  <thead>\n",
       "    <tr style=\"text-align: right;\">\n",
       "      <th></th>\n",
       "      <th>Component</th>\n",
       "      <th>Column Density (N)</th>\n",
       "      <th>Doppler Profile (b)</th>\n",
       "      <th>Reliability</th>\n",
       "      <th>Comment</th>\n",
       "    </tr>\n",
       "  </thead>\n",
       "  <tbody>\n",
       "    <tr>\n",
       "      <th>0</th>\n",
       "      <td>z0.34439_HI</td>\n",
       "      <td>13.28</td>\n",
       "      <td>22.3</td>\n",
       "      <td>b</td>\n",
       "      <td>Ly series</td>\n",
       "    </tr>\n",
       "  </tbody>\n",
       "</table>\n",
       "</div>"
      ],
      "text/plain": [
       "     Component Column Density (N) Doppler Profile (b) Reliability    Comment\n",
       "0  z0.34439_HI              13.28                22.3           b  Ly series"
      ]
     },
     "metadata": {},
     "output_type": "display_data"
    },
    {
     "name": "stdout",
     "output_type": "stream",
     "text": [
      "===================================================\n",
      "System: z0.35996_HI\n",
      "===================================================\n"
     ]
    },
    {
     "data": {
      "text/html": [
       "<div>\n",
       "<table border=\"1\" class=\"dataframe\">\n",
       "  <thead>\n",
       "    <tr style=\"text-align: right;\">\n",
       "      <th></th>\n",
       "      <th>Component</th>\n",
       "      <th>Column Density (N)</th>\n",
       "      <th>Doppler Profile (b)</th>\n",
       "      <th>Reliability</th>\n",
       "      <th>Comment</th>\n",
       "    </tr>\n",
       "  </thead>\n",
       "  <tbody>\n",
       "    <tr>\n",
       "      <th>0</th>\n",
       "      <td>z0.35996_HI</td>\n",
       "      <td>13.59</td>\n",
       "      <td>64.4</td>\n",
       "      <td>b</td>\n",
       "      <td>None</td>\n",
       "    </tr>\n",
       "  </tbody>\n",
       "</table>\n",
       "</div>"
      ],
      "text/plain": [
       "     Component Column Density (N) Doppler Profile (b) Reliability Comment\n",
       "0  z0.35996_HI              13.59                64.4           b    None"
      ]
     },
     "metadata": {},
     "output_type": "display_data"
    },
    {
     "name": "stdout",
     "output_type": "stream",
     "text": [
      "===================================================\n",
      "System: z0.37640_HI\n",
      "===================================================\n"
     ]
    },
    {
     "data": {
      "text/html": [
       "<div>\n",
       "<table border=\"1\" class=\"dataframe\">\n",
       "  <thead>\n",
       "    <tr style=\"text-align: right;\">\n",
       "      <th></th>\n",
       "      <th>Component</th>\n",
       "      <th>Column Density (N)</th>\n",
       "      <th>Doppler Profile (b)</th>\n",
       "      <th>Reliability</th>\n",
       "      <th>Comment</th>\n",
       "    </tr>\n",
       "  </thead>\n",
       "  <tbody>\n",
       "    <tr>\n",
       "      <th>0</th>\n",
       "      <td>z0.37640_HI</td>\n",
       "      <td>13.396122677925717</td>\n",
       "      <td>43.10329452315135</td>\n",
       "      <td>b</td>\n",
       "      <td>None</td>\n",
       "    </tr>\n",
       "  </tbody>\n",
       "</table>\n",
       "</div>"
      ],
      "text/plain": [
       "     Component  Column Density (N) Doppler Profile (b) Reliability Comment\n",
       "0  z0.37640_HI  13.396122677925717   43.10329452315135           b    None"
      ]
     },
     "metadata": {},
     "output_type": "display_data"
    },
    {
     "name": "stdout",
     "output_type": "stream",
     "text": [
      "===================================================\n",
      "System: z0.38116_HI\n",
      "===================================================\n"
     ]
    },
    {
     "data": {
      "text/html": [
       "<div>\n",
       "<table border=\"1\" class=\"dataframe\">\n",
       "  <thead>\n",
       "    <tr style=\"text-align: right;\">\n",
       "      <th></th>\n",
       "      <th>Component</th>\n",
       "      <th>Column Density (N)</th>\n",
       "      <th>Doppler Profile (b)</th>\n",
       "      <th>Reliability</th>\n",
       "      <th>Comment</th>\n",
       "    </tr>\n",
       "  </thead>\n",
       "  <tbody>\n",
       "    <tr>\n",
       "      <th>0</th>\n",
       "      <td>z0.38116_HI</td>\n",
       "      <td>13.23</td>\n",
       "      <td>19.0</td>\n",
       "      <td>c</td>\n",
       "      <td>LyB bad fit</td>\n",
       "    </tr>\n",
       "  </tbody>\n",
       "</table>\n",
       "</div>"
      ],
      "text/plain": [
       "     Component Column Density (N) Doppler Profile (b) Reliability      Comment\n",
       "0  z0.38116_HI              13.23                19.0           c  LyB bad fit"
      ]
     },
     "metadata": {},
     "output_type": "display_data"
    },
    {
     "name": "stdout",
     "output_type": "stream",
     "text": [
      "===================================================\n",
      "System: z0.39082_HI\n",
      "===================================================\n"
     ]
    },
    {
     "data": {
      "text/html": [
       "<div>\n",
       "<table border=\"1\" class=\"dataframe\">\n",
       "  <thead>\n",
       "    <tr style=\"text-align: right;\">\n",
       "      <th></th>\n",
       "      <th>Component</th>\n",
       "      <th>Column Density (N)</th>\n",
       "      <th>Doppler Profile (b)</th>\n",
       "      <th>Reliability</th>\n",
       "      <th>Comment</th>\n",
       "    </tr>\n",
       "  </thead>\n",
       "  <tbody>\n",
       "    <tr>\n",
       "      <th>0</th>\n",
       "      <td>z0.39082_HI</td>\n",
       "      <td>13.705607798230405</td>\n",
       "      <td>28.387204517342628</td>\n",
       "      <td>None</td>\n",
       "      <td>None</td>\n",
       "    </tr>\n",
       "  </tbody>\n",
       "</table>\n",
       "</div>"
      ],
      "text/plain": [
       "     Component  Column Density (N) Doppler Profile (b) Reliability Comment\n",
       "0  z0.39082_HI  13.705607798230405  28.387204517342628        None    None"
      ]
     },
     "metadata": {},
     "output_type": "display_data"
    },
    {
     "name": "stdout",
     "output_type": "stream",
     "text": [
      "===================================================\n",
      "System: z0.39291_HI\n",
      "===================================================\n"
     ]
    },
    {
     "data": {
      "text/html": [
       "<div>\n",
       "<table border=\"1\" class=\"dataframe\">\n",
       "  <thead>\n",
       "    <tr style=\"text-align: right;\">\n",
       "      <th></th>\n",
       "      <th>Component</th>\n",
       "      <th>Column Density (N)</th>\n",
       "      <th>Doppler Profile (b)</th>\n",
       "      <th>Reliability</th>\n",
       "      <th>Comment</th>\n",
       "    </tr>\n",
       "  </thead>\n",
       "  <tbody>\n",
       "    <tr>\n",
       "      <th>0</th>\n",
       "      <td>z0.39291_HI</td>\n",
       "      <td>14.0</td>\n",
       "      <td>55.4</td>\n",
       "      <td>a</td>\n",
       "      <td>None</td>\n",
       "    </tr>\n",
       "  </tbody>\n",
       "</table>\n",
       "</div>"
      ],
      "text/plain": [
       "     Component Column Density (N) Doppler Profile (b) Reliability Comment\n",
       "0  z0.39291_HI               14.0                55.4           a    None"
      ]
     },
     "metadata": {},
     "output_type": "display_data"
    },
    {
     "name": "stdout",
     "output_type": "stream",
     "text": [
      "===================================================\n",
      "System: z0.40101_HI\n",
      "===================================================\n"
     ]
    },
    {
     "data": {
      "text/html": [
       "<div>\n",
       "<table border=\"1\" class=\"dataframe\">\n",
       "  <thead>\n",
       "    <tr style=\"text-align: right;\">\n",
       "      <th></th>\n",
       "      <th>Component</th>\n",
       "      <th>Column Density (N)</th>\n",
       "      <th>Doppler Profile (b)</th>\n",
       "      <th>Reliability</th>\n",
       "      <th>Comment</th>\n",
       "    </tr>\n",
       "  </thead>\n",
       "  <tbody>\n",
       "    <tr>\n",
       "      <th>0</th>\n",
       "      <td>z0.40080_PIII</td>\n",
       "      <td>13.2</td>\n",
       "      <td>37.0</td>\n",
       "      <td>b</td>\n",
       "      <td>triplet, noisy, okay fit, sligh offset, weak gal</td>\n",
       "    </tr>\n",
       "    <tr>\n",
       "      <th>1</th>\n",
       "      <td>z0.40059_NV</td>\n",
       "      <td>14.06</td>\n",
       "      <td>24.1</td>\n",
       "      <td>c</td>\n",
       "      <td>doublet, 2nd poor, likely another</td>\n",
       "    </tr>\n",
       "    <tr>\n",
       "      <th>2</th>\n",
       "      <td>z0.40101_HI</td>\n",
       "      <td>13.51</td>\n",
       "      <td>51.2</td>\n",
       "      <td>c</td>\n",
       "      <td>crappy fit</td>\n",
       "    </tr>\n",
       "  </tbody>\n",
       "</table>\n",
       "</div>"
      ],
      "text/plain": [
       "       Component Column Density (N) Doppler Profile (b) Reliability  \\\n",
       "0  z0.40080_PIII               13.2                37.0           b   \n",
       "1    z0.40059_NV              14.06                24.1           c   \n",
       "2    z0.40101_HI              13.51                51.2           c   \n",
       "\n",
       "                                            Comment  \n",
       "0  triplet, noisy, okay fit, sligh offset, weak gal  \n",
       "1                 doublet, 2nd poor, likely another  \n",
       "2                                        crappy fit  "
      ]
     },
     "metadata": {},
     "output_type": "display_data"
    },
    {
     "name": "stdout",
     "output_type": "stream",
     "text": [
      "===================================================\n",
      "System: z0.40388_HI\n",
      "===================================================\n"
     ]
    },
    {
     "data": {
      "text/html": [
       "<div>\n",
       "<table border=\"1\" class=\"dataframe\">\n",
       "  <thead>\n",
       "    <tr style=\"text-align: right;\">\n",
       "      <th></th>\n",
       "      <th>Component</th>\n",
       "      <th>Column Density (N)</th>\n",
       "      <th>Doppler Profile (b)</th>\n",
       "      <th>Reliability</th>\n",
       "      <th>Comment</th>\n",
       "    </tr>\n",
       "  </thead>\n",
       "  <tbody>\n",
       "    <tr>\n",
       "      <th>0</th>\n",
       "      <td>z0.40388_HI</td>\n",
       "      <td>13.26</td>\n",
       "      <td>34.7</td>\n",
       "      <td>c</td>\n",
       "      <td>LyB in other absorption</td>\n",
       "    </tr>\n",
       "  </tbody>\n",
       "</table>\n",
       "</div>"
      ],
      "text/plain": [
       "     Component Column Density (N) Doppler Profile (b) Reliability  \\\n",
       "0  z0.40388_HI              13.26                34.7           c   \n",
       "\n",
       "                   Comment  \n",
       "0  LyB in other absorption  "
      ]
     },
     "metadata": {},
     "output_type": "display_data"
    },
    {
     "name": "stdout",
     "output_type": "stream",
     "text": [
      "===================================================\n",
      "System: z0.41078_HI\n",
      "===================================================\n"
     ]
    },
    {
     "data": {
      "text/html": [
       "<div>\n",
       "<table border=\"1\" class=\"dataframe\">\n",
       "  <thead>\n",
       "    <tr style=\"text-align: right;\">\n",
       "      <th></th>\n",
       "      <th>Component</th>\n",
       "      <th>Column Density (N)</th>\n",
       "      <th>Doppler Profile (b)</th>\n",
       "      <th>Reliability</th>\n",
       "      <th>Comment</th>\n",
       "    </tr>\n",
       "  </thead>\n",
       "  <tbody>\n",
       "    <tr>\n",
       "      <th>0</th>\n",
       "      <td>z0.41078_HI</td>\n",
       "      <td>12.760955260374478</td>\n",
       "      <td>1.0</td>\n",
       "      <td>c</td>\n",
       "      <td>None</td>\n",
       "    </tr>\n",
       "    <tr>\n",
       "      <th>1</th>\n",
       "      <td>z0.41230_HI</td>\n",
       "      <td>13.47</td>\n",
       "      <td>16.3</td>\n",
       "      <td>c</td>\n",
       "      <td>None</td>\n",
       "    </tr>\n",
       "  </tbody>\n",
       "</table>\n",
       "</div>"
      ],
      "text/plain": [
       "     Component  Column Density (N) Doppler Profile (b) Reliability Comment\n",
       "0  z0.41078_HI  12.760955260374478                 1.0           c    None\n",
       "1  z0.41230_HI               13.47                16.3           c    None"
      ]
     },
     "metadata": {},
     "output_type": "display_data"
    },
    {
     "name": "stdout",
     "output_type": "stream",
     "text": [
      "===================================================\n",
      "System: z0.41230_HI\n",
      "===================================================\n"
     ]
    },
    {
     "data": {
      "text/html": [
       "<div>\n",
       "<table border=\"1\" class=\"dataframe\">\n",
       "  <thead>\n",
       "    <tr style=\"text-align: right;\">\n",
       "      <th></th>\n",
       "      <th>Component</th>\n",
       "      <th>Column Density (N)</th>\n",
       "      <th>Doppler Profile (b)</th>\n",
       "      <th>Reliability</th>\n",
       "      <th>Comment</th>\n",
       "    </tr>\n",
       "  </thead>\n",
       "  <tbody>\n",
       "    <tr>\n",
       "      <th>0</th>\n",
       "      <td>z0.41078_HI</td>\n",
       "      <td>12.760955260374478</td>\n",
       "      <td>1.0</td>\n",
       "      <td>c</td>\n",
       "      <td>None</td>\n",
       "    </tr>\n",
       "    <tr>\n",
       "      <th>1</th>\n",
       "      <td>z0.41230_HI</td>\n",
       "      <td>13.47</td>\n",
       "      <td>16.3</td>\n",
       "      <td>c</td>\n",
       "      <td>None</td>\n",
       "    </tr>\n",
       "  </tbody>\n",
       "</table>\n",
       "</div>"
      ],
      "text/plain": [
       "     Component  Column Density (N) Doppler Profile (b) Reliability Comment\n",
       "0  z0.41078_HI  12.760955260374478                 1.0           c    None\n",
       "1  z0.41230_HI               13.47                16.3           c    None"
      ]
     },
     "metadata": {},
     "output_type": "display_data"
    },
    {
     "name": "stdout",
     "output_type": "stream",
     "text": [
      "===================================================\n",
      "System: z0.41495_HI\n",
      "===================================================\n"
     ]
    },
    {
     "data": {
      "text/html": [
       "<div>\n",
       "<table border=\"1\" class=\"dataframe\">\n",
       "  <thead>\n",
       "    <tr style=\"text-align: right;\">\n",
       "      <th></th>\n",
       "      <th>Component</th>\n",
       "      <th>Column Density (N)</th>\n",
       "      <th>Doppler Profile (b)</th>\n",
       "      <th>Reliability</th>\n",
       "      <th>Comment</th>\n",
       "    </tr>\n",
       "  </thead>\n",
       "  <tbody>\n",
       "    <tr>\n",
       "      <th>0</th>\n",
       "      <td>z0.41495_HI</td>\n",
       "      <td>13.75</td>\n",
       "      <td>37.4</td>\n",
       "      <td>b</td>\n",
       "      <td>not bad</td>\n",
       "    </tr>\n",
       "  </tbody>\n",
       "</table>\n",
       "</div>"
      ],
      "text/plain": [
       "     Component Column Density (N) Doppler Profile (b) Reliability  Comment\n",
       "0  z0.41495_HI              13.75                37.4           b  not bad"
      ]
     },
     "metadata": {},
     "output_type": "display_data"
    },
    {
     "name": "stdout",
     "output_type": "stream",
     "text": [
      "===================================================\n",
      "System: z0.42004_HI\n",
      "===================================================\n"
     ]
    },
    {
     "data": {
      "text/html": [
       "<div>\n",
       "<table border=\"1\" class=\"dataframe\">\n",
       "  <thead>\n",
       "    <tr style=\"text-align: right;\">\n",
       "      <th></th>\n",
       "      <th>Component</th>\n",
       "      <th>Column Density (N)</th>\n",
       "      <th>Doppler Profile (b)</th>\n",
       "      <th>Reliability</th>\n",
       "      <th>Comment</th>\n",
       "    </tr>\n",
       "  </thead>\n",
       "  <tbody>\n",
       "    <tr>\n",
       "      <th>0</th>\n",
       "      <td>z0.42004_HI</td>\n",
       "      <td>13.43</td>\n",
       "      <td>18.0</td>\n",
       "      <td>c</td>\n",
       "      <td>terrible LyB fit</td>\n",
       "    </tr>\n",
       "  </tbody>\n",
       "</table>\n",
       "</div>"
      ],
      "text/plain": [
       "     Component Column Density (N) Doppler Profile (b) Reliability  \\\n",
       "0  z0.42004_HI              13.43                18.0           c   \n",
       "\n",
       "            Comment  \n",
       "0  terrible LyB fit  "
      ]
     },
     "metadata": {},
     "output_type": "display_data"
    },
    {
     "name": "stdout",
     "output_type": "stream",
     "text": [
      "===================================================\n",
      "System: z0.42333_HI\n",
      "===================================================\n"
     ]
    },
    {
     "data": {
      "text/html": [
       "<div>\n",
       "<table border=\"1\" class=\"dataframe\">\n",
       "  <thead>\n",
       "    <tr style=\"text-align: right;\">\n",
       "      <th></th>\n",
       "      <th>Component</th>\n",
       "      <th>Column Density (N)</th>\n",
       "      <th>Doppler Profile (b)</th>\n",
       "      <th>Reliability</th>\n",
       "      <th>Comment</th>\n",
       "    </tr>\n",
       "  </thead>\n",
       "  <tbody>\n",
       "    <tr>\n",
       "      <th>0</th>\n",
       "      <td>z0.42333_HI</td>\n",
       "      <td>13.23</td>\n",
       "      <td>21.8</td>\n",
       "      <td>c</td>\n",
       "      <td>None</td>\n",
       "    </tr>\n",
       "  </tbody>\n",
       "</table>\n",
       "</div>"
      ],
      "text/plain": [
       "     Component Column Density (N) Doppler Profile (b) Reliability Comment\n",
       "0  z0.42333_HI              13.23                21.8           c    None"
      ]
     },
     "metadata": {},
     "output_type": "display_data"
    },
    {
     "name": "stdout",
     "output_type": "stream",
     "text": [
      "===================================================\n",
      "System: z0.43872_HI\n",
      "===================================================\n"
     ]
    },
    {
     "data": {
      "text/html": [
       "<div>\n",
       "<table border=\"1\" class=\"dataframe\">\n",
       "  <thead>\n",
       "    <tr style=\"text-align: right;\">\n",
       "      <th></th>\n",
       "      <th>Component</th>\n",
       "      <th>Column Density (N)</th>\n",
       "      <th>Doppler Profile (b)</th>\n",
       "      <th>Reliability</th>\n",
       "      <th>Comment</th>\n",
       "    </tr>\n",
       "  </thead>\n",
       "  <tbody>\n",
       "    <tr>\n",
       "      <th>0</th>\n",
       "      <td>z0.43872_HI</td>\n",
       "      <td>13.741156644444604</td>\n",
       "      <td>24.76151704148117</td>\n",
       "      <td>c</td>\n",
       "      <td>None</td>\n",
       "    </tr>\n",
       "  </tbody>\n",
       "</table>\n",
       "</div>"
      ],
      "text/plain": [
       "     Component  Column Density (N) Doppler Profile (b) Reliability Comment\n",
       "0  z0.43872_HI  13.741156644444604   24.76151704148117           c    None"
      ]
     },
     "metadata": {},
     "output_type": "display_data"
    },
    {
     "name": "stdout",
     "output_type": "stream",
     "text": [
      "===================================================\n",
      "System: z0.44870_HI\n",
      "===================================================\n"
     ]
    },
    {
     "data": {
      "text/html": [
       "<div>\n",
       "<table border=\"1\" class=\"dataframe\">\n",
       "  <thead>\n",
       "    <tr style=\"text-align: right;\">\n",
       "      <th></th>\n",
       "      <th>Component</th>\n",
       "      <th>Column Density (N)</th>\n",
       "      <th>Doppler Profile (b)</th>\n",
       "      <th>Reliability</th>\n",
       "      <th>Comment</th>\n",
       "    </tr>\n",
       "  </thead>\n",
       "  <tbody>\n",
       "    <tr>\n",
       "      <th>0</th>\n",
       "      <td>z0.44942_HI</td>\n",
       "      <td>14.59</td>\n",
       "      <td>52.7</td>\n",
       "      <td>a</td>\n",
       "      <td>Name: Grodius Maximus Nebulae</td>\n",
       "    </tr>\n",
       "    <tr>\n",
       "      <th>1</th>\n",
       "      <td>z0.44870_HI</td>\n",
       "      <td>13.95</td>\n",
       "      <td>30.0</td>\n",
       "      <td>b</td>\n",
       "      <td>Grodius little brother</td>\n",
       "    </tr>\n",
       "  </tbody>\n",
       "</table>\n",
       "</div>"
      ],
      "text/plain": [
       "     Component Column Density (N) Doppler Profile (b) Reliability  \\\n",
       "0  z0.44942_HI              14.59                52.7           a   \n",
       "1  z0.44870_HI              13.95                30.0           b   \n",
       "\n",
       "                          Comment  \n",
       "0  Name: Grodius Maximus Nebulae   \n",
       "1          Grodius little brother  "
      ]
     },
     "metadata": {},
     "output_type": "display_data"
    },
    {
     "name": "stdout",
     "output_type": "stream",
     "text": [
      "===================================================\n",
      "System: z0.44942_HI\n",
      "===================================================\n"
     ]
    },
    {
     "data": {
      "text/html": [
       "<div>\n",
       "<table border=\"1\" class=\"dataframe\">\n",
       "  <thead>\n",
       "    <tr style=\"text-align: right;\">\n",
       "      <th></th>\n",
       "      <th>Component</th>\n",
       "      <th>Column Density (N)</th>\n",
       "      <th>Doppler Profile (b)</th>\n",
       "      <th>Reliability</th>\n",
       "      <th>Comment</th>\n",
       "    </tr>\n",
       "  </thead>\n",
       "  <tbody>\n",
       "    <tr>\n",
       "      <th>0</th>\n",
       "      <td>z0.44942_HI</td>\n",
       "      <td>14.59</td>\n",
       "      <td>52.7</td>\n",
       "      <td>a</td>\n",
       "      <td>Name: Grodius Maximus Nebulae</td>\n",
       "    </tr>\n",
       "    <tr>\n",
       "      <th>1</th>\n",
       "      <td>z0.44870_HI</td>\n",
       "      <td>13.95</td>\n",
       "      <td>30.0</td>\n",
       "      <td>b</td>\n",
       "      <td>Grodius little brother</td>\n",
       "    </tr>\n",
       "  </tbody>\n",
       "</table>\n",
       "</div>"
      ],
      "text/plain": [
       "     Component Column Density (N) Doppler Profile (b) Reliability  \\\n",
       "0  z0.44942_HI              14.59                52.7           a   \n",
       "1  z0.44870_HI              13.95                30.0           b   \n",
       "\n",
       "                          Comment  \n",
       "0  Name: Grodius Maximus Nebulae   \n",
       "1          Grodius little brother  "
      ]
     },
     "metadata": {},
     "output_type": "display_data"
    },
    {
     "name": "stdout",
     "output_type": "stream",
     "text": [
      "===================================================\n",
      "System: z0.45216_HI\n",
      "===================================================\n"
     ]
    },
    {
     "data": {
      "text/html": [
       "<div>\n",
       "<table border=\"1\" class=\"dataframe\">\n",
       "  <thead>\n",
       "    <tr style=\"text-align: right;\">\n",
       "      <th></th>\n",
       "      <th>Component</th>\n",
       "      <th>Column Density (N)</th>\n",
       "      <th>Doppler Profile (b)</th>\n",
       "      <th>Reliability</th>\n",
       "      <th>Comment</th>\n",
       "    </tr>\n",
       "  </thead>\n",
       "  <tbody>\n",
       "    <tr>\n",
       "      <th>0</th>\n",
       "      <td>z0.45216_HI</td>\n",
       "      <td>13.24</td>\n",
       "      <td>23.0</td>\n",
       "      <td>c</td>\n",
       "      <td>LyB bad fit</td>\n",
       "    </tr>\n",
       "  </tbody>\n",
       "</table>\n",
       "</div>"
      ],
      "text/plain": [
       "     Component Column Density (N) Doppler Profile (b) Reliability      Comment\n",
       "0  z0.45216_HI              13.24                23.0           c  LyB bad fit"
      ]
     },
     "metadata": {},
     "output_type": "display_data"
    },
    {
     "name": "stdout",
     "output_type": "stream",
     "text": [
      "===================================================\n",
      "System: z0.46012_HI\n",
      "===================================================\n"
     ]
    },
    {
     "data": {
      "text/html": [
       "<div>\n",
       "<table border=\"1\" class=\"dataframe\">\n",
       "  <thead>\n",
       "    <tr style=\"text-align: right;\">\n",
       "      <th></th>\n",
       "      <th>Component</th>\n",
       "      <th>Column Density (N)</th>\n",
       "      <th>Doppler Profile (b)</th>\n",
       "      <th>Reliability</th>\n",
       "      <th>Comment</th>\n",
       "    </tr>\n",
       "  </thead>\n",
       "  <tbody>\n",
       "    <tr>\n",
       "      <th>0</th>\n",
       "      <td>z0.46012_HI</td>\n",
       "      <td>13.42</td>\n",
       "      <td>38.2</td>\n",
       "      <td>b</td>\n",
       "      <td>None</td>\n",
       "    </tr>\n",
       "  </tbody>\n",
       "</table>\n",
       "</div>"
      ],
      "text/plain": [
       "     Component Column Density (N) Doppler Profile (b) Reliability Comment\n",
       "0  z0.46012_HI              13.42                38.2           b    None"
      ]
     },
     "metadata": {},
     "output_type": "display_data"
    },
    {
     "name": "stdout",
     "output_type": "stream",
     "text": [
      "===================================================\n",
      "System: z0.54909_HI\n",
      "===================================================\n"
     ]
    },
    {
     "data": {
      "text/html": [
       "<div>\n",
       "<table border=\"1\" class=\"dataframe\">\n",
       "  <thead>\n",
       "    <tr style=\"text-align: right;\">\n",
       "      <th></th>\n",
       "      <th>Component</th>\n",
       "      <th>Column Density (N)</th>\n",
       "      <th>Doppler Profile (b)</th>\n",
       "      <th>Reliability</th>\n",
       "      <th>Comment</th>\n",
       "    </tr>\n",
       "  </thead>\n",
       "  <tbody>\n",
       "    <tr>\n",
       "      <th>0</th>\n",
       "      <td>z0.54909_HI</td>\n",
       "      <td>14.33</td>\n",
       "      <td>42.2</td>\n",
       "      <td>b</td>\n",
       "      <td>tiny</td>\n",
       "    </tr>\n",
       "  </tbody>\n",
       "</table>\n",
       "</div>"
      ],
      "text/plain": [
       "     Component Column Density (N) Doppler Profile (b) Reliability Comment\n",
       "0  z0.54909_HI              14.33                42.2           b    tiny"
      ]
     },
     "metadata": {},
     "output_type": "display_data"
    }
   ],
   "source": [
    "#Sort components by system and visualize\n",
    "\n",
    "#Note: Systems that are close together (<~0.010) may overlap components in the current build.\n",
    "\n",
    "for system in systems:\n",
    "    sys_components=[]\n",
    "    sys_reliabilities=[]\n",
    "    sys_comments=[]\n",
    "    sys_n=[]\n",
    "    sys_b=[]\n",
    "    sys_dict={}\n",
    "    for component in components:\n",
    "        if component[1]=='-':\n",
    "            c_z=component[2:9]\n",
    "        else:\n",
    "            c_z=component[1:8]\n",
    "        if abs(float(c_z)-float(system[1:8]))<=0.00167: ## 500 km/s offset. \n",
    "            cmp_info=component.split(';')\n",
    "            sys_components.append(cmp_info[0])\n",
    "            sys_reliabilities.append(cmp_info[1])\n",
    "            sys_comments.append(cmp_info[2])\n",
    "            sys_n.append(cmp_info[3])\n",
    "            sys_b.append(cmp_info[4])\n",
    "            sys_dict={'Component':sys_components,'Reliability':sys_reliabilities,'Comment': sys_comments, 'Column Density (N)': sys_n, 'Doppler Profile (b)':sys_b}\n",
    "    print (\"===================================================\")\n",
    "    print (\"System: \"+system)\n",
    "    print (\"===================================================\")\n",
    "    df = pd.DataFrame(sys_dict,columns = ['Component','Column Density (N)','Doppler Profile (b)', 'Reliability', 'Comment'])\n",
    "    display(df)\n"
   ]
  },
  {
   "cell_type": "code",
   "execution_count": null,
   "metadata": {
    "collapsed": true
   },
   "outputs": [],
   "source": []
  },
  {
   "cell_type": "code",
   "execution_count": null,
   "metadata": {
    "collapsed": true
   },
   "outputs": [],
   "source": []
  }
 ],
 "metadata": {
  "anaconda-cloud": {},
  "kernelspec": {
   "display_name": "Python [conda root]",
   "language": "python",
   "name": "conda-root-py"
  },
  "language_info": {
   "codemirror_mode": {
    "name": "ipython",
    "version": 3
   },
   "file_extension": ".py",
   "mimetype": "text/x-python",
   "name": "python",
   "nbconvert_exporter": "python",
   "pygments_lexer": "ipython3",
   "version": "3.5.2"
  }
 },
 "nbformat": 4,
 "nbformat_minor": 0
}
