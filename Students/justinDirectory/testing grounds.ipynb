{
 "cells": [
  {
   "cell_type": "code",
   "execution_count": 16,
   "metadata": {
    "collapsed": false
   },
   "outputs": [
    {
     "name": "stdout",
     "output_type": "stream",
     "text": [
      "0 0\n"
     ]
    }
   ],
   "source": [
    "from PIL import Image\n",
    "hst_img = Image.open(\"hs-2006-17-c-full_jpg (1).jpg\")\n",
    "pix = hst_img.load()\n",
    "hst_img.show()\n",
    "\n",
    "\n",
    "\n",
    "obs_img = Image.new( 'RGB', (1701,1701), \"black\") # create a new black image\n",
    "obs = obs_img.load() # create the pixel map\n",
    "black = (0 , 0 , 0)\n",
    "red = (0 , 0 , 200)\n",
    "n = 1\n",
    "for x_test in range(0 , 1701):    # testing obs pixels\n",
    "    for y_test in range(0 , 1701):\n",
    "        x_rel = abs(x_test - 850)      # coordinates are relative to center (250 , 250)\n",
    "        y_rel = abs(y_test - 850)\n",
    "        T = ((x_rel)**2 + (y_rel)**2) ** 0.5   # lens function\n",
    "        if T == 0:\n",
    "            print(x_rel , y_rel)\n",
    "            break\n",
    "        B = (T - (10000/T))       #50000 is convinient Einstein Radius for the display\n",
    "        dist = (B/T)     # dist: is ratio describing the particles change in distance from the center (250 , 250)\n",
    "        pix_x = int(850 + (x_rel * dist))\n",
    "        pix_y = int(850 + (y_rel * dist))\n",
    "        if pix_x > 1699 or pix_x < 1:\n",
    "            pix_x = 1\n",
    "        if pix_y > 1699 or pix_y < 1:\n",
    "            pix_y = 1\n",
    "        if pix[pix_x , pix_y] != black:        #checks if lensed pixel operated upon by \"dist\" produces a source image pixel\n",
    "            if  pix[pix_x , pix_y] != red:\n",
    "                obs[x_test , y_test] = (0 , 0 , 200)   # red\n",
    "                pix[x_test , y_test] = (200 , 0 , 0)   # blue\n",
    "\n",
    "\n",
    "obs_img.show()\n",
    "hst_img.show()\n",
    "\n",
    "# produces 2 pictures. First is the source image along with the lensed image and the second is just the lensed image. \n",
    "# Source image is white"
   ]
  },
  {
   "cell_type": "code",
   "execution_count": 17,
   "metadata": {
    "collapsed": false
   },
   "outputs": [
    {
     "name": "stdout",
     "output_type": "stream",
     "text": [
      "8 (1701, 1701) JPEG\n"
     ]
    }
   ],
   "source": [
    "print (hst_img.bits, hst_img.size, hst_img.format)"
   ]
  },
  {
   "cell_type": "code",
   "execution_count": null,
   "metadata": {
    "collapsed": true
   },
   "outputs": [],
   "source": []
  }
 ],
 "metadata": {
  "anaconda-cloud": {},
  "kernelspec": {
   "display_name": "Python [conda root]",
   "language": "python",
   "name": "conda-root-py"
  },
  "language_info": {
   "codemirror_mode": {
    "name": "ipython",
    "version": 3
   },
   "file_extension": ".py",
   "mimetype": "text/x-python",
   "name": "python",
   "nbconvert_exporter": "python",
   "pygments_lexer": "ipython3",
   "version": "3.5.2"
  }
 },
 "nbformat": 4,
 "nbformat_minor": 1
}
