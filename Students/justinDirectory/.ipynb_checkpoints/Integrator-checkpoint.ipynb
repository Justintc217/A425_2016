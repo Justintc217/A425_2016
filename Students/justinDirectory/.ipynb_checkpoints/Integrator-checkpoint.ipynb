{
 "cells": [
  {
   "cell_type": "code",
   "execution_count": 19,
   "metadata": {
    "collapsed": false
   },
   "outputs": [
    {
     "name": "stdout",
     "output_type": "stream",
     "text": [
      "1.7724538509055159\n"
     ]
    }
   ],
   "source": [
    "import math\n",
    "pi = math.pi\n",
    "pip = pi ** 0.5\n",
    "print(pip)"
   ]
  },
  {
   "cell_type": "code",
   "execution_count": 21,
   "metadata": {
    "collapsed": false
   },
   "outputs": [
    {
     "name": "stdout",
     "output_type": "stream",
     "text": [
      "0.8427007929497152 9.355858232026506e-15\n"
     ]
    }
   ],
   "source": [
    "\n",
    "\n",
    "input_cat = []\n",
    "output_cat = []\n",
    "import matplotlib.pyplot as plt\n",
    "from scipy.integrate import quad\n",
    "import math\n",
    "pi = math.pi\n",
    "pir = pi ** 0.5\n",
    "a = 15\n",
    "def erf_quasi(x):\n",
    "    return (1/(a*(pir))) * math.exp(-(x**2)/(a**2))\n",
    "\n",
    "\n",
    "\n",
    "\n",
    "answer , error = quad(erf_quasi, -a , a)\n",
    "\n",
    "print(answer , error)\n",
    "\n"
   ]
  },
  {
   "cell_type": "code",
   "execution_count": null,
   "metadata": {
    "collapsed": true
   },
   "outputs": [],
   "source": []
  }
 ],
 "metadata": {
  "anaconda-cloud": {},
  "kernelspec": {
   "display_name": "Python [conda root]",
   "language": "python",
   "name": "conda-root-py"
  },
  "language_info": {
   "codemirror_mode": {
    "name": "ipython",
    "version": 3
   },
   "file_extension": ".py",
   "mimetype": "text/x-python",
   "name": "python",
   "nbconvert_exporter": "python",
   "pygments_lexer": "ipython3",
   "version": "3.5.2"
  }
 },
 "nbformat": 4,
 "nbformat_minor": 1
}
