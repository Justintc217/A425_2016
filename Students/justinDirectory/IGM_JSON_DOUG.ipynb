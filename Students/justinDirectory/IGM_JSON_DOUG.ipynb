{
 "cells": [
  {
   "cell_type": "code",
   "execution_count": 5,
   "metadata": {
    "collapsed": true
   },
   "outputs": [],
   "source": [
    "%matplotlib inline\n",
    "\n",
    "import numpy as np\n",
    "from matplotlib import pyplot as plt\n",
    "import pandas as pd\n",
    "from pandas.tools.plotting import table\n",
    "import json\n",
    "from IPython.display import display\n",
    "import re\n"
   ]
  },
  {
   "cell_type": "code",
   "execution_count": 6,
   "metadata": {
    "collapsed": false
   },
   "outputs": [
    {
     "name": "stdout",
     "output_type": "stream",
     "text": [
      " Volume in drive C is OS\n",
      " Volume Serial Number is C0B6-74F0\n",
      "\n",
      " Directory of C:\\Users\\justin\\Documents\\GitHub\\A425_2016\\Students\\justinDirectory\n",
      "\n",
      "10/27/2016  01:30 PM    <DIR>          .\n",
      "10/27/2016  01:30 PM    <DIR>          ..\n",
      "10/27/2016  01:30 PM    <DIR>          .ipynb_checkpoints\n",
      "10/20/2016  01:20 AM             7,539 Access email.ipynb\n",
      "10/27/2016  01:24 PM           740,936 David2517Update.json\n",
      "10/25/2016  04:58 PM    <DIR>          IGM J1059+2517 - jutnlife@gmail.com - Gmail_files\n",
      "10/25/2016  04:58 PM         2,088,408 IGM J1059+2517final.html\n",
      "10/27/2016  01:28 PM            71,185 IGM_JSON_DOUG-Copy1.ipynb\n",
      "10/27/2016  01:30 PM            72,495 IGM_JSON_DOUG.ipynb\n",
      "10/25/2016  05:23 PM           827,102 IGM_model_final1.json\n",
      "10/25/2016  04:57 PM         2,091,639 ipython notebook - jutnlife@gmail.com - Gmail.html\n",
      "10/25/2016  05:00 PM    <DIR>          ipython notebook - jutnlife@gmail.com - Gmail_files\n",
      "09/28/2016  05:49 PM                27 justin_homework1\n",
      "10/22/2016  05:50 PM            83,002 Justin_Homework_2_Revised.ipynb\n",
      "10/26/2016  07:19 PM           105,831 Justin_HW3_draft.ipynb\n",
      "10/25/2016  05:42 PM            71,196 Justin_IGM_J1059+2517.ipynb\n",
      "10/25/2016  05:06 PM         2,087,894 meeeeeeee - jutnlife@gmail.com - Gmail.html\n",
      "10/25/2016  05:06 PM    <DIR>          meeeeeeee - jutnlife@gmail.com - Gmail_files\n",
      "10/20/2016  12:41 AM             1,714 Scam analyzer.ipynb\n",
      "09/28/2016  03:07 PM                 7 test again\n",
      "10/22/2016  06:13 PM             2,418 testing grounds.ipynb\n",
      "10/22/2016  04:32 PM             1,429 Untitled.ipynb\n",
      "10/20/2016  12:53 AM             3,335 Untitled1.ipynb\n",
      "10/20/2016  12:56 AM             1,244 Untitled2.ipynb\n",
      "              18 File(s)      8,257,401 bytes\n",
      "               6 Dir(s)  862,174,322,688 bytes free\n"
     ]
    }
   ],
   "source": [
    "!dir\n"
   ]
  },
  {
   "cell_type": "code",
   "execution_count": 7,
   "metadata": {
    "collapsed": false
   },
   "outputs": [],
   "source": [
    "#Load in file\n",
    "\n",
    "#with open('J1553+3548_IGM.json') as data_file:    \n",
    "    #data = json.load(data_file)\n",
    "    \n",
    "with open('David2517Update.json') as data_file:    \n",
    "    data = json.load(data_file)"
   ]
  },
  {
   "cell_type": "code",
   "execution_count": 8,
   "metadata": {
    "collapsed": false
   },
   "outputs": [],
   "source": [
    "#Read in data from file, identify systems and components\n",
    "\n",
    "systems=['z0.00000_MW']\n",
    "components=[]\n",
    "\n",
    "\n",
    "for cmp in data[\"cmps\"]:\n",
    "    cmp_dict=data[\"cmps\"][str(cmp)]\n",
    "    cmp_data=''\n",
    "    if cmp[-2:]==\"HI\":\n",
    "        systems.append(str(cmp))\n",
    "    cmp_data+=str(cmp)+';'\n",
    "    cmp_data+=str(cmp_dict[\"Reliability\"])+';'\n",
    "    if cmp_dict[\"Comment\"]=='':\n",
    "        cmp_data+='None;'\n",
    "    else:\n",
    "        cmp_data+=str(cmp_dict[\"Comment\"])+';'\n",
    "    cmp_data+=str(cmp_dict[\"Nfit\"])+';'\n",
    "    cmp_data+=str(cmp_dict[\"bfit\"])+';'\n",
    "    components.append(cmp_data)"
   ]
  },
  {
   "cell_type": "code",
   "execution_count": 9,
   "metadata": {
    "collapsed": false
   },
   "outputs": [
    {
     "name": "stdout",
     "output_type": "stream",
     "text": [
      "['z0.00000_MW', 'z0.02047_HI', 'z0.02087_HI', 'z0.03245_HI', 'z0.03634_HI', 'z0.05151_HI', 'z0.07885_HI', 'z0.08292_HI', 'z0.10315_HI', 'z0.11032_HI', 'z0.11877_HI', 'z0.12313_HI', 'z0.12683_HI', 'z0.15425_HI', 'z0.18313_HI', 'z0.20506_HI', 'z0.21486_HI', 'z0.21563_HI', 'z0.24558_HI', 'z0.26336_HI', 'z0.26368_HI', 'z0.28133_HI', 'z0.29771_HI', 'z0.30713_HI', 'z0.32951_HI', 'z0.36001_HI', 'z0.39084_HI', 'z0.39294_HI', 'z0.40109_HI', 'z0.41088_HI', 'z0.41238_HI', 'z0.41494_HI', 'z0.41857_HI', 'z0.42014_HI', 'z0.42330_HI', 'z0.43252_HI', 'z0.43878_HI', 'z0.44874_HI', 'z0.44948_HI', 'z0.54099_HI', 'z0.63692_HI']\n"
     ]
    }
   ],
   "source": [
    "#Sort systems by redshift\n",
    "\n",
    "def atoi(text):\n",
    "    return int(text) if text.isdigit() else text\n",
    "\n",
    "def natural_keys(text):\n",
    "    return [ atoi(c) for c in re.split('(\\d+)', text) ]\n",
    "\n",
    "\n",
    "systems.sort(key=natural_keys)\n",
    "print(systems)\n",
    "\n",
    "#for system in systems[1:]:\n",
    "    #for line in data[\"cmps\"][system][\"lines\"].keys():\n",
    "        #print line"
   ]
  },
  {
   "cell_type": "code",
   "execution_count": 10,
   "metadata": {
    "collapsed": false,
    "scrolled": false
   },
   "outputs": [
    {
     "name": "stdout",
     "output_type": "stream",
     "text": [
      "===================================================\n",
      "System: z0.00000_MW\n",
      "===================================================\n"
     ]
    },
    {
     "data": {
      "text/html": [
       "<div>\n",
       "<table border=\"1\" class=\"dataframe\">\n",
       "  <thead>\n",
       "    <tr style=\"text-align: right;\">\n",
       "      <th></th>\n",
       "      <th>Component</th>\n",
       "      <th>Column Density (N)</th>\n",
       "      <th>Doppler Profile (b)</th>\n",
       "      <th>Reliability</th>\n",
       "      <th>Comment</th>\n",
       "    </tr>\n",
       "  </thead>\n",
       "  <tbody>\n",
       "    <tr>\n",
       "      <th>0</th>\n",
       "      <td>z-0.00004_AlII</td>\n",
       "      <td>13.49</td>\n",
       "      <td>59.9</td>\n",
       "      <td>a</td>\n",
       "      <td>MW</td>\n",
       "    </tr>\n",
       "    <tr>\n",
       "      <th>1</th>\n",
       "      <td>z-0.00004_SII</td>\n",
       "      <td>15.14</td>\n",
       "      <td>22.5</td>\n",
       "      <td>a</td>\n",
       "      <td>MW triplet</td>\n",
       "    </tr>\n",
       "    <tr>\n",
       "      <th>2</th>\n",
       "      <td>z0.00003_SiII</td>\n",
       "      <td>14.22</td>\n",
       "      <td>43.8</td>\n",
       "      <td>a</td>\n",
       "      <td>MW</td>\n",
       "    </tr>\n",
       "    <tr>\n",
       "      <th>3</th>\n",
       "      <td>z-0.00011_CII</td>\n",
       "      <td>15.86</td>\n",
       "      <td>35.3</td>\n",
       "      <td>a</td>\n",
       "      <td>MW</td>\n",
       "    </tr>\n",
       "    <tr>\n",
       "      <th>4</th>\n",
       "      <td>z-0.00009_SiIV</td>\n",
       "      <td>13.46</td>\n",
       "      <td>58.1</td>\n",
       "      <td>a</td>\n",
       "      <td>None</td>\n",
       "    </tr>\n",
       "    <tr>\n",
       "      <th>5</th>\n",
       "      <td>z0.00002_CIV</td>\n",
       "      <td>14.07</td>\n",
       "      <td>56.0</td>\n",
       "      <td>a</td>\n",
       "      <td>MW</td>\n",
       "    </tr>\n",
       "    <tr>\n",
       "      <th>6</th>\n",
       "      <td>z-0.00001_NI</td>\n",
       "      <td>14.86</td>\n",
       "      <td>28.4</td>\n",
       "      <td>a</td>\n",
       "      <td>MW triplet</td>\n",
       "    </tr>\n",
       "    <tr>\n",
       "      <th>7</th>\n",
       "      <td>z-0.00003_FeII</td>\n",
       "      <td>14.53</td>\n",
       "      <td>36.1</td>\n",
       "      <td>b</td>\n",
       "      <td>MW</td>\n",
       "    </tr>\n",
       "  </tbody>\n",
       "</table>\n",
       "</div>"
      ],
      "text/plain": [
       "        Component Column Density (N) Doppler Profile (b) Reliability  \\\n",
       "0  z-0.00004_AlII              13.49                59.9           a   \n",
       "1   z-0.00004_SII              15.14                22.5           a   \n",
       "2   z0.00003_SiII              14.22                43.8           a   \n",
       "3   z-0.00011_CII              15.86                35.3           a   \n",
       "4  z-0.00009_SiIV              13.46                58.1           a   \n",
       "5    z0.00002_CIV              14.07                56.0           a   \n",
       "6    z-0.00001_NI              14.86                28.4           a   \n",
       "7  z-0.00003_FeII              14.53                36.1           b   \n",
       "\n",
       "      Comment  \n",
       "0          MW  \n",
       "1  MW triplet  \n",
       "2          MW  \n",
       "3          MW  \n",
       "4        None  \n",
       "5          MW  \n",
       "6  MW triplet  \n",
       "7          MW  "
      ]
     },
     "metadata": {},
     "output_type": "display_data"
    },
    {
     "name": "stdout",
     "output_type": "stream",
     "text": [
      "===================================================\n",
      "System: z0.02047_HI\n",
      "===================================================\n"
     ]
    },
    {
     "data": {
      "text/html": [
       "<div>\n",
       "<table border=\"1\" class=\"dataframe\">\n",
       "  <thead>\n",
       "    <tr style=\"text-align: right;\">\n",
       "      <th></th>\n",
       "      <th>Component</th>\n",
       "      <th>Column Density (N)</th>\n",
       "      <th>Doppler Profile (b)</th>\n",
       "      <th>Reliability</th>\n",
       "      <th>Comment</th>\n",
       "    </tr>\n",
       "  </thead>\n",
       "  <tbody>\n",
       "    <tr>\n",
       "      <th>0</th>\n",
       "      <td>z0.02087_HI</td>\n",
       "      <td>15.92</td>\n",
       "      <td>21.7</td>\n",
       "      <td>b</td>\n",
       "      <td>Strong Absorption at low redshift</td>\n",
       "    </tr>\n",
       "    <tr>\n",
       "      <th>1</th>\n",
       "      <td>z0.02047_HI</td>\n",
       "      <td>13.49</td>\n",
       "      <td>28.4</td>\n",
       "      <td>c</td>\n",
       "      <td>Medium absorption at low redshift</td>\n",
       "    </tr>\n",
       "  </tbody>\n",
       "</table>\n",
       "</div>"
      ],
      "text/plain": [
       "     Component Column Density (N) Doppler Profile (b) Reliability  \\\n",
       "0  z0.02087_HI              15.92                21.7           b   \n",
       "1  z0.02047_HI              13.49                28.4           c   \n",
       "\n",
       "                              Comment  \n",
       "0  Strong Absorption at low redshift   \n",
       "1   Medium absorption at low redshift  "
      ]
     },
     "metadata": {},
     "output_type": "display_data"
    },
    {
     "name": "stdout",
     "output_type": "stream",
     "text": [
      "===================================================\n",
      "System: z0.02087_HI\n",
      "===================================================\n"
     ]
    },
    {
     "data": {
      "text/html": [
       "<div>\n",
       "<table border=\"1\" class=\"dataframe\">\n",
       "  <thead>\n",
       "    <tr style=\"text-align: right;\">\n",
       "      <th></th>\n",
       "      <th>Component</th>\n",
       "      <th>Column Density (N)</th>\n",
       "      <th>Doppler Profile (b)</th>\n",
       "      <th>Reliability</th>\n",
       "      <th>Comment</th>\n",
       "    </tr>\n",
       "  </thead>\n",
       "  <tbody>\n",
       "    <tr>\n",
       "      <th>0</th>\n",
       "      <td>z0.02087_HI</td>\n",
       "      <td>15.92</td>\n",
       "      <td>21.7</td>\n",
       "      <td>b</td>\n",
       "      <td>Strong Absorption at low redshift</td>\n",
       "    </tr>\n",
       "    <tr>\n",
       "      <th>1</th>\n",
       "      <td>z0.02047_HI</td>\n",
       "      <td>13.49</td>\n",
       "      <td>28.4</td>\n",
       "      <td>c</td>\n",
       "      <td>Medium absorption at low redshift</td>\n",
       "    </tr>\n",
       "  </tbody>\n",
       "</table>\n",
       "</div>"
      ],
      "text/plain": [
       "     Component Column Density (N) Doppler Profile (b) Reliability  \\\n",
       "0  z0.02087_HI              15.92                21.7           b   \n",
       "1  z0.02047_HI              13.49                28.4           c   \n",
       "\n",
       "                              Comment  \n",
       "0  Strong Absorption at low redshift   \n",
       "1   Medium absorption at low redshift  "
      ]
     },
     "metadata": {},
     "output_type": "display_data"
    },
    {
     "name": "stdout",
     "output_type": "stream",
     "text": [
      "===================================================\n",
      "System: z0.03245_HI\n",
      "===================================================\n"
     ]
    },
    {
     "data": {
      "text/html": [
       "<div>\n",
       "<table border=\"1\" class=\"dataframe\">\n",
       "  <thead>\n",
       "    <tr style=\"text-align: right;\">\n",
       "      <th></th>\n",
       "      <th>Component</th>\n",
       "      <th>Column Density (N)</th>\n",
       "      <th>Doppler Profile (b)</th>\n",
       "      <th>Reliability</th>\n",
       "      <th>Comment</th>\n",
       "    </tr>\n",
       "  </thead>\n",
       "  <tbody>\n",
       "    <tr>\n",
       "      <th>0</th>\n",
       "      <td>z0.03245_HI</td>\n",
       "      <td>13.07</td>\n",
       "      <td>13.6</td>\n",
       "      <td>b</td>\n",
       "      <td>teeny-tiny L-a</td>\n",
       "    </tr>\n",
       "  </tbody>\n",
       "</table>\n",
       "</div>"
      ],
      "text/plain": [
       "     Component Column Density (N) Doppler Profile (b) Reliability  \\\n",
       "0  z0.03245_HI              13.07                13.6           b   \n",
       "\n",
       "          Comment  \n",
       "0  teeny-tiny L-a  "
      ]
     },
     "metadata": {},
     "output_type": "display_data"
    },
    {
     "name": "stdout",
     "output_type": "stream",
     "text": [
      "===================================================\n",
      "System: z0.03634_HI\n",
      "===================================================\n"
     ]
    },
    {
     "data": {
      "text/html": [
       "<div>\n",
       "<table border=\"1\" class=\"dataframe\">\n",
       "  <thead>\n",
       "    <tr style=\"text-align: right;\">\n",
       "      <th></th>\n",
       "      <th>Component</th>\n",
       "      <th>Column Density (N)</th>\n",
       "      <th>Doppler Profile (b)</th>\n",
       "      <th>Reliability</th>\n",
       "      <th>Comment</th>\n",
       "    </tr>\n",
       "  </thead>\n",
       "  <tbody>\n",
       "    <tr>\n",
       "      <th>0</th>\n",
       "      <td>z0.03634_HI</td>\n",
       "      <td>15.77</td>\n",
       "      <td>17.2</td>\n",
       "      <td>b</td>\n",
       "      <td>Solo L-alpha</td>\n",
       "    </tr>\n",
       "  </tbody>\n",
       "</table>\n",
       "</div>"
      ],
      "text/plain": [
       "     Component Column Density (N) Doppler Profile (b) Reliability  \\\n",
       "0  z0.03634_HI              15.77                17.2           b   \n",
       "\n",
       "        Comment  \n",
       "0  Solo L-alpha  "
      ]
     },
     "metadata": {},
     "output_type": "display_data"
    },
    {
     "name": "stdout",
     "output_type": "stream",
     "text": [
      "===================================================\n",
      "System: z0.05151_HI\n",
      "===================================================\n"
     ]
    },
    {
     "data": {
      "text/html": [
       "<div>\n",
       "<table border=\"1\" class=\"dataframe\">\n",
       "  <thead>\n",
       "    <tr style=\"text-align: right;\">\n",
       "      <th></th>\n",
       "      <th>Component</th>\n",
       "      <th>Column Density (N)</th>\n",
       "      <th>Doppler Profile (b)</th>\n",
       "      <th>Reliability</th>\n",
       "      <th>Comment</th>\n",
       "    </tr>\n",
       "  </thead>\n",
       "  <tbody>\n",
       "    <tr>\n",
       "      <th>0</th>\n",
       "      <td>z0.05151_HI</td>\n",
       "      <td>13.83</td>\n",
       "      <td>31.9</td>\n",
       "      <td>b</td>\n",
       "      <td>b rating because lack of paired childs</td>\n",
       "    </tr>\n",
       "  </tbody>\n",
       "</table>\n",
       "</div>"
      ],
      "text/plain": [
       "     Component Column Density (N) Doppler Profile (b) Reliability  \\\n",
       "0  z0.05151_HI              13.83                31.9           b   \n",
       "\n",
       "                                  Comment  \n",
       "0  b rating because lack of paired childs  "
      ]
     },
     "metadata": {},
     "output_type": "display_data"
    },
    {
     "name": "stdout",
     "output_type": "stream",
     "text": [
      "===================================================\n",
      "System: z0.07885_HI\n",
      "===================================================\n"
     ]
    },
    {
     "data": {
      "text/html": [
       "<div>\n",
       "<table border=\"1\" class=\"dataframe\">\n",
       "  <thead>\n",
       "    <tr style=\"text-align: right;\">\n",
       "      <th></th>\n",
       "      <th>Component</th>\n",
       "      <th>Column Density (N)</th>\n",
       "      <th>Doppler Profile (b)</th>\n",
       "      <th>Reliability</th>\n",
       "      <th>Comment</th>\n",
       "    </tr>\n",
       "  </thead>\n",
       "  <tbody>\n",
       "    <tr>\n",
       "      <th>0</th>\n",
       "      <td>z0.07880_CIV</td>\n",
       "      <td>13.72</td>\n",
       "      <td>19.3</td>\n",
       "      <td>c</td>\n",
       "      <td>Weak child paired</td>\n",
       "    </tr>\n",
       "    <tr>\n",
       "      <th>1</th>\n",
       "      <td>z0.07880_CuII</td>\n",
       "      <td>13.38</td>\n",
       "      <td>41.9</td>\n",
       "      <td>b</td>\n",
       "      <td>weak child</td>\n",
       "    </tr>\n",
       "    <tr>\n",
       "      <th>2</th>\n",
       "      <td>z0.07885_HI</td>\n",
       "      <td>14.75</td>\n",
       "      <td>56.5</td>\n",
       "      <td>b</td>\n",
       "      <td>Deep absorption that doesnt match anything else</td>\n",
       "    </tr>\n",
       "    <tr>\n",
       "      <th>3</th>\n",
       "      <td>z0.07889_CII</td>\n",
       "      <td>13.87</td>\n",
       "      <td>39.4</td>\n",
       "      <td>b</td>\n",
       "      <td>Med child pair</td>\n",
       "    </tr>\n",
       "  </tbody>\n",
       "</table>\n",
       "</div>"
      ],
      "text/plain": [
       "       Component Column Density (N) Doppler Profile (b) Reliability  \\\n",
       "0   z0.07880_CIV              13.72                19.3           c   \n",
       "1  z0.07880_CuII              13.38                41.9           b   \n",
       "2    z0.07885_HI              14.75                56.5           b   \n",
       "3   z0.07889_CII              13.87                39.4           b   \n",
       "\n",
       "                                           Comment  \n",
       "0                                Weak child paired  \n",
       "1                                       weak child  \n",
       "2  Deep absorption that doesnt match anything else  \n",
       "3                                   Med child pair  "
      ]
     },
     "metadata": {},
     "output_type": "display_data"
    },
    {
     "name": "stdout",
     "output_type": "stream",
     "text": [
      "===================================================\n",
      "System: z0.08292_HI\n",
      "===================================================\n"
     ]
    },
    {
     "data": {
      "text/html": [
       "<div>\n",
       "<table border=\"1\" class=\"dataframe\">\n",
       "  <thead>\n",
       "    <tr style=\"text-align: right;\">\n",
       "      <th></th>\n",
       "      <th>Component</th>\n",
       "      <th>Column Density (N)</th>\n",
       "      <th>Doppler Profile (b)</th>\n",
       "      <th>Reliability</th>\n",
       "      <th>Comment</th>\n",
       "    </tr>\n",
       "  </thead>\n",
       "  <tbody>\n",
       "    <tr>\n",
       "      <th>0</th>\n",
       "      <td>z0.08292_HI</td>\n",
       "      <td>13.51</td>\n",
       "      <td>30.9</td>\n",
       "      <td>b</td>\n",
       "      <td>small L-a</td>\n",
       "    </tr>\n",
       "  </tbody>\n",
       "</table>\n",
       "</div>"
      ],
      "text/plain": [
       "     Component Column Density (N) Doppler Profile (b) Reliability    Comment\n",
       "0  z0.08292_HI              13.51                30.9           b  small L-a"
      ]
     },
     "metadata": {},
     "output_type": "display_data"
    },
    {
     "name": "stdout",
     "output_type": "stream",
     "text": [
      "===================================================\n",
      "System: z0.10315_HI\n",
      "===================================================\n"
     ]
    },
    {
     "data": {
      "text/html": [
       "<div>\n",
       "<table border=\"1\" class=\"dataframe\">\n",
       "  <thead>\n",
       "    <tr style=\"text-align: right;\">\n",
       "      <th></th>\n",
       "      <th>Component</th>\n",
       "      <th>Column Density (N)</th>\n",
       "      <th>Doppler Profile (b)</th>\n",
       "      <th>Reliability</th>\n",
       "      <th>Comment</th>\n",
       "    </tr>\n",
       "  </thead>\n",
       "  <tbody>\n",
       "    <tr>\n",
       "      <th>0</th>\n",
       "      <td>z0.10315_HI</td>\n",
       "      <td>14.17</td>\n",
       "      <td>40.6</td>\n",
       "      <td>b</td>\n",
       "      <td>b rating because lack of paired childs</td>\n",
       "    </tr>\n",
       "  </tbody>\n",
       "</table>\n",
       "</div>"
      ],
      "text/plain": [
       "     Component Column Density (N) Doppler Profile (b) Reliability  \\\n",
       "0  z0.10315_HI              14.17                40.6           b   \n",
       "\n",
       "                                  Comment  \n",
       "0  b rating because lack of paired childs  "
      ]
     },
     "metadata": {},
     "output_type": "display_data"
    },
    {
     "name": "stdout",
     "output_type": "stream",
     "text": [
      "===================================================\n",
      "System: z0.11032_HI\n",
      "===================================================\n"
     ]
    },
    {
     "data": {
      "text/html": [
       "<div>\n",
       "<table border=\"1\" class=\"dataframe\">\n",
       "  <thead>\n",
       "    <tr style=\"text-align: right;\">\n",
       "      <th></th>\n",
       "      <th>Component</th>\n",
       "      <th>Column Density (N)</th>\n",
       "      <th>Doppler Profile (b)</th>\n",
       "      <th>Reliability</th>\n",
       "      <th>Comment</th>\n",
       "    </tr>\n",
       "  </thead>\n",
       "  <tbody>\n",
       "    <tr>\n",
       "      <th>0</th>\n",
       "      <td>z0.11032_HI</td>\n",
       "      <td>13.42</td>\n",
       "      <td>20.6</td>\n",
       "      <td>b</td>\n",
       "      <td>small L-a</td>\n",
       "    </tr>\n",
       "  </tbody>\n",
       "</table>\n",
       "</div>"
      ],
      "text/plain": [
       "     Component Column Density (N) Doppler Profile (b) Reliability    Comment\n",
       "0  z0.11032_HI              13.42                20.6           b  small L-a"
      ]
     },
     "metadata": {},
     "output_type": "display_data"
    },
    {
     "name": "stdout",
     "output_type": "stream",
     "text": [
      "===================================================\n",
      "System: z0.11877_HI\n",
      "===================================================\n"
     ]
    },
    {
     "data": {
      "text/html": [
       "<div>\n",
       "<table border=\"1\" class=\"dataframe\">\n",
       "  <thead>\n",
       "    <tr style=\"text-align: right;\">\n",
       "      <th></th>\n",
       "      <th>Component</th>\n",
       "      <th>Column Density (N)</th>\n",
       "      <th>Doppler Profile (b)</th>\n",
       "      <th>Reliability</th>\n",
       "      <th>Comment</th>\n",
       "    </tr>\n",
       "  </thead>\n",
       "  <tbody>\n",
       "    <tr>\n",
       "      <th>0</th>\n",
       "      <td>z0.11881_CIV</td>\n",
       "      <td>13.92</td>\n",
       "      <td>31.3</td>\n",
       "      <td>a</td>\n",
       "      <td>Grandma_Inet strong doublet</td>\n",
       "    </tr>\n",
       "    <tr>\n",
       "      <th>1</th>\n",
       "      <td>z0.11877_HI</td>\n",
       "      <td>14.87</td>\n",
       "      <td>32.6</td>\n",
       "      <td>a</td>\n",
       "      <td>Strong fit La\\b named Grandma_inet</td>\n",
       "    </tr>\n",
       "    <tr>\n",
       "      <th>2</th>\n",
       "      <td>z0.11892_XeI</td>\n",
       "      <td>13.15</td>\n",
       "      <td>15.2</td>\n",
       "      <td>c</td>\n",
       "      <td>Grandma_inet weak</td>\n",
       "    </tr>\n",
       "    <tr>\n",
       "      <th>3</th>\n",
       "      <td>z0.11893_CII</td>\n",
       "      <td>13.44</td>\n",
       "      <td>17.4</td>\n",
       "      <td>c</td>\n",
       "      <td>Grandma_Inet weak abs</td>\n",
       "    </tr>\n",
       "    <tr>\n",
       "      <th>4</th>\n",
       "      <td>z0.11884_OVI</td>\n",
       "      <td>13.95</td>\n",
       "      <td>24.5</td>\n",
       "      <td>b</td>\n",
       "      <td>Grandma_Inet Doublet weak abs</td>\n",
       "    </tr>\n",
       "  </tbody>\n",
       "</table>\n",
       "</div>"
      ],
      "text/plain": [
       "      Component Column Density (N) Doppler Profile (b) Reliability  \\\n",
       "0  z0.11881_CIV              13.92                31.3           a   \n",
       "1   z0.11877_HI              14.87                32.6           a   \n",
       "2  z0.11892_XeI              13.15                15.2           c   \n",
       "3  z0.11893_CII              13.44                17.4           c   \n",
       "4  z0.11884_OVI              13.95                24.5           b   \n",
       "\n",
       "                               Comment  \n",
       "0         Grandma_Inet strong doublet   \n",
       "1  Strong fit La\\b named Grandma_inet   \n",
       "2                   Grandma_inet weak   \n",
       "3                Grandma_Inet weak abs  \n",
       "4        Grandma_Inet Doublet weak abs  "
      ]
     },
     "metadata": {},
     "output_type": "display_data"
    },
    {
     "name": "stdout",
     "output_type": "stream",
     "text": [
      "===================================================\n",
      "System: z0.12313_HI\n",
      "===================================================\n"
     ]
    },
    {
     "data": {
      "text/html": [
       "<div>\n",
       "<table border=\"1\" class=\"dataframe\">\n",
       "  <thead>\n",
       "    <tr style=\"text-align: right;\">\n",
       "      <th></th>\n",
       "      <th>Component</th>\n",
       "      <th>Column Density (N)</th>\n",
       "      <th>Doppler Profile (b)</th>\n",
       "      <th>Reliability</th>\n",
       "      <th>Comment</th>\n",
       "    </tr>\n",
       "  </thead>\n",
       "  <tbody>\n",
       "    <tr>\n",
       "      <th>0</th>\n",
       "      <td>z0.12313_HI</td>\n",
       "      <td>13.65</td>\n",
       "      <td>23.1</td>\n",
       "      <td>c</td>\n",
       "      <td>Weak La</td>\n",
       "    </tr>\n",
       "  </tbody>\n",
       "</table>\n",
       "</div>"
      ],
      "text/plain": [
       "     Component Column Density (N) Doppler Profile (b) Reliability   Comment\n",
       "0  z0.12313_HI              13.65                23.1           c  Weak La "
      ]
     },
     "metadata": {},
     "output_type": "display_data"
    },
    {
     "name": "stdout",
     "output_type": "stream",
     "text": [
      "===================================================\n",
      "System: z0.12683_HI\n",
      "===================================================\n"
     ]
    },
    {
     "data": {
      "text/html": [
       "<div>\n",
       "<table border=\"1\" class=\"dataframe\">\n",
       "  <thead>\n",
       "    <tr style=\"text-align: right;\">\n",
       "      <th></th>\n",
       "      <th>Component</th>\n",
       "      <th>Column Density (N)</th>\n",
       "      <th>Doppler Profile (b)</th>\n",
       "      <th>Reliability</th>\n",
       "      <th>Comment</th>\n",
       "    </tr>\n",
       "  </thead>\n",
       "  <tbody>\n",
       "    <tr>\n",
       "      <th>0</th>\n",
       "      <td>z0.12683_HI</td>\n",
       "      <td>13.23</td>\n",
       "      <td>16.2</td>\n",
       "      <td>b</td>\n",
       "      <td>small L-a</td>\n",
       "    </tr>\n",
       "  </tbody>\n",
       "</table>\n",
       "</div>"
      ],
      "text/plain": [
       "     Component Column Density (N) Doppler Profile (b) Reliability    Comment\n",
       "0  z0.12683_HI              13.23                16.2           b  small L-a"
      ]
     },
     "metadata": {},
     "output_type": "display_data"
    },
    {
     "name": "stdout",
     "output_type": "stream",
     "text": [
      "===================================================\n",
      "System: z0.15425_HI\n",
      "===================================================\n"
     ]
    },
    {
     "data": {
      "text/html": [
       "<div>\n",
       "<table border=\"1\" class=\"dataframe\">\n",
       "  <thead>\n",
       "    <tr style=\"text-align: right;\">\n",
       "      <th></th>\n",
       "      <th>Component</th>\n",
       "      <th>Column Density (N)</th>\n",
       "      <th>Doppler Profile (b)</th>\n",
       "      <th>Reliability</th>\n",
       "      <th>Comment</th>\n",
       "    </tr>\n",
       "  </thead>\n",
       "  <tbody>\n",
       "    <tr>\n",
       "      <th>0</th>\n",
       "      <td>z0.15425_HI</td>\n",
       "      <td>13.41</td>\n",
       "      <td>21.2</td>\n",
       "      <td>b</td>\n",
       "      <td>small L-a</td>\n",
       "    </tr>\n",
       "  </tbody>\n",
       "</table>\n",
       "</div>"
      ],
      "text/plain": [
       "     Component Column Density (N) Doppler Profile (b) Reliability    Comment\n",
       "0  z0.15425_HI              13.41                21.2           b  small L-a"
      ]
     },
     "metadata": {},
     "output_type": "display_data"
    },
    {
     "name": "stdout",
     "output_type": "stream",
     "text": [
      "===================================================\n",
      "System: z0.18313_HI\n",
      "===================================================\n"
     ]
    },
    {
     "data": {
      "text/html": [
       "<div>\n",
       "<table border=\"1\" class=\"dataframe\">\n",
       "  <thead>\n",
       "    <tr style=\"text-align: right;\">\n",
       "      <th></th>\n",
       "      <th>Component</th>\n",
       "      <th>Column Density (N)</th>\n",
       "      <th>Doppler Profile (b)</th>\n",
       "      <th>Reliability</th>\n",
       "      <th>Comment</th>\n",
       "    </tr>\n",
       "  </thead>\n",
       "  <tbody>\n",
       "    <tr>\n",
       "      <th>0</th>\n",
       "      <td>z0.18313_HI</td>\n",
       "      <td>13.83</td>\n",
       "      <td>42.9</td>\n",
       "      <td>b</td>\n",
       "      <td>Solo L-a</td>\n",
       "    </tr>\n",
       "  </tbody>\n",
       "</table>\n",
       "</div>"
      ],
      "text/plain": [
       "     Component Column Density (N) Doppler Profile (b) Reliability    Comment\n",
       "0  z0.18313_HI              13.83                42.9           b  Solo L-a "
      ]
     },
     "metadata": {},
     "output_type": "display_data"
    },
    {
     "name": "stdout",
     "output_type": "stream",
     "text": [
      "===================================================\n",
      "System: z0.20506_HI\n",
      "===================================================\n"
     ]
    },
    {
     "data": {
      "text/html": [
       "<div>\n",
       "<table border=\"1\" class=\"dataframe\">\n",
       "  <thead>\n",
       "    <tr style=\"text-align: right;\">\n",
       "      <th></th>\n",
       "      <th>Component</th>\n",
       "      <th>Column Density (N)</th>\n",
       "      <th>Doppler Profile (b)</th>\n",
       "      <th>Reliability</th>\n",
       "      <th>Comment</th>\n",
       "    </tr>\n",
       "  </thead>\n",
       "  <tbody>\n",
       "    <tr>\n",
       "      <th>0</th>\n",
       "      <td>z0.20506_HI</td>\n",
       "      <td>13.47</td>\n",
       "      <td>27.9</td>\n",
       "      <td>b</td>\n",
       "      <td>small L-a</td>\n",
       "    </tr>\n",
       "  </tbody>\n",
       "</table>\n",
       "</div>"
      ],
      "text/plain": [
       "     Component Column Density (N) Doppler Profile (b) Reliability    Comment\n",
       "0  z0.20506_HI              13.47                27.9           b  small L-a"
      ]
     },
     "metadata": {},
     "output_type": "display_data"
    },
    {
     "name": "stdout",
     "output_type": "stream",
     "text": [
      "===================================================\n",
      "System: z0.21486_HI\n",
      "===================================================\n"
     ]
    },
    {
     "data": {
      "text/html": [
       "<div>\n",
       "<table border=\"1\" class=\"dataframe\">\n",
       "  <thead>\n",
       "    <tr style=\"text-align: right;\">\n",
       "      <th></th>\n",
       "      <th>Component</th>\n",
       "      <th>Column Density (N)</th>\n",
       "      <th>Doppler Profile (b)</th>\n",
       "      <th>Reliability</th>\n",
       "      <th>Comment</th>\n",
       "    </tr>\n",
       "  </thead>\n",
       "  <tbody>\n",
       "    <tr>\n",
       "      <th>0</th>\n",
       "      <td>z0.21563_HI</td>\n",
       "      <td>13.4</td>\n",
       "      <td>26.0</td>\n",
       "      <td>b</td>\n",
       "      <td>small L-a</td>\n",
       "    </tr>\n",
       "    <tr>\n",
       "      <th>1</th>\n",
       "      <td>z0.21486_HI</td>\n",
       "      <td>14.99</td>\n",
       "      <td>44.0</td>\n",
       "      <td>a</td>\n",
       "      <td>L/abc STRONG named Grandpa_Igor</td>\n",
       "    </tr>\n",
       "    <tr>\n",
       "      <th>2</th>\n",
       "      <td>z0.21482_SII</td>\n",
       "      <td>14.45</td>\n",
       "      <td>22.8</td>\n",
       "      <td>c</td>\n",
       "      <td>Grandpa_Igor off centered</td>\n",
       "    </tr>\n",
       "    <tr>\n",
       "      <th>3</th>\n",
       "      <td>z0.21481_CIII</td>\n",
       "      <td>13.68</td>\n",
       "      <td>42.9</td>\n",
       "      <td>b</td>\n",
       "      <td>Grandpa-Igor strong Singlet</td>\n",
       "    </tr>\n",
       "    <tr>\n",
       "      <th>4</th>\n",
       "      <td>z0.21492_GaII</td>\n",
       "      <td>12.35</td>\n",
       "      <td>39.4</td>\n",
       "      <td>c</td>\n",
       "      <td>Grandapa_igor super weak</td>\n",
       "    </tr>\n",
       "  </tbody>\n",
       "</table>\n",
       "</div>"
      ],
      "text/plain": [
       "       Component Column Density (N) Doppler Profile (b) Reliability  \\\n",
       "0    z0.21563_HI               13.4                26.0           b   \n",
       "1    z0.21486_HI              14.99                44.0           a   \n",
       "2   z0.21482_SII              14.45                22.8           c   \n",
       "3  z0.21481_CIII              13.68                42.9           b   \n",
       "4  z0.21492_GaII              12.35                39.4           c   \n",
       "\n",
       "                           Comment  \n",
       "0                        small L-a  \n",
       "1  L/abc STRONG named Grandpa_Igor  \n",
       "2       Grandpa_Igor off centered   \n",
       "3     Grandpa-Igor strong Singlet   \n",
       "4        Grandapa_igor super weak   "
      ]
     },
     "metadata": {},
     "output_type": "display_data"
    },
    {
     "name": "stdout",
     "output_type": "stream",
     "text": [
      "===================================================\n",
      "System: z0.21563_HI\n",
      "===================================================\n"
     ]
    },
    {
     "data": {
      "text/html": [
       "<div>\n",
       "<table border=\"1\" class=\"dataframe\">\n",
       "  <thead>\n",
       "    <tr style=\"text-align: right;\">\n",
       "      <th></th>\n",
       "      <th>Component</th>\n",
       "      <th>Column Density (N)</th>\n",
       "      <th>Doppler Profile (b)</th>\n",
       "      <th>Reliability</th>\n",
       "      <th>Comment</th>\n",
       "    </tr>\n",
       "  </thead>\n",
       "  <tbody>\n",
       "    <tr>\n",
       "      <th>0</th>\n",
       "      <td>z0.21563_HI</td>\n",
       "      <td>13.4</td>\n",
       "      <td>26.0</td>\n",
       "      <td>b</td>\n",
       "      <td>small L-a</td>\n",
       "    </tr>\n",
       "    <tr>\n",
       "      <th>1</th>\n",
       "      <td>z0.21486_HI</td>\n",
       "      <td>14.99</td>\n",
       "      <td>44.0</td>\n",
       "      <td>a</td>\n",
       "      <td>L/abc STRONG named Grandpa_Igor</td>\n",
       "    </tr>\n",
       "    <tr>\n",
       "      <th>2</th>\n",
       "      <td>z0.21482_SII</td>\n",
       "      <td>14.45</td>\n",
       "      <td>22.8</td>\n",
       "      <td>c</td>\n",
       "      <td>Grandpa_Igor off centered</td>\n",
       "    </tr>\n",
       "    <tr>\n",
       "      <th>3</th>\n",
       "      <td>z0.21481_CIII</td>\n",
       "      <td>13.68</td>\n",
       "      <td>42.9</td>\n",
       "      <td>b</td>\n",
       "      <td>Grandpa-Igor strong Singlet</td>\n",
       "    </tr>\n",
       "    <tr>\n",
       "      <th>4</th>\n",
       "      <td>z0.21492_GaII</td>\n",
       "      <td>12.35</td>\n",
       "      <td>39.4</td>\n",
       "      <td>c</td>\n",
       "      <td>Grandapa_igor super weak</td>\n",
       "    </tr>\n",
       "  </tbody>\n",
       "</table>\n",
       "</div>"
      ],
      "text/plain": [
       "       Component Column Density (N) Doppler Profile (b) Reliability  \\\n",
       "0    z0.21563_HI               13.4                26.0           b   \n",
       "1    z0.21486_HI              14.99                44.0           a   \n",
       "2   z0.21482_SII              14.45                22.8           c   \n",
       "3  z0.21481_CIII              13.68                42.9           b   \n",
       "4  z0.21492_GaII              12.35                39.4           c   \n",
       "\n",
       "                           Comment  \n",
       "0                        small L-a  \n",
       "1  L/abc STRONG named Grandpa_Igor  \n",
       "2       Grandpa_Igor off centered   \n",
       "3     Grandpa-Igor strong Singlet   \n",
       "4        Grandapa_igor super weak   "
      ]
     },
     "metadata": {},
     "output_type": "display_data"
    },
    {
     "name": "stdout",
     "output_type": "stream",
     "text": [
      "===================================================\n",
      "System: z0.24558_HI\n",
      "===================================================\n"
     ]
    },
    {
     "data": {
      "text/html": [
       "<div>\n",
       "<table border=\"1\" class=\"dataframe\">\n",
       "  <thead>\n",
       "    <tr style=\"text-align: right;\">\n",
       "      <th></th>\n",
       "      <th>Component</th>\n",
       "      <th>Column Density (N)</th>\n",
       "      <th>Doppler Profile (b)</th>\n",
       "      <th>Reliability</th>\n",
       "      <th>Comment</th>\n",
       "    </tr>\n",
       "  </thead>\n",
       "  <tbody>\n",
       "    <tr>\n",
       "      <th>0</th>\n",
       "      <td>z0.24558_HI</td>\n",
       "      <td>13.47</td>\n",
       "      <td>32.3</td>\n",
       "      <td>b</td>\n",
       "      <td>small L-a</td>\n",
       "    </tr>\n",
       "  </tbody>\n",
       "</table>\n",
       "</div>"
      ],
      "text/plain": [
       "     Component Column Density (N) Doppler Profile (b) Reliability    Comment\n",
       "0  z0.24558_HI              13.47                32.3           b  small L-a"
      ]
     },
     "metadata": {},
     "output_type": "display_data"
    },
    {
     "name": "stdout",
     "output_type": "stream",
     "text": [
      "===================================================\n",
      "System: z0.26336_HI\n",
      "===================================================\n"
     ]
    },
    {
     "data": {
      "text/html": [
       "<div>\n",
       "<table border=\"1\" class=\"dataframe\">\n",
       "  <thead>\n",
       "    <tr style=\"text-align: right;\">\n",
       "      <th></th>\n",
       "      <th>Component</th>\n",
       "      <th>Column Density (N)</th>\n",
       "      <th>Doppler Profile (b)</th>\n",
       "      <th>Reliability</th>\n",
       "      <th>Comment</th>\n",
       "    </tr>\n",
       "  </thead>\n",
       "  <tbody>\n",
       "    <tr>\n",
       "      <th>0</th>\n",
       "      <td>z0.26368_HI</td>\n",
       "      <td>13.31</td>\n",
       "      <td>12.5</td>\n",
       "      <td>c</td>\n",
       "      <td>small - L a</td>\n",
       "    </tr>\n",
       "    <tr>\n",
       "      <th>1</th>\n",
       "      <td>z0.26336_HI</td>\n",
       "      <td>13.16</td>\n",
       "      <td>6.4</td>\n",
       "      <td>c</td>\n",
       "      <td>very weak L-a</td>\n",
       "    </tr>\n",
       "  </tbody>\n",
       "</table>\n",
       "</div>"
      ],
      "text/plain": [
       "     Component Column Density (N) Doppler Profile (b) Reliability  \\\n",
       "0  z0.26368_HI              13.31                12.5           c   \n",
       "1  z0.26336_HI              13.16                 6.4           c   \n",
       "\n",
       "         Comment  \n",
       "0    small - L a  \n",
       "1  very weak L-a  "
      ]
     },
     "metadata": {},
     "output_type": "display_data"
    },
    {
     "name": "stdout",
     "output_type": "stream",
     "text": [
      "===================================================\n",
      "System: z0.26368_HI\n",
      "===================================================\n"
     ]
    },
    {
     "data": {
      "text/html": [
       "<div>\n",
       "<table border=\"1\" class=\"dataframe\">\n",
       "  <thead>\n",
       "    <tr style=\"text-align: right;\">\n",
       "      <th></th>\n",
       "      <th>Component</th>\n",
       "      <th>Column Density (N)</th>\n",
       "      <th>Doppler Profile (b)</th>\n",
       "      <th>Reliability</th>\n",
       "      <th>Comment</th>\n",
       "    </tr>\n",
       "  </thead>\n",
       "  <tbody>\n",
       "    <tr>\n",
       "      <th>0</th>\n",
       "      <td>z0.26368_HI</td>\n",
       "      <td>13.31</td>\n",
       "      <td>12.5</td>\n",
       "      <td>c</td>\n",
       "      <td>small - L a</td>\n",
       "    </tr>\n",
       "    <tr>\n",
       "      <th>1</th>\n",
       "      <td>z0.26336_HI</td>\n",
       "      <td>13.16</td>\n",
       "      <td>6.4</td>\n",
       "      <td>c</td>\n",
       "      <td>very weak L-a</td>\n",
       "    </tr>\n",
       "  </tbody>\n",
       "</table>\n",
       "</div>"
      ],
      "text/plain": [
       "     Component Column Density (N) Doppler Profile (b) Reliability  \\\n",
       "0  z0.26368_HI              13.31                12.5           c   \n",
       "1  z0.26336_HI              13.16                 6.4           c   \n",
       "\n",
       "         Comment  \n",
       "0    small - L a  \n",
       "1  very weak L-a  "
      ]
     },
     "metadata": {},
     "output_type": "display_data"
    },
    {
     "name": "stdout",
     "output_type": "stream",
     "text": [
      "===================================================\n",
      "System: z0.28133_HI\n",
      "===================================================\n"
     ]
    },
    {
     "data": {
      "text/html": [
       "<div>\n",
       "<table border=\"1\" class=\"dataframe\">\n",
       "  <thead>\n",
       "    <tr style=\"text-align: right;\">\n",
       "      <th></th>\n",
       "      <th>Component</th>\n",
       "      <th>Column Density (N)</th>\n",
       "      <th>Doppler Profile (b)</th>\n",
       "      <th>Reliability</th>\n",
       "      <th>Comment</th>\n",
       "    </tr>\n",
       "  </thead>\n",
       "  <tbody>\n",
       "    <tr>\n",
       "      <th>0</th>\n",
       "      <td>z0.28133_HI</td>\n",
       "      <td>13.33</td>\n",
       "      <td>20.6</td>\n",
       "      <td>c</td>\n",
       "      <td>L/ab super weak inside of other spectra</td>\n",
       "    </tr>\n",
       "  </tbody>\n",
       "</table>\n",
       "</div>"
      ],
      "text/plain": [
       "     Component Column Density (N) Doppler Profile (b) Reliability  \\\n",
       "0  z0.28133_HI              13.33                20.6           c   \n",
       "\n",
       "                                    Comment  \n",
       "0  L/ab super weak inside of other spectra   "
      ]
     },
     "metadata": {},
     "output_type": "display_data"
    },
    {
     "name": "stdout",
     "output_type": "stream",
     "text": [
      "===================================================\n",
      "System: z0.29771_HI\n",
      "===================================================\n"
     ]
    },
    {
     "data": {
      "text/html": [
       "<div>\n",
       "<table border=\"1\" class=\"dataframe\">\n",
       "  <thead>\n",
       "    <tr style=\"text-align: right;\">\n",
       "      <th></th>\n",
       "      <th>Component</th>\n",
       "      <th>Column Density (N)</th>\n",
       "      <th>Doppler Profile (b)</th>\n",
       "      <th>Reliability</th>\n",
       "      <th>Comment</th>\n",
       "    </tr>\n",
       "  </thead>\n",
       "  <tbody>\n",
       "    <tr>\n",
       "      <th>0</th>\n",
       "      <td>z0.29771_HI</td>\n",
       "      <td>13.4</td>\n",
       "      <td>22.3</td>\n",
       "      <td>c</td>\n",
       "      <td>L/ab supersuper weak</td>\n",
       "    </tr>\n",
       "  </tbody>\n",
       "</table>\n",
       "</div>"
      ],
      "text/plain": [
       "     Component Column Density (N) Doppler Profile (b) Reliability  \\\n",
       "0  z0.29771_HI               13.4                22.3           c   \n",
       "\n",
       "                 Comment  \n",
       "0  L/ab supersuper weak   "
      ]
     },
     "metadata": {},
     "output_type": "display_data"
    },
    {
     "name": "stdout",
     "output_type": "stream",
     "text": [
      "===================================================\n",
      "System: z0.30713_HI\n",
      "===================================================\n"
     ]
    },
    {
     "data": {
      "text/html": [
       "<div>\n",
       "<table border=\"1\" class=\"dataframe\">\n",
       "  <thead>\n",
       "    <tr style=\"text-align: right;\">\n",
       "      <th></th>\n",
       "      <th>Component</th>\n",
       "      <th>Column Density (N)</th>\n",
       "      <th>Doppler Profile (b)</th>\n",
       "      <th>Reliability</th>\n",
       "      <th>Comment</th>\n",
       "    </tr>\n",
       "  </thead>\n",
       "  <tbody>\n",
       "    <tr>\n",
       "      <th>0</th>\n",
       "      <td>z0.30713_HI</td>\n",
       "      <td>13.5</td>\n",
       "      <td>36.8</td>\n",
       "      <td>a</td>\n",
       "      <td>small L-a</td>\n",
       "    </tr>\n",
       "  </tbody>\n",
       "</table>\n",
       "</div>"
      ],
      "text/plain": [
       "     Component Column Density (N) Doppler Profile (b) Reliability    Comment\n",
       "0  z0.30713_HI               13.5                36.8           a  small L-a"
      ]
     },
     "metadata": {},
     "output_type": "display_data"
    },
    {
     "name": "stdout",
     "output_type": "stream",
     "text": [
      "===================================================\n",
      "System: z0.32951_HI\n",
      "===================================================\n"
     ]
    },
    {
     "data": {
      "text/html": [
       "<div>\n",
       "<table border=\"1\" class=\"dataframe\">\n",
       "  <thead>\n",
       "    <tr style=\"text-align: right;\">\n",
       "      <th></th>\n",
       "      <th>Component</th>\n",
       "      <th>Column Density (N)</th>\n",
       "      <th>Doppler Profile (b)</th>\n",
       "      <th>Reliability</th>\n",
       "      <th>Comment</th>\n",
       "    </tr>\n",
       "  </thead>\n",
       "  <tbody>\n",
       "    <tr>\n",
       "      <th>0</th>\n",
       "      <td>z0.32951_HI</td>\n",
       "      <td>12.77</td>\n",
       "      <td>1.0</td>\n",
       "      <td>c</td>\n",
       "      <td>super weird shape L-a</td>\n",
       "    </tr>\n",
       "  </tbody>\n",
       "</table>\n",
       "</div>"
      ],
      "text/plain": [
       "     Component Column Density (N) Doppler Profile (b) Reliability  \\\n",
       "0  z0.32951_HI              12.77                 1.0           c   \n",
       "\n",
       "                 Comment  \n",
       "0  super weird shape L-a  "
      ]
     },
     "metadata": {},
     "output_type": "display_data"
    },
    {
     "name": "stdout",
     "output_type": "stream",
     "text": [
      "===================================================\n",
      "System: z0.36001_HI\n",
      "===================================================\n"
     ]
    },
    {
     "data": {
      "text/html": [
       "<div>\n",
       "<table border=\"1\" class=\"dataframe\">\n",
       "  <thead>\n",
       "    <tr style=\"text-align: right;\">\n",
       "      <th></th>\n",
       "      <th>Component</th>\n",
       "      <th>Column Density (N)</th>\n",
       "      <th>Doppler Profile (b)</th>\n",
       "      <th>Reliability</th>\n",
       "      <th>Comment</th>\n",
       "    </tr>\n",
       "  </thead>\n",
       "  <tbody>\n",
       "    <tr>\n",
       "      <th>0</th>\n",
       "      <td>z0.36001_HI</td>\n",
       "      <td>13.47</td>\n",
       "      <td>37.2</td>\n",
       "      <td>c</td>\n",
       "      <td>weak L-a</td>\n",
       "    </tr>\n",
       "  </tbody>\n",
       "</table>\n",
       "</div>"
      ],
      "text/plain": [
       "     Component Column Density (N) Doppler Profile (b) Reliability   Comment\n",
       "0  z0.36001_HI              13.47                37.2           c  weak L-a"
      ]
     },
     "metadata": {},
     "output_type": "display_data"
    },
    {
     "name": "stdout",
     "output_type": "stream",
     "text": [
      "===================================================\n",
      "System: z0.39084_HI\n",
      "===================================================\n"
     ]
    },
    {
     "data": {
      "text/html": [
       "<div>\n",
       "<table border=\"1\" class=\"dataframe\">\n",
       "  <thead>\n",
       "    <tr style=\"text-align: right;\">\n",
       "      <th></th>\n",
       "      <th>Component</th>\n",
       "      <th>Column Density (N)</th>\n",
       "      <th>Doppler Profile (b)</th>\n",
       "      <th>Reliability</th>\n",
       "      <th>Comment</th>\n",
       "    </tr>\n",
       "  </thead>\n",
       "  <tbody>\n",
       "    <tr>\n",
       "      <th>0</th>\n",
       "      <td>z0.39084_HI</td>\n",
       "      <td>13.7</td>\n",
       "      <td>27.9</td>\n",
       "      <td>c</td>\n",
       "      <td>None</td>\n",
       "    </tr>\n",
       "  </tbody>\n",
       "</table>\n",
       "</div>"
      ],
      "text/plain": [
       "     Component Column Density (N) Doppler Profile (b) Reliability Comment\n",
       "0  z0.39084_HI               13.7                27.9           c    None"
      ]
     },
     "metadata": {},
     "output_type": "display_data"
    },
    {
     "name": "stdout",
     "output_type": "stream",
     "text": [
      "===================================================\n",
      "System: z0.39294_HI\n",
      "===================================================\n"
     ]
    },
    {
     "data": {
      "text/html": [
       "<div>\n",
       "<table border=\"1\" class=\"dataframe\">\n",
       "  <thead>\n",
       "    <tr style=\"text-align: right;\">\n",
       "      <th></th>\n",
       "      <th>Component</th>\n",
       "      <th>Column Density (N)</th>\n",
       "      <th>Doppler Profile (b)</th>\n",
       "      <th>Reliability</th>\n",
       "      <th>Comment</th>\n",
       "    </tr>\n",
       "  </thead>\n",
       "  <tbody>\n",
       "    <tr>\n",
       "      <th>0</th>\n",
       "      <td>z0.39294_HI</td>\n",
       "      <td>13.77</td>\n",
       "      <td>14.7</td>\n",
       "      <td>b</td>\n",
       "      <td>weak L a/b inside of other spectrum</td>\n",
       "    </tr>\n",
       "  </tbody>\n",
       "</table>\n",
       "</div>"
      ],
      "text/plain": [
       "     Component Column Density (N) Doppler Profile (b) Reliability  \\\n",
       "0  z0.39294_HI              13.77                14.7           b   \n",
       "\n",
       "                                Comment  \n",
       "0  weak L a/b inside of other spectrum   "
      ]
     },
     "metadata": {},
     "output_type": "display_data"
    },
    {
     "name": "stdout",
     "output_type": "stream",
     "text": [
      "===================================================\n",
      "System: z0.40109_HI\n",
      "===================================================\n"
     ]
    },
    {
     "data": {
      "text/html": [
       "<div>\n",
       "<table border=\"1\" class=\"dataframe\">\n",
       "  <thead>\n",
       "    <tr style=\"text-align: right;\">\n",
       "      <th></th>\n",
       "      <th>Component</th>\n",
       "      <th>Column Density (N)</th>\n",
       "      <th>Doppler Profile (b)</th>\n",
       "      <th>Reliability</th>\n",
       "      <th>Comment</th>\n",
       "    </tr>\n",
       "  </thead>\n",
       "  <tbody>\n",
       "    <tr>\n",
       "      <th>0</th>\n",
       "      <td>z0.40109_HI</td>\n",
       "      <td>13.45</td>\n",
       "      <td>42.5</td>\n",
       "      <td>c</td>\n",
       "      <td>weak L-a</td>\n",
       "    </tr>\n",
       "  </tbody>\n",
       "</table>\n",
       "</div>"
      ],
      "text/plain": [
       "     Component Column Density (N) Doppler Profile (b) Reliability   Comment\n",
       "0  z0.40109_HI              13.45                42.5           c  weak L-a"
      ]
     },
     "metadata": {},
     "output_type": "display_data"
    },
    {
     "name": "stdout",
     "output_type": "stream",
     "text": [
      "===================================================\n",
      "System: z0.41088_HI\n",
      "===================================================\n"
     ]
    },
    {
     "data": {
      "text/html": [
       "<div>\n",
       "<table border=\"1\" class=\"dataframe\">\n",
       "  <thead>\n",
       "    <tr style=\"text-align: right;\">\n",
       "      <th></th>\n",
       "      <th>Component</th>\n",
       "      <th>Column Density (N)</th>\n",
       "      <th>Doppler Profile (b)</th>\n",
       "      <th>Reliability</th>\n",
       "      <th>Comment</th>\n",
       "    </tr>\n",
       "  </thead>\n",
       "  <tbody>\n",
       "    <tr>\n",
       "      <th>0</th>\n",
       "      <td>z0.41088_HI</td>\n",
       "      <td>13.17</td>\n",
       "      <td>4.0</td>\n",
       "      <td>c</td>\n",
       "      <td>Lab very weak</td>\n",
       "    </tr>\n",
       "    <tr>\n",
       "      <th>1</th>\n",
       "      <td>z0.41238_HI</td>\n",
       "      <td>13.47</td>\n",
       "      <td>17.6</td>\n",
       "      <td>c</td>\n",
       "      <td>Lab very weak</td>\n",
       "    </tr>\n",
       "  </tbody>\n",
       "</table>\n",
       "</div>"
      ],
      "text/plain": [
       "     Component Column Density (N) Doppler Profile (b) Reliability  \\\n",
       "0  z0.41088_HI              13.17                 4.0           c   \n",
       "1  z0.41238_HI              13.47                17.6           c   \n",
       "\n",
       "          Comment  \n",
       "0   Lab very weak  \n",
       "1  Lab very weak   "
      ]
     },
     "metadata": {},
     "output_type": "display_data"
    },
    {
     "name": "stdout",
     "output_type": "stream",
     "text": [
      "===================================================\n",
      "System: z0.41238_HI\n",
      "===================================================\n"
     ]
    },
    {
     "data": {
      "text/html": [
       "<div>\n",
       "<table border=\"1\" class=\"dataframe\">\n",
       "  <thead>\n",
       "    <tr style=\"text-align: right;\">\n",
       "      <th></th>\n",
       "      <th>Component</th>\n",
       "      <th>Column Density (N)</th>\n",
       "      <th>Doppler Profile (b)</th>\n",
       "      <th>Reliability</th>\n",
       "      <th>Comment</th>\n",
       "    </tr>\n",
       "  </thead>\n",
       "  <tbody>\n",
       "    <tr>\n",
       "      <th>0</th>\n",
       "      <td>z0.41088_HI</td>\n",
       "      <td>13.17</td>\n",
       "      <td>4.0</td>\n",
       "      <td>c</td>\n",
       "      <td>Lab very weak</td>\n",
       "    </tr>\n",
       "    <tr>\n",
       "      <th>1</th>\n",
       "      <td>z0.41238_HI</td>\n",
       "      <td>13.47</td>\n",
       "      <td>17.6</td>\n",
       "      <td>c</td>\n",
       "      <td>Lab very weak</td>\n",
       "    </tr>\n",
       "  </tbody>\n",
       "</table>\n",
       "</div>"
      ],
      "text/plain": [
       "     Component Column Density (N) Doppler Profile (b) Reliability  \\\n",
       "0  z0.41088_HI              13.17                 4.0           c   \n",
       "1  z0.41238_HI              13.47                17.6           c   \n",
       "\n",
       "          Comment  \n",
       "0   Lab very weak  \n",
       "1  Lab very weak   "
      ]
     },
     "metadata": {},
     "output_type": "display_data"
    },
    {
     "name": "stdout",
     "output_type": "stream",
     "text": [
      "===================================================\n",
      "System: z0.41494_HI\n",
      "===================================================\n"
     ]
    },
    {
     "data": {
      "text/html": [
       "<div>\n",
       "<table border=\"1\" class=\"dataframe\">\n",
       "  <thead>\n",
       "    <tr style=\"text-align: right;\">\n",
       "      <th></th>\n",
       "      <th>Component</th>\n",
       "      <th>Column Density (N)</th>\n",
       "      <th>Doppler Profile (b)</th>\n",
       "      <th>Reliability</th>\n",
       "      <th>Comment</th>\n",
       "    </tr>\n",
       "  </thead>\n",
       "  <tbody>\n",
       "    <tr>\n",
       "      <th>0</th>\n",
       "      <td>z0.41494_HI</td>\n",
       "      <td>13.75</td>\n",
       "      <td>36.7</td>\n",
       "      <td>c</td>\n",
       "      <td>La - weak Lb</td>\n",
       "    </tr>\n",
       "  </tbody>\n",
       "</table>\n",
       "</div>"
      ],
      "text/plain": [
       "     Component Column Density (N) Doppler Profile (b) Reliability  \\\n",
       "0  z0.41494_HI              13.75                36.7           c   \n",
       "\n",
       "        Comment  \n",
       "0  La - weak Lb  "
      ]
     },
     "metadata": {},
     "output_type": "display_data"
    },
    {
     "name": "stdout",
     "output_type": "stream",
     "text": [
      "===================================================\n",
      "System: z0.41857_HI\n",
      "===================================================\n"
     ]
    },
    {
     "data": {
      "text/html": [
       "<div>\n",
       "<table border=\"1\" class=\"dataframe\">\n",
       "  <thead>\n",
       "    <tr style=\"text-align: right;\">\n",
       "      <th></th>\n",
       "      <th>Component</th>\n",
       "      <th>Column Density (N)</th>\n",
       "      <th>Doppler Profile (b)</th>\n",
       "      <th>Reliability</th>\n",
       "      <th>Comment</th>\n",
       "    </tr>\n",
       "  </thead>\n",
       "  <tbody>\n",
       "    <tr>\n",
       "      <th>0</th>\n",
       "      <td>z0.41857_HI</td>\n",
       "      <td>12.66</td>\n",
       "      <td>1.0</td>\n",
       "      <td>c</td>\n",
       "      <td>Small - L a</td>\n",
       "    </tr>\n",
       "    <tr>\n",
       "      <th>1</th>\n",
       "      <td>z0.42014_HI</td>\n",
       "      <td>13.42</td>\n",
       "      <td>16.2</td>\n",
       "      <td>c</td>\n",
       "      <td>Weak L-A, L-b mismatches badly</td>\n",
       "    </tr>\n",
       "  </tbody>\n",
       "</table>\n",
       "</div>"
      ],
      "text/plain": [
       "     Component Column Density (N) Doppler Profile (b) Reliability  \\\n",
       "0  z0.41857_HI              12.66                 1.0           c   \n",
       "1  z0.42014_HI              13.42                16.2           c   \n",
       "\n",
       "                           Comment  \n",
       "0                      Small - L a  \n",
       "1  Weak L-A, L-b mismatches badly   "
      ]
     },
     "metadata": {},
     "output_type": "display_data"
    },
    {
     "name": "stdout",
     "output_type": "stream",
     "text": [
      "===================================================\n",
      "System: z0.42014_HI\n",
      "===================================================\n"
     ]
    },
    {
     "data": {
      "text/html": [
       "<div>\n",
       "<table border=\"1\" class=\"dataframe\">\n",
       "  <thead>\n",
       "    <tr style=\"text-align: right;\">\n",
       "      <th></th>\n",
       "      <th>Component</th>\n",
       "      <th>Column Density (N)</th>\n",
       "      <th>Doppler Profile (b)</th>\n",
       "      <th>Reliability</th>\n",
       "      <th>Comment</th>\n",
       "    </tr>\n",
       "  </thead>\n",
       "  <tbody>\n",
       "    <tr>\n",
       "      <th>0</th>\n",
       "      <td>z0.41857_HI</td>\n",
       "      <td>12.66</td>\n",
       "      <td>1.0</td>\n",
       "      <td>c</td>\n",
       "      <td>Small - L a</td>\n",
       "    </tr>\n",
       "    <tr>\n",
       "      <th>1</th>\n",
       "      <td>z0.42014_HI</td>\n",
       "      <td>13.42</td>\n",
       "      <td>16.2</td>\n",
       "      <td>c</td>\n",
       "      <td>Weak L-A, L-b mismatches badly</td>\n",
       "    </tr>\n",
       "  </tbody>\n",
       "</table>\n",
       "</div>"
      ],
      "text/plain": [
       "     Component Column Density (N) Doppler Profile (b) Reliability  \\\n",
       "0  z0.41857_HI              12.66                 1.0           c   \n",
       "1  z0.42014_HI              13.42                16.2           c   \n",
       "\n",
       "                           Comment  \n",
       "0                      Small - L a  \n",
       "1  Weak L-A, L-b mismatches badly   "
      ]
     },
     "metadata": {},
     "output_type": "display_data"
    },
    {
     "name": "stdout",
     "output_type": "stream",
     "text": [
      "===================================================\n",
      "System: z0.42330_HI\n",
      "===================================================\n"
     ]
    },
    {
     "data": {
      "text/html": [
       "<div>\n",
       "<table border=\"1\" class=\"dataframe\">\n",
       "  <thead>\n",
       "    <tr style=\"text-align: right;\">\n",
       "      <th></th>\n",
       "      <th>Component</th>\n",
       "      <th>Column Density (N)</th>\n",
       "      <th>Doppler Profile (b)</th>\n",
       "      <th>Reliability</th>\n",
       "      <th>Comment</th>\n",
       "    </tr>\n",
       "  </thead>\n",
       "  <tbody>\n",
       "    <tr>\n",
       "      <th>0</th>\n",
       "      <td>z0.42330_HI</td>\n",
       "      <td>13.21</td>\n",
       "      <td>19.7</td>\n",
       "      <td>c</td>\n",
       "      <td>small L-a</td>\n",
       "    </tr>\n",
       "  </tbody>\n",
       "</table>\n",
       "</div>"
      ],
      "text/plain": [
       "     Component Column Density (N) Doppler Profile (b) Reliability    Comment\n",
       "0  z0.42330_HI              13.21                19.7           c  small L-a"
      ]
     },
     "metadata": {},
     "output_type": "display_data"
    },
    {
     "name": "stdout",
     "output_type": "stream",
     "text": [
      "===================================================\n",
      "System: z0.43252_HI\n",
      "===================================================\n"
     ]
    },
    {
     "data": {
      "text/html": [
       "<div>\n",
       "<table border=\"1\" class=\"dataframe\">\n",
       "  <thead>\n",
       "    <tr style=\"text-align: right;\">\n",
       "      <th></th>\n",
       "      <th>Component</th>\n",
       "      <th>Column Density (N)</th>\n",
       "      <th>Doppler Profile (b)</th>\n",
       "      <th>Reliability</th>\n",
       "      <th>Comment</th>\n",
       "    </tr>\n",
       "  </thead>\n",
       "  <tbody>\n",
       "    <tr>\n",
       "      <th>0</th>\n",
       "      <td>z0.43252_HI</td>\n",
       "      <td>13.23</td>\n",
       "      <td>21.0</td>\n",
       "      <td>c</td>\n",
       "      <td>L/ab weak</td>\n",
       "    </tr>\n",
       "  </tbody>\n",
       "</table>\n",
       "</div>"
      ],
      "text/plain": [
       "     Component Column Density (N) Doppler Profile (b) Reliability     Comment\n",
       "0  z0.43252_HI              13.23                21.0           c  L/ab weak "
      ]
     },
     "metadata": {},
     "output_type": "display_data"
    },
    {
     "name": "stdout",
     "output_type": "stream",
     "text": [
      "===================================================\n",
      "System: z0.43878_HI\n",
      "===================================================\n"
     ]
    },
    {
     "data": {
      "text/html": [
       "<div>\n",
       "<table border=\"1\" class=\"dataframe\">\n",
       "  <thead>\n",
       "    <tr style=\"text-align: right;\">\n",
       "      <th></th>\n",
       "      <th>Component</th>\n",
       "      <th>Column Density (N)</th>\n",
       "      <th>Doppler Profile (b)</th>\n",
       "      <th>Reliability</th>\n",
       "      <th>Comment</th>\n",
       "    </tr>\n",
       "  </thead>\n",
       "  <tbody>\n",
       "    <tr>\n",
       "      <th>0</th>\n",
       "      <td>z0.43878_HI</td>\n",
       "      <td>13.74</td>\n",
       "      <td>23.4</td>\n",
       "      <td>c</td>\n",
       "      <td>solo</td>\n",
       "    </tr>\n",
       "  </tbody>\n",
       "</table>\n",
       "</div>"
      ],
      "text/plain": [
       "     Component Column Density (N) Doppler Profile (b) Reliability Comment\n",
       "0  z0.43878_HI              13.74                23.4           c   solo "
      ]
     },
     "metadata": {},
     "output_type": "display_data"
    },
    {
     "name": "stdout",
     "output_type": "stream",
     "text": [
      "===================================================\n",
      "System: z0.44874_HI\n",
      "===================================================\n"
     ]
    },
    {
     "data": {
      "text/html": [
       "<div>\n",
       "<table border=\"1\" class=\"dataframe\">\n",
       "  <thead>\n",
       "    <tr style=\"text-align: right;\">\n",
       "      <th></th>\n",
       "      <th>Component</th>\n",
       "      <th>Column Density (N)</th>\n",
       "      <th>Doppler Profile (b)</th>\n",
       "      <th>Reliability</th>\n",
       "      <th>Comment</th>\n",
       "    </tr>\n",
       "  </thead>\n",
       "  <tbody>\n",
       "    <tr>\n",
       "      <th>0</th>\n",
       "      <td>z0.44874_HI</td>\n",
       "      <td>13.95</td>\n",
       "      <td>26.9</td>\n",
       "      <td>a</td>\n",
       "      <td>La/b Brother_Groteus</td>\n",
       "    </tr>\n",
       "    <tr>\n",
       "      <th>1</th>\n",
       "      <td>z0.44948_HI</td>\n",
       "      <td>14.54</td>\n",
       "      <td>47.9</td>\n",
       "      <td>a</td>\n",
       "      <td>Strong La/b Grandpa_GroteusMaximus</td>\n",
       "    </tr>\n",
       "  </tbody>\n",
       "</table>\n",
       "</div>"
      ],
      "text/plain": [
       "     Component Column Density (N) Doppler Profile (b) Reliability  \\\n",
       "0  z0.44874_HI              13.95                26.9           a   \n",
       "1  z0.44948_HI              14.54                47.9           a   \n",
       "\n",
       "                              Comment  \n",
       "0                La/b Brother_Groteus  \n",
       "1  Strong La/b Grandpa_GroteusMaximus  "
      ]
     },
     "metadata": {},
     "output_type": "display_data"
    },
    {
     "name": "stdout",
     "output_type": "stream",
     "text": [
      "===================================================\n",
      "System: z0.44948_HI\n",
      "===================================================\n"
     ]
    },
    {
     "data": {
      "text/html": [
       "<div>\n",
       "<table border=\"1\" class=\"dataframe\">\n",
       "  <thead>\n",
       "    <tr style=\"text-align: right;\">\n",
       "      <th></th>\n",
       "      <th>Component</th>\n",
       "      <th>Column Density (N)</th>\n",
       "      <th>Doppler Profile (b)</th>\n",
       "      <th>Reliability</th>\n",
       "      <th>Comment</th>\n",
       "    </tr>\n",
       "  </thead>\n",
       "  <tbody>\n",
       "    <tr>\n",
       "      <th>0</th>\n",
       "      <td>z0.44874_HI</td>\n",
       "      <td>13.95</td>\n",
       "      <td>26.9</td>\n",
       "      <td>a</td>\n",
       "      <td>La/b Brother_Groteus</td>\n",
       "    </tr>\n",
       "    <tr>\n",
       "      <th>1</th>\n",
       "      <td>z0.44948_HI</td>\n",
       "      <td>14.54</td>\n",
       "      <td>47.9</td>\n",
       "      <td>a</td>\n",
       "      <td>Strong La/b Grandpa_GroteusMaximus</td>\n",
       "    </tr>\n",
       "  </tbody>\n",
       "</table>\n",
       "</div>"
      ],
      "text/plain": [
       "     Component Column Density (N) Doppler Profile (b) Reliability  \\\n",
       "0  z0.44874_HI              13.95                26.9           a   \n",
       "1  z0.44948_HI              14.54                47.9           a   \n",
       "\n",
       "                              Comment  \n",
       "0                La/b Brother_Groteus  \n",
       "1  Strong La/b Grandpa_GroteusMaximus  "
      ]
     },
     "metadata": {},
     "output_type": "display_data"
    },
    {
     "name": "stdout",
     "output_type": "stream",
     "text": [
      "===================================================\n",
      "System: z0.54099_HI\n",
      "===================================================\n"
     ]
    },
    {
     "data": {
      "text/html": [
       "<div>\n",
       "<table border=\"1\" class=\"dataframe\">\n",
       "  <thead>\n",
       "    <tr style=\"text-align: right;\">\n",
       "      <th></th>\n",
       "      <th>Component</th>\n",
       "      <th>Column Density (N)</th>\n",
       "      <th>Doppler Profile (b)</th>\n",
       "      <th>Reliability</th>\n",
       "      <th>Comment</th>\n",
       "    </tr>\n",
       "  </thead>\n",
       "  <tbody>\n",
       "    <tr>\n",
       "      <th>0</th>\n",
       "      <td>z0.54099_HI</td>\n",
       "      <td>14.22</td>\n",
       "      <td>28.6</td>\n",
       "      <td>b</td>\n",
       "      <td>med L-b</td>\n",
       "    </tr>\n",
       "  </tbody>\n",
       "</table>\n",
       "</div>"
      ],
      "text/plain": [
       "     Component Column Density (N) Doppler Profile (b) Reliability  Comment\n",
       "0  z0.54099_HI              14.22                28.6           b  med L-b"
      ]
     },
     "metadata": {},
     "output_type": "display_data"
    },
    {
     "name": "stdout",
     "output_type": "stream",
     "text": [
      "===================================================\n",
      "System: z0.63692_HI\n",
      "===================================================\n"
     ]
    },
    {
     "data": {
      "text/html": [
       "<div>\n",
       "<table border=\"1\" class=\"dataframe\">\n",
       "  <thead>\n",
       "    <tr style=\"text-align: right;\">\n",
       "      <th></th>\n",
       "      <th>Component</th>\n",
       "      <th>Column Density (N)</th>\n",
       "      <th>Doppler Profile (b)</th>\n",
       "      <th>Reliability</th>\n",
       "      <th>Comment</th>\n",
       "    </tr>\n",
       "  </thead>\n",
       "  <tbody>\n",
       "    <tr>\n",
       "      <th>0</th>\n",
       "      <td>z0.63692_HI</td>\n",
       "      <td>14.04</td>\n",
       "      <td>21.1</td>\n",
       "      <td>b</td>\n",
       "      <td>L-b weak abs</td>\n",
       "    </tr>\n",
       "  </tbody>\n",
       "</table>\n",
       "</div>"
      ],
      "text/plain": [
       "     Component Column Density (N) Doppler Profile (b) Reliability  \\\n",
       "0  z0.63692_HI              14.04                21.1           b   \n",
       "\n",
       "        Comment  \n",
       "0  L-b weak abs  "
      ]
     },
     "metadata": {},
     "output_type": "display_data"
    }
   ],
   "source": [
    "#Sort components by system and visualize\n",
    "\n",
    "#Note: Systems that are close together (<~0.010) may overlap components in the current build.\n",
    "\n",
    "for system in systems:\n",
    "    sys_components=[]\n",
    "    sys_reliabilities=[]\n",
    "    sys_comments=[]\n",
    "    sys_n=[]\n",
    "    sys_b=[]\n",
    "    sys_dict={}\n",
    "    for component in components:\n",
    "        if component[1]=='-':\n",
    "            c_z=component[2:9]\n",
    "        else:\n",
    "            c_z=component[1:8]\n",
    "        if abs(float(c_z)-float(system[1:8]))<=0.00167: ## 500 km/s offset. \n",
    "            cmp_info=component.split(';')\n",
    "            sys_components.append(cmp_info[0])\n",
    "            sys_reliabilities.append(cmp_info[1])\n",
    "            sys_comments.append(cmp_info[2])\n",
    "            sys_n.append(cmp_info[3])\n",
    "            sys_b.append(cmp_info[4])\n",
    "            sys_dict={'Component':sys_components,'Reliability':sys_reliabilities,'Comment': sys_comments, 'Column Density (N)': sys_n, 'Doppler Profile (b)':sys_b}\n",
    "    print (\"===================================================\")\n",
    "    print (\"System: \"+system)\n",
    "    print (\"===================================================\")\n",
    "    df = pd.DataFrame(sys_dict,columns = ['Component','Column Density (N)','Doppler Profile (b)', 'Reliability', 'Comment'])\n",
    "    display(df)\n"
   ]
  },
  {
   "cell_type": "code",
   "execution_count": null,
   "metadata": {
    "collapsed": true
   },
   "outputs": [],
   "source": []
  },
  {
   "cell_type": "code",
   "execution_count": null,
   "metadata": {
    "collapsed": true
   },
   "outputs": [],
   "source": []
  }
 ],
 "metadata": {
  "anaconda-cloud": {},
  "kernelspec": {
   "display_name": "Python [conda root]",
   "language": "python",
   "name": "conda-root-py"
  },
  "language_info": {
   "codemirror_mode": {
    "name": "ipython",
    "version": 3
   },
   "file_extension": ".py",
   "mimetype": "text/x-python",
   "name": "python",
   "nbconvert_exporter": "python",
   "pygments_lexer": "ipython3",
   "version": "3.5.2"
  }
 },
 "nbformat": 4,
 "nbformat_minor": 0
}
