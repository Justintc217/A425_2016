{
 "cells": [
  {
   "cell_type": "code",
   "execution_count": 2,
   "metadata": {
    "collapsed": false
   },
   "outputs": [
    {
     "name": "stdout",
     "output_type": "stream",
     "text": [
      "(0.0, 0.0)\n",
      "(0.5, 5.551115123125783e-15)\n",
      "(2.0, 2.220446049250313e-14)\n",
      "(4.5, 4.9960036108132044e-14)\n",
      "(8.0, 8.881784197001252e-14)\n",
      "(12.5, 1.3877787807814457e-13)\n",
      "(18.0, 1.9984014443252818e-13)\n",
      "(24.5, 2.7200464103316335e-13)\n",
      "(32.0, 3.552713678800501e-13)\n",
      "(40.5, 4.496403249731884e-13)\n"
     ]
    }
   ],
   "source": [
    "from scipy.integrate import quad \n",
    "\n",
    "\n",
    "def func(x):\n",
    "    return x\n",
    "\n",
    "for n in range(0, 10):\n",
    "    ans = quad(func , 0 , n)\n",
    "    print(ans)"
   ]
  },
  {
   "cell_type": "code",
   "execution_count": null,
   "metadata": {
    "collapsed": true
   },
   "outputs": [],
   "source": []
  }
 ],
 "metadata": {
  "kernelspec": {
   "display_name": "Python [conda root]",
   "language": "python",
   "name": "conda-root-py"
  },
  "language_info": {
   "codemirror_mode": {
    "name": "ipython",
    "version": 3
   },
   "file_extension": ".py",
   "mimetype": "text/x-python",
   "name": "python",
   "nbconvert_exporter": "python",
   "pygments_lexer": "ipython3",
   "version": "3.5.2"
  }
 },
 "nbformat": 4,
 "nbformat_minor": 1
}
