{
 "cells": [
  {
   "cell_type": "code",
   "execution_count": null,
   "metadata": {
    "collapsed": false
   },
   "outputs": [],
   "source": [
    "#!/usr/bin/env python\n",
    "#\n",
    "# Very basic example of using Python and IMAP to iterate over emails in a\n",
    "# gmail folder/label.  This code is released into the public domain.\n",
    "#\n",
    "# RKI July 2013\n",
    "# http://www.voidynullness.net/blog/2013/07/25/gmail-email-with-python-via-imap/\n",
    "#\n",
    "import sys\n",
    "import imaplib\n",
    "import getpass\n",
    "import email\n",
    "import email.header\n",
    "import datetime\n",
    "\n",
    "EMAIL_ACCOUNT = \"notatallawhistleblowerIswear@gmail.com\"\n",
    "EMAIL_FOLDER = \"Top Secret/PRISM Documents\"\n",
    "\n",
    "\n",
    "def process_mailbox(M):\n",
    "    \"\"\"\n",
    "    Do something with emails messages in the folder.  \n",
    "    For the sake of this example, print some headers.\n",
    "    \"\"\"\n",
    "\n",
    "    rv, data = M.search(None, \"ALL\")\n",
    "    if rv != 'OK':\n",
    "        print (\"No messages found!\")\n",
    "        return\n",
    "\n",
    "    for num in data[0].split():\n",
    "        rv, data = M.fetch(num, '(RFC822)')\n",
    "        if rv != 'OK':\n",
    "            print (\"ERROR getting message\", num)\n",
    "            return\n",
    "\n",
    "        msg = email.message_from_string(data[0][1])\n",
    "        decode = email.header.decode_header(msg['Subject'])[0]\n",
    "        subject = unicode(decode[0])\n",
    "        print ('Message %s: %s' % (num, subject))\n",
    "        print ('Raw Date:', msg['Date'])\n",
    "        # Now convert to local date-time\n",
    "        date_tuple = email.utils.parsedate_tz(msg['Date'])\n",
    "        if date_tuple:\n",
    "            local_date = datetime.datetime.fromtimestamp(email.utils.mktime_tz(date_tuple))\n",
    "            print (\"Local Date:\")\n",
    "            local_date.strftime(\"%a, %d %b %Y %H:%M:%S\")\n",
    "\n",
    "\n",
    "M = imaplib.IMAP4_SSL('imap.gmail.com')\n",
    "\n",
    "try:\n",
    "    rv, data = M.login(EMAIL_ACCOUNT, getpass.getpass())\n",
    "except imaplib.IMAP4.error:\n",
    "    print (\"LOGIN FAILED!!! \")\n",
    "    sys.exit(1)\n",
    "\n",
    "print (rv, data)\n",
    "\n",
    "rv, mailboxes = M.list()\n",
    "if rv == 'OK':\n",
    "    print (\"Mailboxes:\")\n",
    "    print (mailboxes)\n",
    "\n",
    "rv, data = M.select(EMAIL_FOLDER)\n",
    "if rv == 'OK':\n",
    "    print (\"Processing mailbox...\\n\")\n",
    "    process_mailbox(M)\n",
    "    M.close()\n",
    "else:\n",
    "    print (\"ERROR: Unable to open mailbox \", rv)\n",
    "\n",
    "M.logout()\n"
   ]
  },
  {
   "cell_type": "code",
   "execution_count": null,
   "metadata": {
    "collapsed": true
   },
   "outputs": [],
   "source": []
  }
 ],
 "metadata": {
  "kernelspec": {
   "display_name": "Python [default]",
   "language": "python",
   "name": "python3"
  },
  "language_info": {
   "codemirror_mode": {
    "name": "ipython",
    "version": 3
   },
   "file_extension": ".py",
   "mimetype": "text/x-python",
   "name": "python",
   "nbconvert_exporter": "python",
   "pygments_lexer": "ipython3",
   "version": "3.5.2"
  }
 },
 "nbformat": 4,
 "nbformat_minor": 1
}
