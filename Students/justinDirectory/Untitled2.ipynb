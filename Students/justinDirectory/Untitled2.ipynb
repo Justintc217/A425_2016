{
 "cells": [
  {
   "cell_type": "code",
   "execution_count": null,
   "metadata": {
    "collapsed": true
   },
   "outputs": [],
   "source": [
    "import poplib\n",
    "from email import parser\n",
    "\n",
    "pop_conn = poplib.POP3_SSL('pop.gmail.com')\n",
    "pop_conn.user('username')\n",
    "pop_conn.pass_('password')\n",
    "#Get messages from server:\n",
    "messages = [pop_conn.retr(i) for i in range(1, len(pop_conn.list()[1]) + 1)]\n",
    "# Concat message pieces:\n",
    "messages = [\"\\n\".join(mssg[1]) for mssg in messages]\n",
    "#Parse message intom an email object:\n",
    "messages = [parser.Parser().parsestr(mssg) for mssg in messages]\n",
    "for message in messages:\n",
    "    print message['subject']\n",
    "pop_conn.quit()"
   ]
  }
 ],
 "metadata": {
  "anaconda-cloud": {},
  "kernelspec": {
   "display_name": "Python [default]",
   "language": "python",
   "name": "python3"
  },
  "language_info": {
   "codemirror_mode": {
    "name": "ipython",
    "version": 3
   },
   "file_extension": ".py",
   "mimetype": "text/x-python",
   "name": "python",
   "nbconvert_exporter": "python",
   "pygments_lexer": "ipython3",
   "version": "3.5.2"
  }
 },
 "nbformat": 4,
 "nbformat_minor": 1
}
