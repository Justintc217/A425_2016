{
 "cells": [
  {
   "cell_type": "code",
   "execution_count": 251,
   "metadata": {
    "collapsed": true
   },
   "outputs": [],
   "source": [
    "import numpy as np\n",
    "import matplotlib.pyplot as plt\n",
    "from scipy.integrate import odeint\n",
    "import scipy.special as special\n",
    "import astropy.units as u\n",
    "import warnings\n",
    "from scipy.integrate import quad\n",
    "from scipy.optimize import fsolve\n",
    "from sympy import *\n",
    "import scipy.integrate as integ\n",
    "%matplotlib inline\n",
    "warnings.filterwarnings('ignore')"
   ]
  },
  {
   "cell_type": "markdown",
   "metadata": {},
   "source": [
    "# Question 1:"
   ]
  },
  {
   "cell_type": "markdown",
   "metadata": {
    "collapsed": true
   },
   "source": [
    "# $(\\frac{a'(t)}{a(t)})^2 = \\frac{8 \\cdot \\Pi \\cdot G \\cdot \\varepsilon(t)}{3 \\cdot c^2} - \\frac{k \\cdot c^2}{a(t)^2}$ \n"
   ]
  },
  {
   "cell_type": "markdown",
   "metadata": {
    "collapsed": true
   },
   "source": [
    "# $\\frac{a''(t)}{a(t)} = \\frac{-4 \\cdot \\Pi \\cdot G}{3 \\cdot c^2} \\cdot [\\varepsilon(t) + 3 \\cdot P(t)]$"
   ]
  },
  {
   "cell_type": "markdown",
   "metadata": {
    "collapsed": true
   },
   "source": [
    "My first step is going to take the derivative of our first equation"
   ]
  },
  {
   "cell_type": "markdown",
   "metadata": {},
   "source": [
    "$2 \\cdot \\frac{a'(t)}{a(t)} \\cdot (\\frac{a''(t)}{a(t)} - \\frac{a'(t)}{a(t)^2} \\cdot a'(t)) = \\frac{8 \\cdot \\Pi \\cdot G \\cdot \\varepsilon'(t)}{3 \\cdot c^2} + \\frac{2 \\cdot k \\cdot c^2}{a(t)^3} \\cdot a'(t)$"
   ]
  },
  {
   "cell_type": "markdown",
   "metadata": {},
   "source": [
    "Next divide both sides by $\\frac{a'(t)}{a(t)}$ and 2"
   ]
  },
  {
   "cell_type": "markdown",
   "metadata": {},
   "source": [
    "$(\\frac{a''(t)}{a(t)} - \\frac{a'(t)}{a(t)^2} \\cdot a'(t)) = \\frac{4 \\cdot \\Pi \\cdot G \\cdot \\varepsilon'(t)}{3 \\cdot c^2} \\cdot \\frac{a(t)}{a'(t)} + \\frac{k \\cdot c^2}{a(t)^2} \\to \\frac{a''(t)}{a(t)} = \\frac{4 \\cdot \\Pi \\cdot G \\cdot \\varepsilon'(t)}{3 \\cdot c^2} \\cdot \\frac{a(t)}{a'(t)} +\n",
    "\\frac{k \\cdot c^2}{a(t)^2} + (\\frac{a'(t)}{a(t)})^2$"
   ]
  },
  {
   "cell_type": "markdown",
   "metadata": {},
   "source": [
    "Now we can substite equation two."
   ]
  },
  {
   "cell_type": "markdown",
   "metadata": {},
   "source": [
    "$\\frac{-4 \\cdot \\Pi \\cdot G}{3 \\cdot c^2} \\cdot [\\varepsilon(t) + 3 \\cdot P(t)] = \\frac{4 \\cdot \\Pi \\cdot G \\cdot \\varepsilon'(t)}{3 \\cdot c^2} \\cdot \\frac{a(t)}{a'(t)} + \\frac{k \\cdot c^2}{a(t)^2} + (\\frac{a'(t)}{a(t)})^2$"
   ]
  },
  {
   "cell_type": "markdown",
   "metadata": {},
   "source": [
    "Since we have an $(\\frac{a'(t)}{a(t)})^2$ we can subsitute equation one back in. "
   ]
  },
  {
   "cell_type": "markdown",
   "metadata": {},
   "source": [
    "This gives us $\\frac{-4 \\cdot \\Pi \\cdot G}{3 \\cdot c^2} \\cdot [\\varepsilon(t) + 3 \\cdot P(t)] = \\frac{4 \\cdot \\Pi \\cdot G \\cdot \\varepsilon'(t)}{3 \\cdot c^2} \\cdot \\frac{a(t)}{a'(t)} + \\frac{k \\cdot c^2}{a(t)^2} + \\frac{8 \\cdot \\Pi \\cdot G \\cdot \\varepsilon(t)}{3 \\cdot c^2} - \\frac{k \\cdot c^2}{a(t)^2}$ "
   ]
  },
  {
   "cell_type": "markdown",
   "metadata": {},
   "source": [
    "Cancelling some terms gives us: $\\frac{-4 \\cdot \\Pi \\cdot G}{3 \\cdot c^2} \\cdot [\\varepsilon(t) + 3 \\cdot P(t)] = \\frac{4 \\cdot \\Pi \\cdot G \\cdot \\varepsilon'(t)}{3 \\cdot c^2} \\cdot \\frac{a(t)}{a'(t)} + \\frac{8 \\cdot \\Pi \\cdot G \\cdot \\varepsilon(t)}{3 \\cdot c^2}$ $\\to [\\varepsilon(t) + 3 \\cdot P(t)] = -\\varepsilon'(t) \\cdot \\frac{a(t)}{a'(t)} - 2 \\cdot \\varepsilon(t)$"
   ]
  },
  {
   "cell_type": "markdown",
   "metadata": {},
   "source": [
    "Moving over some terms gives us: $\\varepsilon'(t) + ([\\varepsilon(t) + 3 \\cdot P(t)] + 2 \\cdot \\varepsilon(t)) \\cdot \\frac{a'(t)}{a(t)} = 0$"
   ]
  },
  {
   "cell_type": "markdown",
   "metadata": {},
   "source": [
    "Finally, pulling the 3 out of the brackets and a little more reducing gives us our result: $\\varepsilon'(t) + 3 \\cdot \\frac{a'(t)}{a(t)} \\cdot [\\varepsilon(t) + P(t)] = 0$  "
   ]
  },
  {
   "cell_type": "markdown",
   "metadata": {},
   "source": [
    "# Question 2:"
   ]
  },
  {
   "cell_type": "markdown",
   "metadata": {},
   "source": [
    "a) part 1:"
   ]
  },
  {
   "cell_type": "markdown",
   "metadata": {},
   "source": [
    "$H(z) = H_0 \\cdot \\sqrt{\\Omega_r \\cdot (1+z)^4 + \\Omega_m \\cdot (1+z)^3 + \\Omega_\\Lambda + (1-\\Omega_0) \\cdot (1+z)^2}$"
   ]
  },
  {
   "cell_type": "markdown",
   "metadata": {},
   "source": [
    "$\\Omega_m = .3, \\Omega_\\Lambda = .7$"
   ]
  },
  {
   "cell_type": "markdown",
   "metadata": {},
   "source": [
    "$\\Omega_0 = \\Omega_r + \\Omega_m + \\Omega_\\Lambda = 1$"
   ]
  },
  {
   "cell_type": "markdown",
   "metadata": {},
   "source": [
    "$\\to H(z) = H_0 \\cdot \\sqrt{.3 \\cdot (1+z)^3 + .7}$"
   ]
  },
  {
   "cell_type": "markdown",
   "metadata": {},
   "source": [
    "Comoving Distance: $r(z) = c \\cdot \\int \\frac{1}{H(z)}$ from 0 to t"
   ]
  },
  {
   "cell_type": "code",
   "execution_count": 369,
   "metadata": {
    "collapsed": false
   },
   "outputs": [],
   "source": [
    "def H(z):\n",
    "    h = 70\n",
    "    result = h*((.3*(1+z)**3 + .7)**(1.0/2.0))\n",
    "    return result\n",
    "\n",
    "def r(z):\n",
    "    c = 3*(10**5)\n",
    "    result = c/H(z)\n",
    "    return result"
   ]
  },
  {
   "cell_type": "code",
   "execution_count": 338,
   "metadata": {
    "collapsed": false
   },
   "outputs": [],
   "source": [
    "t = np.linspace(0, 10, 100)\n",
    "\n",
    "Problem2 = {}\n",
    "Problem2['z'] = []\n",
    "Problem2['ans0'] = []\n",
    "for i in enumerate(t):\n",
    "#     print i[1]\n",
    "    ans0, err = quad(r, 0, i[1])\n",
    "    Problem2['z'].append(i[0])\n",
    "    Problem2['ans0'].append(ans0)\n",
    "#     print i[0],ans0"
   ]
  },
  {
   "cell_type": "code",
   "execution_count": 339,
   "metadata": {
    "collapsed": false
   },
   "outputs": [
    {
     "data": {
      "text/plain": [
       "<matplotlib.text.Text at 0x18d93978>"
      ]
     },
     "execution_count": 339,
     "metadata": {},
     "output_type": "execute_result"
    },
    {
     "data": {
      "image/png": "[encoded data removed]",
      "text/plain": [
       "<matplotlib.figure.Figure at 0xf7eb240>"
      ]
     },
     "metadata": {},
     "output_type": "display_data"
    }
   ],
   "source": [
    "plt.plot(Problem2['z'], Problem2['ans0'] )\n",
    "fig = plt.gcf()\n",
    "fig.set_size_inches(7, 4)\n",
    "plt.xlabel('z (unitless)')\n",
    "plt.ylabel('r(z) (Mpc)')\n",
    "plt.title('Comoving Distance vs. z for Flat Universe')"
   ]
  },
  {
   "cell_type": "markdown",
   "metadata": {},
   "source": [
    "Had an issue with the linspace code which is affecting the scaling of the x-axis. The graph says that z is 0 to 100 when it is in fact 0 to 10. Was unable to fix it."
   ]
  },
  {
   "cell_type": "markdown",
   "metadata": {},
   "source": [
    "a) part 2"
   ]
  },
  {
   "cell_type": "markdown",
   "metadata": {},
   "source": [
    "For this part I used the equation $t = \\int \\frac{1}{H(z) \\cdot (1+z)}$ from z = 0 to z = 10"
   ]
  },
  {
   "cell_type": "code",
   "execution_count": 371,
   "metadata": {
    "collapsed": false
   },
   "outputs": [
    {
     "name": "stdout",
     "output_type": "stream",
     "text": [
      "13.4753695511\n"
     ]
    }
   ],
   "source": [
    "def t(z):\n",
    "    result = Mpc*(1/(H(z)*(1+z)))/(3.154*(10**16)) #Multiplied by constants to get the answer in Gyr\n",
    "    return result\n",
    "ans, err = quad(t, 0, 1000)\n",
    "print ans"
   ]
  },
  {
   "cell_type": "code",
   "execution_count": 372,
   "metadata": {
    "collapsed": false
   },
   "outputs": [
    {
     "name": "stdout",
     "output_type": "stream",
     "text": [
      "2.26830848995e-18\n"
     ]
    }
   ],
   "source": [
    "h0 = 70 #units in km/s/Mpc\n",
    "Mpc = 3.086*(10**19) #number of kilometers in one Mpc\n",
    "h02 = h0/Mpc\n",
    "print h02"
   ]
  },
  {
   "cell_type": "code",
   "execution_count": 373,
   "metadata": {
    "collapsed": false
   },
   "outputs": [],
   "source": [
    "line = np.linspace(0, 10, num=100) \n",
    "\n",
    "Problem2 = {}\n",
    "Problem2['z'] = []\n",
    "Problem2['ans0'] = []\n",
    "for i in enumerate(line):\n",
    "#     print i[1]\n",
    "    ans0, err = quad(t, 0, i[1])\n",
    "    Problem2['z'].append(i[0])\n",
    "    Problem2['ans0'].append(ans0)\n",
    "#     print i[0],ans0"
   ]
  },
  {
   "cell_type": "code",
   "execution_count": 300,
   "metadata": {
    "collapsed": false
   },
   "outputs": [
    {
     "data": {
      "text/plain": [
       "<matplotlib.text.Text at 0x18790160>"
      ]
     },
     "execution_count": 300,
     "metadata": {},
     "output_type": "execute_result"
    },
    {
     "data": {
      "image/png": "[encoded data removed]",
      "text/plain": [
       "<matplotlib.figure.Figure at 0xfbd5908>"
      ]
     },
     "metadata": {},
     "output_type": "display_data"
    }
   ],
   "source": [
    "plt.plot(Problem2['z'], Problem2['ans0'] )\n",
    "fig = plt.gcf()\n",
    "fig.set_size_inches(7, 4)\n",
    "plt.xlabel('z (unitless)')\n",
    "plt.ylabel('t (Gyr)')\n",
    "plt.title('Age of Universe vs. z for Flat Universe')"
   ]
  },
  {
   "cell_type": "markdown",
   "metadata": {},
   "source": [
    "As before, still having an issue with linspace, the scaling of the x-axis should be z=0 and z=10."
   ]
  },
  {
   "cell_type": "markdown",
   "metadata": {},
   "source": [
    "b) part 1:"
   ]
  },
  {
   "cell_type": "code",
   "execution_count": 289,
   "metadata": {
    "collapsed": false
   },
   "outputs": [],
   "source": [
    "def H2(z):\n",
    "    h = 70\n",
    "    result = (h*(10*(1+z)**3 - 9*(1+z)**2)**(.5))\n",
    "    return result\n",
    "\n",
    "def r2(z):\n",
    "    c = 3*(10**5)\n",
    "    result = c / H2(z)\n",
    "    return result"
   ]
  },
  {
   "cell_type": "code",
   "execution_count": 290,
   "metadata": {
    "collapsed": false
   },
   "outputs": [],
   "source": [
    "line = np.linspace(0,10,100)\n",
    "\n",
    "Problem2 = {}\n",
    "Problem2['z'] = []\n",
    "Problem2['ans0'] = []\n",
    "for i in enumerate(line):\n",
    "#     print i[1]\n",
    "    ans0, err = quad(r2, 0, i[1])\n",
    "    Problem2['z'].append(i[0])\n",
    "    Problem2['ans0'].append(ans0)\n",
    "#     print i[0],ans0"
   ]
  },
  {
   "cell_type": "code",
   "execution_count": 291,
   "metadata": {
    "collapsed": false
   },
   "outputs": [
    {
     "data": {
      "text/plain": [
       "<matplotlib.text.Text at 0x180a4240>"
      ]
     },
     "execution_count": 291,
     "metadata": {},
     "output_type": "execute_result"
    },
    {
     "data": {
      "image/png": "[encoded data removed]",
      "text/plain": [
       "<matplotlib.figure.Figure at 0x17e474a8>"
      ]
     },
     "metadata": {},
     "output_type": "display_data"
    }
   ],
   "source": [
    "plt.plot(Problem2['z'], Problem2['ans0'])\n",
    "fig = plt.gcf()\n",
    "fig.set_size_inches(7, 4)\n",
    "plt.xlabel('z (unitless)')\n",
    "plt.ylabel('r(z) (Mpc)')\n",
    "plt.title('Comivng Distance vs. z for Closed Universe')"
   ]
  },
  {
   "cell_type": "markdown",
   "metadata": {},
   "source": [
    "b) part 2:"
   ]
  },
  {
   "cell_type": "code",
   "execution_count": 374,
   "metadata": {
    "collapsed": false
   },
   "outputs": [
    {
     "name": "stdout",
     "output_type": "stream",
     "text": [
      "4.91305199725\n"
     ]
    }
   ],
   "source": [
    "def t2(z):\n",
    "    result = Mpc*(1/(H2(z)*(1+z)))/(3.154*(10**16))\n",
    "    return result\n",
    "ans, err = quad(t2, 0, 1000)\n",
    "print ans"
   ]
  },
  {
   "cell_type": "code",
   "execution_count": 302,
   "metadata": {
    "collapsed": false
   },
   "outputs": [],
   "source": [
    "line = np.linspace(0, 1, num=100) \n",
    "\n",
    "Problem2 = {}\n",
    "Problem2['z'] = []\n",
    "Problem2['ans0'] = []\n",
    "for i in enumerate(line):\n",
    "#     print i[1]\n",
    "    ans0, err = quad(t2, 0, i[1])\n",
    "    Problem2['z'].append(i[0])\n",
    "    Problem2['ans0'].append(ans0)\n",
    "#     print i[0],ans0"
   ]
  },
  {
   "cell_type": "code",
   "execution_count": 303,
   "metadata": {
    "collapsed": false
   },
   "outputs": [
    {
     "data": {
      "text/plain": [
       "<matplotlib.text.Text at 0x18b38358>"
      ]
     },
     "execution_count": 303,
     "metadata": {},
     "output_type": "execute_result"
    },
    {
     "data": {
      "image/png": "[encoded data removed]",
      "text/plain": [
       "<matplotlib.figure.Figure at 0x1876d7f0>"
      ]
     },
     "metadata": {},
     "output_type": "display_data"
    }
   ],
   "source": [
    "plt.plot(Problem2['z'], Problem2['ans0'])\n",
    "fig = plt.gcf()\n",
    "fig.set_size_inches(7, 4)\n",
    "plt.xlabel('z (unitless)')\n",
    "plt.ylabel('t (Gyr)')\n",
    "plt.title('Age of Universe vs. z for Closed Universe')"
   ]
  },
  {
   "cell_type": "markdown",
   "metadata": {},
   "source": [
    "Again, all the graphs are from z = 0 to z = 10, sorry for the confusion!"
   ]
  },
  {
   "cell_type": "markdown",
   "metadata": {},
   "source": [
    "# Question 3:"
   ]
  },
  {
   "cell_type": "markdown",
   "metadata": {},
   "source": [
    "For a universe with just $\\Omega_r$ and where $\\Omega_m$ and $\\Omega_\\Lambda = 0$ we get $H(z) = H_0 \\cdot \\sqrt{\\Omega_r \\cdot (1+z)^4 + (1-\\Omega_r) \\cdot (1+z)^2}$ "
   ]
  },
  {
   "cell_type": "markdown",
   "metadata": {},
   "source": [
    "We calculate before that t(z) equals 13.01, therefore we can say that $\\int \\frac{1}{H(z) \\cdot (1+z)} = 13.475 Gyr$ when z = 0 and z = 10"
   ]
  },
  {
   "cell_type": "code",
   "execution_count": 367,
   "metadata": {
    "collapsed": false
   },
   "outputs": [],
   "source": [
    "def H3(z): #setting Omega_r = 0\n",
    "    h = 70\n",
    "    result = h*(1+z)\n",
    "    return result\n",
    "\n",
    "def t3(z):\n",
    "    result = (Mpc*1/(H3(z)*(1+z)))/(3.154*(10**16))\n",
    "    return result"
   ]
  },
  {
   "cell_type": "code",
   "execution_count": 375,
   "metadata": {
    "collapsed": false
   },
   "outputs": [
    {
     "name": "stdout",
     "output_type": "stream",
     "text": [
      "13.9637516211\n"
     ]
    }
   ],
   "source": [
    "ans, err = quad(t3, 0, 1000)\n",
    "print ans"
   ]
  },
  {
   "cell_type": "code",
   "execution_count": 453,
   "metadata": {
    "collapsed": false
   },
   "outputs": [],
   "source": [
    "def H4(z):\n",
    "    h = 70\n",
    "    result = h*((.001388639*(1+z)**4 + (1-.001388639)*(1+z)**2)**(.5))\n",
    "    return result\n",
    "\n",
    "def t4(z):\n",
    "    result = Mpc*(1/(H4(z)*(1+z)))/(3.154*(10**16))\n",
    "    return result"
   ]
  },
  {
   "cell_type": "code",
   "execution_count": 454,
   "metadata": {
    "collapsed": false
   },
   "outputs": [
    {
     "name": "stdout",
     "output_type": "stream",
     "text": [
      "13.4753690844\n"
     ]
    }
   ],
   "source": [
    "ans, err = quad(t4, 0, 1000)\n",
    "print ans"
   ]
  },
  {
   "cell_type": "markdown",
   "metadata": {},
   "source": [
    "After messing around with the above equations, I get an approximate value for $\\Omega_{r,0}$ to be about .001388639. "
   ]
  },
  {
   "cell_type": "code",
   "execution_count": null,
   "metadata": {
    "collapsed": true
   },
   "outputs": [],
   "source": []
  }
 ],
 "metadata": {
  "anaconda-cloud": {},
  "kernelspec": {
   "display_name": "Python [conda root]",
   "language": "python",
   "name": "conda-root-py"
  },
  "language_info": {
   "codemirror_mode": {
    "name": "ipython",
    "version": 2
   },
   "file_extension": ".py",
   "mimetype": "text/x-python",
   "name": "python",
   "nbconvert_exporter": "python",
   "pygments_lexer": "ipython2",
   "version": "2.7.12"
  }
 },
 "nbformat": 4,
 "nbformat_minor": 1
}
