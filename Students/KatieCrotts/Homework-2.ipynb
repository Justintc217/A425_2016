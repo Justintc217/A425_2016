{
 "cells": [
  {
   "cell_type": "code",
   "execution_count": 9,
   "metadata": {
    "collapsed": true
   },
   "outputs": [],
   "source": [
    "import numpy as np\n",
    "import matplotlib.pyplot as plt\n",
    "from scipy.integrate import odeint\n",
    "import scipy.special as special\n",
    "import astropy.units as u\n",
    "import warnings\n",
    "%matplotlib inline\n",
    "warnings.filterwarnings('ignore')"
   ]
  },
  {
   "cell_type": "markdown",
   "metadata": {},
   "source": [
    "Question #1:"
   ]
  },
  {
   "cell_type": "code",
   "execution_count": 25,
   "metadata": {
    "collapsed": false
   },
   "outputs": [],
   "source": [
    "R = 7*(10**8) #radius of stars in meters\n",
    "p = 10**9 #density of stars in Mpc^-3"
   ]
  },
  {
   "cell_type": "code",
   "execution_count": 29,
   "metadata": {
    "collapsed": false
   },
   "outputs": [
    {
     "name": "stdout",
     "output_type": "stream",
     "text": [
      "1.53938040026e+18\n"
     ]
    }
   ],
   "source": [
    "cs = np.pi*(R**2) #cross section of the a star of radius R\n",
    "print cs #cross section is in m^2"
   ]
  },
  {
   "cell_type": "code",
   "execution_count": 34,
   "metadata": {
    "collapsed": false
   },
   "outputs": [
    {
     "name": "stdout",
     "output_type": "stream",
     "text": [
      "1.61641960521e-27\n"
     ]
    }
   ],
   "source": [
    "Mpc2 = 3.086*(10**22) #number of meters in one Mpc\n",
    "cs2 = cs / (Mpc2**2) #cs2 is cs in Mpc instead of meters\n",
    "print cs2"
   ]
  },
  {
   "cell_type": "code",
   "execution_count": 35,
   "metadata": {
    "collapsed": false
   },
   "outputs": [
    {
     "name": "stdout",
     "output_type": "stream",
     "text": [
      "6.18651244254e+17\n"
     ]
    }
   ],
   "source": [
    "l = 1 / (p*cs2) #l is the mean free path which will give us our final answer\n",
    "print l"
   ]
  },
  {
   "cell_type": "markdown",
   "metadata": {},
   "source": [
    "Therefore the distance at which any line-of-sight will intersect the surface of the star is 6.18 x 10^17 Mpc."
   ]
  },
  {
   "cell_type": "markdown",
   "metadata": {},
   "source": [
    "Question #2:"
   ]
  },
  {
   "cell_type": "code",
   "execution_count": 12,
   "metadata": {
    "collapsed": false
   },
   "outputs": [
    {
     "name": "stdout",
     "output_type": "stream",
     "text": [
      "599.584916\n"
     ]
    }
   ],
   "source": [
    "H0 = 70 #today's calculated H0 in km/s/Mpc\n",
    "H01 = 500 #H0 calculated by Edwin Hubble in km/s/Mpc\n",
    "c = 299792.458 #units in km/s\n",
    "z = .002 #example redshift\n",
    "v = z*c #in km/s\n",
    "print v"
   ]
  },
  {
   "cell_type": "code",
   "execution_count": 3,
   "metadata": {
    "collapsed": false
   },
   "outputs": [
    {
     "name": "stdout",
     "output_type": "stream",
     "text": [
      "1.199169832\n"
     ]
    }
   ],
   "source": [
    "D = v / H01 #Distance to Cephied star using Hubbles calculated H0 in Mpc using example redshift\n",
    "print D"
   ]
  },
  {
   "cell_type": "code",
   "execution_count": 22,
   "metadata": {
    "collapsed": false
   },
   "outputs": [
    {
     "name": "stdout",
     "output_type": "stream",
     "text": [
      "8.5654988\n",
      "0.14\n"
     ]
    }
   ],
   "source": [
    "D2 = v / H0 #Distance using todays calculated H0 in Mpc using example redshift\n",
    "print D2\n",
    "Dratio = D/D2\n",
    "print Dratio"
   ]
  },
  {
   "cell_type": "code",
   "execution_count": 5,
   "metadata": {
    "collapsed": false
   },
   "outputs": [
    {
     "name": "stdout",
     "output_type": "stream",
     "text": [
      "86.0\n"
     ]
    }
   ],
   "source": [
    "Error = ((D2 - D) / D2)*100 #in percentage\n",
    "print Error"
   ]
  },
  {
   "cell_type": "markdown",
   "metadata": {},
   "source": [
    "This means Hubble had an 86 percentage error in calculating distance"
   ]
  },
  {
   "cell_type": "code",
   "execution_count": 11,
   "metadata": {
    "collapsed": false
   },
   "outputs": [
    {
     "name": "stdout",
     "output_type": "stream",
     "text": [
      "1.62022034997e-17\n"
     ]
    }
   ],
   "source": [
    "Mpc = 3.086*(10**19) #number of kilometers in one Mpc\n",
    "H02 = H01/Mpc\n",
    "print H02"
   ]
  },
  {
   "cell_type": "code",
   "execution_count": 7,
   "metadata": {
    "collapsed": false
   },
   "outputs": [
    {
     "name": "stdout",
     "output_type": "stream",
     "text": [
      "6.172e+16\n",
      "1956880152.19\n"
     ]
    }
   ],
   "source": [
    "t = 1 / H02 #age of universe in seconds\n",
    "print t\n",
    "tyrs = t / (3.154*(10**7)) #converting seconds to years\n",
    "print tyrs"
   ]
  },
  {
   "cell_type": "markdown",
   "metadata": {},
   "source": [
    "For an H0 = 500 km/s/Mpc we get the age of the universe to be 1.96 Gyr instead of 13.7. Therefore, to compensate for the extra 11.74 Gyrs, the universe would have to be deccelerating to reach the size it would be at 1.96 Gyrs if the universe were expanding at a constant rate. "
   ]
  },
  {
   "cell_type": "markdown",
   "metadata": {},
   "source": [
    "Question #3:\n",
    "Ryden 3.2"
   ]
  },
  {
   "cell_type": "markdown",
   "metadata": {},
   "source": [
    "On the surface of a sphere of radius r, the path segment ds is defined by the equation \n",
    "ds^2 = dr^2 + R^2 * sin^2(r/R) * dtheta^2. \n",
    "In this case theta is the angular width. Because the object is perpendicular to our line of sight in the theta direction, we can ignore dr^2."
   ]
  },
  {
   "cell_type": "markdown",
   "metadata": {},
   "source": [
    "We can then take the square root of both sides which gives us ds = Rsin(r/R) * dtheta. Solving for dtheta we get dtheta = ds / [Rsin(r/R)]"
   ]
  },
  {
   "cell_type": "markdown",
   "metadata": {},
   "source": [
    "Substituting r --> piR we get ds/[Rsin(piR/R)] = ds/[Rsin(pi)] which equals infinity. Therefore as r goes to piR dtheta blows up."
   ]
  },
  {
   "cell_type": "markdown",
   "metadata": {},
   "source": [
    "Question #4:"
   ]
  },
  {
   "cell_type": "code",
   "execution_count": 13,
   "metadata": {
    "collapsed": false
   },
   "outputs": [],
   "source": [
    "def a2(a,t): #Defining a' which I am calling a2\n",
    "    result = (H0*a**(-1.5)) #got this equation by just taking the square root of both sides\n",
    "    return result\n",
    "\n",
    "t = np.linspace(0, 10, 10000)\n",
    "\n",
    "solution = odeint(a2, 1, t)"
   ]
  },
  {
   "cell_type": "markdown",
   "metadata": {
    "collapsed": true
   },
   "source": [
    "I then solved the equation a' = H0a^(-3/2) by hand. To this I first divided both sides by a^(-3/2) then multiplied both sides by dt. This gives us a^(3/2)da = H0dt."
   ]
  },
  {
   "cell_type": "markdown",
   "metadata": {},
   "source": [
    "I can now take the integral of both sides. This gives (2/5)a^(5/2) = H0t. I can then times both sides by 5/2 which gives a^(5/2) = (5/2)H0t. And finally I can take both sides to the 2/5th power to get my final answer which is a = [(5/2)H0t]^2/5"
   ]
  },
  {
   "cell_type": "code",
   "execution_count": 36,
   "metadata": {
    "collapsed": true
   },
   "outputs": [],
   "source": [
    "def a(t): #defining the function of a(t) that I found\n",
    "    return (2.5*70*t)**(.4)"
   ]
  },
  {
   "cell_type": "code",
   "execution_count": 21,
   "metadata": {
    "collapsed": false
   },
   "outputs": [
    {
     "data": {
      "text/plain": [
       "<matplotlib.text.Text at 0xbd19eb8>"
      ]
     },
     "execution_count": 21,
     "metadata": {},
     "output_type": "execute_result"
    },
    {
     "data": {
      "image/png": "[encoded data removed]",
      "text/plain": [
       "<matplotlib.figure.Figure at 0xb844c50>"
      ]
     },
     "metadata": {},
     "output_type": "display_data"
    }
   ],
   "source": [
    "plt.plot(t, a(t))\n",
    "plt.plot(t, solution)\n",
    "fig = plt.gcf()\n",
    "fig.set_size_inches(8, 5)\n",
    "plt.xlabel('t (seconds)')\n",
    "plt.ylabel('a(t) (km/Mpc)')\n",
    "plt.title('Scale Factor a(t) vs Time')"
   ]
  },
  {
   "cell_type": "markdown",
   "metadata": {},
   "source": [
    "Both functions overlay eachother perfectly and therefore are hard to distinguish in this graph."
   ]
  },
  {
   "cell_type": "code",
   "execution_count": null,
   "metadata": {
    "collapsed": true
   },
   "outputs": [],
   "source": []
  }
 ],
 "metadata": {
  "anaconda-cloud": {},
  "kernelspec": {
   "display_name": "Python [conda root]",
   "language": "python",
   "name": "conda-root-py"
  },
  "language_info": {
   "codemirror_mode": {
    "name": "ipython",
    "version": 2
   },
   "file_extension": ".py",
   "mimetype": "text/x-python",
   "name": "python",
   "nbconvert_exporter": "python",
   "pygments_lexer": "ipython2",
   "version": "2.7.12"
  }
 },
 "nbformat": 4,
 "nbformat_minor": 1
}
