{
 "cells": [
  {
   "cell_type": "markdown",
   "metadata": {},
   "source": [
    "Each post here (including this one) is an ipython notebook. To view a static version of the notebook (with the code and figures embedded) simply click on *\"Read more...\"*. \n",
    "\n",
    "<!-- TEASER_END -->\n",
    "\n",
    "To download the notebook to your machine, click on *Source* (in the top right corner) and save the notebook to your harddrive. To run the notebook (assuming you have followed the [instructions](http://connolly.github.io/introAstroML/#instructions) simply type in the directory where you saved the notebook,\n",
    "\n",
    "    jupyter notebook [notebook name.ipynb]\n",
    "and a page will come up in your browser with the notebook\n",
    "\n",
    "shift-return in each cell in the notebook will execute the code."
   ]
  },
  {
   "cell_type": "code",
   "execution_count": 10,
   "metadata": {
    "collapsed": false
   },
   "outputs": [],
   "source": [
    "import numpy as np\n",
    "import matplotlib.pyplot as plt\n",
    "%matplotlib inline"
   ]
  },
  {
   "cell_type": "code",
   "execution_count": 2,
   "metadata": {
    "collapsed": false
   },
   "outputs": [
    {
     "name": "stdout",
     "output_type": "stream",
     "text": [
      "8\n"
     ]
    }
   ],
   "source": [
    "z01 = 1\n",
    "z12 = 3\n",
    "z02 = (1+z01)*(1+z12)\n",
    "print z02"
   ]
  },
  {
   "cell_type": "code",
   "execution_count": 3,
   "metadata": {
    "collapsed": false
   },
   "outputs": [
    {
     "name": "stdout",
     "output_type": "stream",
     "text": [
      "ayyyyy\n"
     ]
    }
   ],
   "source": [
    "print \"ayyyyy\""
   ]
  },
  {
   "cell_type": "code",
   "execution_count": 7,
   "metadata": {
    "collapsed": false
   },
   "outputs": [
    {
     "name": "stdout",
     "output_type": "stream",
     "text": [
      "1\n"
     ]
    }
   ],
   "source": [
    "x = 5\n",
    "y = 1\n",
    "z = y % x\n",
    "print z\n"
   ]
  },
  {
   "cell_type": "code",
   "execution_count": 8,
   "metadata": {
    "collapsed": false
   },
   "outputs": [
    {
     "name": "stdout",
     "output_type": "stream",
     "text": [
      "5\n"
     ]
    }
   ],
   "source": [
    "h = x / y\n",
    "print h"
   ]
  },
  {
   "cell_type": "code",
   "execution_count": 11,
   "metadata": {
    "collapsed": false
   },
   "outputs": [
    {
     "name": "stdout",
     "output_type": "stream",
     "text": [
      "[ 0.36655395  0.46761322  0.54238064  0.5914257   0.62543268  0.66333769\n",
      "  0.69132455  0.71820021  0.74790156]\n"
     ]
    }
   ],
   "source": [
    "c = 299792458\n",
    "cmeas = np.array([109890109.9, 140186915.9, 162601626, 177304964.5, 187500000, 198863636.4, 207253886, 215311004.8, 224215246.6]) \n",
    "cfin = cmeas/c\n",
    "print cfin"
   ]
  },
  {
   "cell_type": "code",
   "execution_count": null,
   "metadata": {
    "collapsed": true
   },
   "outputs": [],
   "source": []
  }
 ],
 "metadata": {
  "anaconda-cloud": {},
  "kernelspec": {
   "display_name": "Python [default]",
   "language": "python",
   "name": "python2"
  },
  "language_info": {
   "codemirror_mode": {
    "name": "ipython",
    "version": 2
   },
   "file_extension": ".py",
   "mimetype": "text/x-python",
   "name": "python",
   "nbconvert_exporter": "python",
   "pygments_lexer": "ipython2",
   "version": "2.7.12"
  }
 },
 "nbformat": 4,
 "nbformat_minor": 0
}
